{
 "cells": [
  {
   "cell_type": "markdown",
   "id": "8ad976db-fb87-4a92-b0d2-06defc098339",
   "metadata": {},
   "source": [
    "# Lesson 5: Human in the Loop"
   ]
  },
  {
   "cell_type": "markdown",
   "id": "91d756c3-9c97-4155-9b56-8ecfed5f1876",
   "metadata": {},
   "source": [
    "Note: This notebook is running in a later version of langgraph that it was filmed with. The later version has a couple of key additions:\n",
    "- Additional state information is stored to memory and displayed when using `get_state()` or `get_state_history()`.\n",
    "- State is additionally stored every state transition while previously it was stored at an interrupt or at the end.\n",
    "These change the command output slightly, but are a useful addtion to the information available."
   ]
  },
  {
   "cell_type": "code",
   "execution_count": 1,
   "id": "f5762271-8736-4e94-9444-8c92bd0e8074",
   "metadata": {
    "height": 64
   },
   "outputs": [],
   "source": [
    "from dotenv import load_dotenv\n",
    "\n",
    "_ = load_dotenv()"
   ]
  },
  {
   "cell_type": "code",
   "execution_count": 2,
   "id": "d0168aee-bce9-4d60-b827-f86a88187e31",
   "metadata": {
    "height": 181
   },
   "outputs": [],
   "source": [
    "from langgraph.graph import StateGraph, END\n",
    "from typing import TypedDict, Annotated\n",
    "import operator\n",
    "from langchain_core.messages import AnyMessage, SystemMessage, HumanMessage, ToolMessage\n",
    "from langchain_openai import ChatOpenAI\n",
    "from langchain_community.tools.tavily_search import TavilySearchResults\n",
    "from langgraph.checkpoint.sqlite import SqliteSaver\n",
    "\n",
    "memory = SqliteSaver.from_conn_string(\":memory:\")"
   ]
  },
  {
   "cell_type": "code",
   "execution_count": 3,
   "id": "2589c5b6-6cc2-4594-9a17-dccdcf676054",
   "metadata": {
    "height": 572
   },
   "outputs": [],
   "source": [
    "from uuid import uuid4\n",
    "from langchain_core.messages import AnyMessage, SystemMessage, HumanMessage, AIMessage\n",
    "\n",
    "\"\"\"\n",
    "In previous examples we've annotated the `messages` state key\n",
    "with the default `operator.add` or `+` reducer, which always\n",
    "appends new messages to the end of the existing messages array.\n",
    "\n",
    "Now, to support replacing existing messages, we annotate the\n",
    "`messages` key with a customer reducer function, which replaces\n",
    "messages with the same `id`, and appends them otherwise.\n",
    "\"\"\"\n",
    "def reduce_messages(left: list[AnyMessage], right: list[AnyMessage]) -> list[AnyMessage]:\n",
    "    # assign ids to messages that don't have them\n",
    "    for message in right:\n",
    "        if not message.id:\n",
    "            message.id = str(uuid4())\n",
    "    # merge the new messages with the existing messages\n",
    "    merged = left.copy()\n",
    "    for message in right:\n",
    "        for i, existing in enumerate(merged):\n",
    "            # replace any existing messages with the same id\n",
    "            if existing.id == message.id:\n",
    "                merged[i] = message\n",
    "                break\n",
    "        else:\n",
    "            # append any new messages to the end\n",
    "            merged.append(message)\n",
    "    return merged\n",
    "\n",
    "class AgentState(TypedDict):\n",
    "    messages: Annotated[list[AnyMessage], reduce_messages]"
   ]
  },
  {
   "cell_type": "code",
   "execution_count": 4,
   "id": "a2ba84ec-c172-4de7-ac55-e3158a531b23",
   "metadata": {
    "height": 30
   },
   "outputs": [],
   "source": [
    "tool = TavilySearchResults(max_results=2)"
   ]
  },
  {
   "cell_type": "markdown",
   "id": "d58320dc-c542-4a3c-bcf1-088909f9b075",
   "metadata": {},
   "source": [
    "## Manual human approval"
   ]
  },
  {
   "cell_type": "code",
   "execution_count": 6,
   "id": "46a0e94e-d015-4106-b439-dbcd2fcb8bb0",
   "metadata": {
    "height": 657
   },
   "outputs": [],
   "source": [
    "class Agent:\n",
    "    def __init__(self, model, tools, system=\"\", checkpointer=None):\n",
    "        self.system = system\n",
    "        graph = StateGraph(AgentState)\n",
    "        graph.add_node(\"llm\", self.call_openai)\n",
    "        graph.add_node(\"action\", self.take_action)\n",
    "        graph.add_conditional_edges(\"llm\", self.exists_action, {True: \"action\", False: END})\n",
    "        graph.add_edge(\"action\", \"llm\")\n",
    "        graph.set_entry_point(\"llm\")\n",
    "        self.graph = graph.compile(\n",
    "            checkpointer=checkpointer,\n",
    "            interrupt_before=[\"action\"]\n",
    "        )\n",
    "        self.tools = {t.name: t for t in tools}\n",
    "        self.model = model.bind_tools(tools)\n",
    "\n",
    "    def call_openai(self, state: AgentState):\n",
    "        messages = state['messages']\n",
    "        if self.system:\n",
    "            messages = [SystemMessage(content=self.system)] + messages\n",
    "        message = self.model.invoke(messages)\n",
    "        return {'messages': [message]}\n",
    "\n",
    "    def exists_action(self, state: AgentState):\n",
    "        print(state)\n",
    "        result = state['messages'][-1]\n",
    "        return len(result.tool_calls) > 0\n",
    "\n",
    "    def take_action(self, state: AgentState):\n",
    "        tool_calls = state['messages'][-1].tool_calls\n",
    "        results = []\n",
    "        for t in tool_calls:\n",
    "            print(f\"Calling: {t}\")\n",
    "            result = self.tools[t['name']].invoke(t['args'])\n",
    "            results.append(ToolMessage(tool_call_id=t['id'], name=t['name'], content=str(result)))\n",
    "        print(\"Back to the model!\")\n",
    "        return {'messages': results}"
   ]
  },
  {
   "cell_type": "code",
   "execution_count": 7,
   "id": "10084a02-2928-4945-9f7c-ad3f5b33caf7",
   "metadata": {
    "height": 147
   },
   "outputs": [],
   "source": [
    "prompt = \"\"\"You are a smart research assistant. Use the search engine to look up information. \\\n",
    "You are allowed to make multiple calls (either together or in sequence). \\\n",
    "Only look up information when you are sure of what you want. \\\n",
    "If you need to look up some information before asking a follow up question, you are allowed to do that!\n",
    "\"\"\"\n",
    "model = ChatOpenAI(model=\"gpt-3.5-turbo\")\n",
    "abot = Agent(model, [tool], system=prompt, checkpointer=memory)"
   ]
  },
  {
   "cell_type": "code",
   "execution_count": 8,
   "id": "714d1205-f8fc-4912-b148-2a45da99219c",
   "metadata": {
    "height": 98
   },
   "outputs": [
    {
     "name": "stdout",
     "output_type": "stream",
     "text": [
      "{'messages': [HumanMessage(content='Whats the weather in SF?', id='14957df6-fe03-42f5-8988-363521d0d4ae'), AIMessage(content='', additional_kwargs={'tool_calls': [{'id': 'call_NEAkYwfQZN9OzPavi4IEsOsr', 'function': {'arguments': '{\"query\":\"current weather in San Francisco\"}', 'name': 'tavily_search_results_json'}, 'type': 'function'}]}, response_metadata={'token_usage': {'completion_tokens': 22, 'prompt_tokens': 152, 'total_tokens': 174, 'prompt_tokens_details': {'cached_tokens': 0, 'audio_tokens': 0}, 'completion_tokens_details': {'reasoning_tokens': 0, 'audio_tokens': 0, 'accepted_prediction_tokens': 0, 'rejected_prediction_tokens': 0}}, 'model_name': 'gpt-3.5-turbo', 'system_fingerprint': None, 'finish_reason': 'tool_calls', 'logprobs': None}, id='run-2d83ced6-50ae-45b9-973f-0b7484acdbbc-0', tool_calls=[{'name': 'tavily_search_results_json', 'args': {'query': 'current weather in San Francisco'}, 'id': 'call_NEAkYwfQZN9OzPavi4IEsOsr'}])]}\n",
      "{'messages': [AIMessage(content='', additional_kwargs={'tool_calls': [{'id': 'call_NEAkYwfQZN9OzPavi4IEsOsr', 'function': {'arguments': '{\"query\":\"current weather in San Francisco\"}', 'name': 'tavily_search_results_json'}, 'type': 'function'}]}, response_metadata={'token_usage': {'completion_tokens': 22, 'prompt_tokens': 152, 'total_tokens': 174, 'prompt_tokens_details': {'cached_tokens': 0, 'audio_tokens': 0}, 'completion_tokens_details': {'reasoning_tokens': 0, 'audio_tokens': 0, 'accepted_prediction_tokens': 0, 'rejected_prediction_tokens': 0}}, 'model_name': 'gpt-3.5-turbo', 'system_fingerprint': None, 'finish_reason': 'tool_calls', 'logprobs': None}, id='run-2d83ced6-50ae-45b9-973f-0b7484acdbbc-0', tool_calls=[{'name': 'tavily_search_results_json', 'args': {'query': 'current weather in San Francisco'}, 'id': 'call_NEAkYwfQZN9OzPavi4IEsOsr'}])]}\n"
     ]
    }
   ],
   "source": [
    "messages = [HumanMessage(content=\"Whats the weather in SF?\")]\n",
    "thread = {\"configurable\": {\"thread_id\": \"1\"}}\n",
    "for event in abot.graph.stream({\"messages\": messages}, thread):\n",
    "    for v in event.values():\n",
    "        print(v)"
   ]
  },
  {
   "cell_type": "code",
   "execution_count": 9,
   "id": "83588e70-254f-4f83-a510-c8ae81e729b0",
   "metadata": {
    "height": 30
   },
   "outputs": [
    {
     "data": {
      "text/plain": [
       "StateSnapshot(values={'messages': [HumanMessage(content='Whats the weather in SF?', id='14957df6-fe03-42f5-8988-363521d0d4ae'), AIMessage(content='', additional_kwargs={'tool_calls': [{'function': {'arguments': '{\"query\":\"current weather in San Francisco\"}', 'name': 'tavily_search_results_json'}, 'id': 'call_NEAkYwfQZN9OzPavi4IEsOsr', 'type': 'function'}]}, response_metadata={'finish_reason': 'tool_calls', 'logprobs': None, 'model_name': 'gpt-3.5-turbo', 'system_fingerprint': None, 'token_usage': {'completion_tokens': 22, 'completion_tokens_details': {'accepted_prediction_tokens': 0, 'audio_tokens': 0, 'reasoning_tokens': 0, 'rejected_prediction_tokens': 0}, 'prompt_tokens': 152, 'prompt_tokens_details': {'audio_tokens': 0, 'cached_tokens': 0}, 'total_tokens': 174}}, id='run-2d83ced6-50ae-45b9-973f-0b7484acdbbc-0', tool_calls=[{'name': 'tavily_search_results_json', 'args': {'query': 'current weather in San Francisco'}, 'id': 'call_NEAkYwfQZN9OzPavi4IEsOsr'}])]}, next=('action',), config={'configurable': {'thread_id': '1', 'thread_ts': '1efa4d8d-9a16-61f5-8001-e5227e0fd40e'}}, metadata={'source': 'loop', 'step': 1, 'writes': {'llm': {'messages': [AIMessage(content='', additional_kwargs={'tool_calls': [{'function': {'arguments': '{\"query\":\"current weather in San Francisco\"}', 'name': 'tavily_search_results_json'}, 'id': 'call_NEAkYwfQZN9OzPavi4IEsOsr', 'type': 'function'}]}, response_metadata={'finish_reason': 'tool_calls', 'logprobs': None, 'model_name': 'gpt-3.5-turbo', 'system_fingerprint': None, 'token_usage': {'completion_tokens': 22, 'completion_tokens_details': {'accepted_prediction_tokens': 0, 'audio_tokens': 0, 'reasoning_tokens': 0, 'rejected_prediction_tokens': 0}, 'prompt_tokens': 152, 'prompt_tokens_details': {'audio_tokens': 0, 'cached_tokens': 0}, 'total_tokens': 174}}, id='run-2d83ced6-50ae-45b9-973f-0b7484acdbbc-0', tool_calls=[{'name': 'tavily_search_results_json', 'args': {'query': 'current weather in San Francisco'}, 'id': 'call_NEAkYwfQZN9OzPavi4IEsOsr'}])]}}}, created_at='2024-11-17T11:41:14.289792+00:00', parent_config={'configurable': {'thread_id': '1', 'thread_ts': '1efa4d8d-99a0-6cc2-8000-825ed4224a65'}})"
      ]
     },
     "execution_count": 9,
     "metadata": {},
     "output_type": "execute_result"
    }
   ],
   "source": [
    "abot.graph.get_state(thread)"
   ]
  },
  {
   "cell_type": "code",
   "execution_count": 10,
   "id": "6cb3ef4c-58b3-401b-b104-0d51e553d982",
   "metadata": {
    "height": 30
   },
   "outputs": [
    {
     "data": {
      "text/plain": [
       "('action',)"
      ]
     },
     "execution_count": 10,
     "metadata": {},
     "output_type": "execute_result"
    }
   ],
   "source": [
    "abot.graph.get_state(thread).next"
   ]
  },
  {
   "cell_type": "markdown",
   "id": "f1f404d5-a3be-42c1-9990-b1e1ee011163",
   "metadata": {},
   "source": [
    "### continue after interrupt"
   ]
  },
  {
   "cell_type": "code",
   "execution_count": 11,
   "id": "dc3293b7-a50c-43c8-a022-8975e1e444b8",
   "metadata": {
    "height": 64
   },
   "outputs": [
    {
     "name": "stdout",
     "output_type": "stream",
     "text": [
      "Calling: {'name': 'tavily_search_results_json', 'args': {'query': 'current weather in San Francisco'}, 'id': 'call_NEAkYwfQZN9OzPavi4IEsOsr'}\n",
      "Back to the model!\n",
      "{'messages': [ToolMessage(content='[{\\'url\\': \\'https://www.weatherapi.com/\\', \\'content\\': \"{\\'location\\': {\\'name\\': \\'San Francisco\\', \\'region\\': \\'California\\', \\'country\\': \\'United States of America\\', \\'lat\\': 37.775, \\'lon\\': -122.4183, \\'tz_id\\': \\'America/Los_Angeles\\', \\'localtime_epoch\\': 1731843583, \\'localtime\\': \\'2024-11-17 03:39\\'}, \\'current\\': {\\'last_updated_epoch\\': 1731843000, \\'last_updated\\': \\'2024-11-17 03:30\\', \\'temp_c\\': 8.9, \\'temp_f\\': 48.0, \\'is_day\\': 0, \\'condition\\': {\\'text\\': \\'Clear\\', \\'icon\\': \\'//cdn.weatherapi.com/weather/64x64/night/113.png\\', \\'code\\': 1000}, \\'wind_mph\\': 3.8, \\'wind_kph\\': 6.1, \\'wind_degree\\': 150, \\'wind_dir\\': \\'SSE\\', \\'pressure_mb\\': 1019.0, \\'pressure_in\\': 30.08, \\'precip_mm\\': 0.0, \\'precip_in\\': 0.0, \\'humidity\\': 77, \\'cloud\\': 0, \\'feelslike_c\\': 8.2, \\'feelslike_f\\': 46.7, \\'windchill_c\\': 11.9, \\'windchill_f\\': 53.5, \\'heatindex_c\\': 11.7, \\'heatindex_f\\': 53.1, \\'dewpoint_c\\': 8.0, \\'dewpoint_f\\': 46.5, \\'vis_km\\': 16.0, \\'vis_miles\\': 9.0, \\'uv\\': 0.0, \\'gust_mph\\': 6.0, \\'gust_kph\\': 9.6}}\"}, {\\'url\\': \\'https://forecast.weather.gov/MapClick.php?lat=37.77493&lon=-122.419418\\', \\'content\\': \\'Current conditions at SAN FRANCISCO DOWNTOWN (SFOC1) Lat: 37.77056°NLon: 122.42694°WElev: 150.0ft. NA. 57°F. 14°C. ... 5am PST Nov 11, 2024-6pm PST Nov 17, 2024 . Forecast Discussion . Additional Resources. ... National Weather Service; San Francisco Bay Area, CA; 21 Grace Hopper Ave, Stop 5; Monterey, CA 93943-5505; Comments? Questions?\\'}]', name='tavily_search_results_json', id='60f04933-e7a4-4015-87a9-56f15ae49801', tool_call_id='call_NEAkYwfQZN9OzPavi4IEsOsr')]}\n",
      "{'messages': [HumanMessage(content='Whats the weather in SF?', id='14957df6-fe03-42f5-8988-363521d0d4ae'), AIMessage(content='', additional_kwargs={'tool_calls': [{'function': {'arguments': '{\"query\":\"current weather in San Francisco\"}', 'name': 'tavily_search_results_json'}, 'id': 'call_NEAkYwfQZN9OzPavi4IEsOsr', 'type': 'function'}]}, response_metadata={'finish_reason': 'tool_calls', 'logprobs': None, 'model_name': 'gpt-3.5-turbo', 'system_fingerprint': None, 'token_usage': {'completion_tokens': 22, 'completion_tokens_details': {'accepted_prediction_tokens': 0, 'audio_tokens': 0, 'reasoning_tokens': 0, 'rejected_prediction_tokens': 0}, 'prompt_tokens': 152, 'prompt_tokens_details': {'audio_tokens': 0, 'cached_tokens': 0}, 'total_tokens': 174}}, id='run-2d83ced6-50ae-45b9-973f-0b7484acdbbc-0', tool_calls=[{'name': 'tavily_search_results_json', 'args': {'query': 'current weather in San Francisco'}, 'id': 'call_NEAkYwfQZN9OzPavi4IEsOsr'}]), ToolMessage(content='[{\\'url\\': \\'https://www.weatherapi.com/\\', \\'content\\': \"{\\'location\\': {\\'name\\': \\'San Francisco\\', \\'region\\': \\'California\\', \\'country\\': \\'United States of America\\', \\'lat\\': 37.775, \\'lon\\': -122.4183, \\'tz_id\\': \\'America/Los_Angeles\\', \\'localtime_epoch\\': 1731843583, \\'localtime\\': \\'2024-11-17 03:39\\'}, \\'current\\': {\\'last_updated_epoch\\': 1731843000, \\'last_updated\\': \\'2024-11-17 03:30\\', \\'temp_c\\': 8.9, \\'temp_f\\': 48.0, \\'is_day\\': 0, \\'condition\\': {\\'text\\': \\'Clear\\', \\'icon\\': \\'//cdn.weatherapi.com/weather/64x64/night/113.png\\', \\'code\\': 1000}, \\'wind_mph\\': 3.8, \\'wind_kph\\': 6.1, \\'wind_degree\\': 150, \\'wind_dir\\': \\'SSE\\', \\'pressure_mb\\': 1019.0, \\'pressure_in\\': 30.08, \\'precip_mm\\': 0.0, \\'precip_in\\': 0.0, \\'humidity\\': 77, \\'cloud\\': 0, \\'feelslike_c\\': 8.2, \\'feelslike_f\\': 46.7, \\'windchill_c\\': 11.9, \\'windchill_f\\': 53.5, \\'heatindex_c\\': 11.7, \\'heatindex_f\\': 53.1, \\'dewpoint_c\\': 8.0, \\'dewpoint_f\\': 46.5, \\'vis_km\\': 16.0, \\'vis_miles\\': 9.0, \\'uv\\': 0.0, \\'gust_mph\\': 6.0, \\'gust_kph\\': 9.6}}\"}, {\\'url\\': \\'https://forecast.weather.gov/MapClick.php?lat=37.77493&lon=-122.419418\\', \\'content\\': \\'Current conditions at SAN FRANCISCO DOWNTOWN (SFOC1) Lat: 37.77056°NLon: 122.42694°WElev: 150.0ft. NA. 57°F. 14°C. ... 5am PST Nov 11, 2024-6pm PST Nov 17, 2024 . Forecast Discussion . Additional Resources. ... National Weather Service; San Francisco Bay Area, CA; 21 Grace Hopper Ave, Stop 5; Monterey, CA 93943-5505; Comments? Questions?\\'}]', name='tavily_search_results_json', id='60f04933-e7a4-4015-87a9-56f15ae49801', tool_call_id='call_NEAkYwfQZN9OzPavi4IEsOsr'), AIMessage(content='The current weather in San Francisco is as follows:\\n- Temperature: 48.0°F (8.9°C)\\n- Condition: Clear\\n- Wind: 3.8 mph (6.1 kph) from SSE\\n- Humidity: 77%\\n- Visibility: 9.0 miles (16.0 km)\\n- Pressure: 30.08 in\\n\\nIf you need more detailed information, I can look it up for you.', response_metadata={'token_usage': {'completion_tokens': 93, 'prompt_tokens': 749, 'total_tokens': 842, 'prompt_tokens_details': {'cached_tokens': 0, 'audio_tokens': 0}, 'completion_tokens_details': {'reasoning_tokens': 0, 'audio_tokens': 0, 'accepted_prediction_tokens': 0, 'rejected_prediction_tokens': 0}}, 'model_name': 'gpt-3.5-turbo', 'system_fingerprint': None, 'finish_reason': 'stop', 'logprobs': None}, id='run-71314b73-a415-4c73-b0ae-372f92ec2e54-0')]}\n",
      "{'messages': [AIMessage(content='The current weather in San Francisco is as follows:\\n- Temperature: 48.0°F (8.9°C)\\n- Condition: Clear\\n- Wind: 3.8 mph (6.1 kph) from SSE\\n- Humidity: 77%\\n- Visibility: 9.0 miles (16.0 km)\\n- Pressure: 30.08 in\\n\\nIf you need more detailed information, I can look it up for you.', response_metadata={'token_usage': {'completion_tokens': 93, 'prompt_tokens': 749, 'total_tokens': 842, 'prompt_tokens_details': {'cached_tokens': 0, 'audio_tokens': 0}, 'completion_tokens_details': {'reasoning_tokens': 0, 'audio_tokens': 0, 'accepted_prediction_tokens': 0, 'rejected_prediction_tokens': 0}}, 'model_name': 'gpt-3.5-turbo', 'system_fingerprint': None, 'finish_reason': 'stop', 'logprobs': None}, id='run-71314b73-a415-4c73-b0ae-372f92ec2e54-0')]}\n"
     ]
    }
   ],
   "source": [
    "for event in abot.graph.stream(None, thread):\n",
    "    for v in event.values():\n",
    "        print(v)"
   ]
  },
  {
   "cell_type": "code",
   "execution_count": 12,
   "id": "0722c3d4-4cbf-43bf-81b0-50f634c4ce61",
   "metadata": {
    "height": 30
   },
   "outputs": [
    {
     "data": {
      "text/plain": [
       "StateSnapshot(values={'messages': [HumanMessage(content='Whats the weather in SF?', id='14957df6-fe03-42f5-8988-363521d0d4ae'), AIMessage(content='', additional_kwargs={'tool_calls': [{'function': {'arguments': '{\"query\":\"current weather in San Francisco\"}', 'name': 'tavily_search_results_json'}, 'id': 'call_NEAkYwfQZN9OzPavi4IEsOsr', 'type': 'function'}]}, response_metadata={'finish_reason': 'tool_calls', 'logprobs': None, 'model_name': 'gpt-3.5-turbo', 'system_fingerprint': None, 'token_usage': {'completion_tokens': 22, 'completion_tokens_details': {'accepted_prediction_tokens': 0, 'audio_tokens': 0, 'reasoning_tokens': 0, 'rejected_prediction_tokens': 0}, 'prompt_tokens': 152, 'prompt_tokens_details': {'audio_tokens': 0, 'cached_tokens': 0}, 'total_tokens': 174}}, id='run-2d83ced6-50ae-45b9-973f-0b7484acdbbc-0', tool_calls=[{'name': 'tavily_search_results_json', 'args': {'query': 'current weather in San Francisco'}, 'id': 'call_NEAkYwfQZN9OzPavi4IEsOsr'}]), ToolMessage(content='[{\\'url\\': \\'https://www.weatherapi.com/\\', \\'content\\': \"{\\'location\\': {\\'name\\': \\'San Francisco\\', \\'region\\': \\'California\\', \\'country\\': \\'United States of America\\', \\'lat\\': 37.775, \\'lon\\': -122.4183, \\'tz_id\\': \\'America/Los_Angeles\\', \\'localtime_epoch\\': 1731843583, \\'localtime\\': \\'2024-11-17 03:39\\'}, \\'current\\': {\\'last_updated_epoch\\': 1731843000, \\'last_updated\\': \\'2024-11-17 03:30\\', \\'temp_c\\': 8.9, \\'temp_f\\': 48.0, \\'is_day\\': 0, \\'condition\\': {\\'text\\': \\'Clear\\', \\'icon\\': \\'//cdn.weatherapi.com/weather/64x64/night/113.png\\', \\'code\\': 1000}, \\'wind_mph\\': 3.8, \\'wind_kph\\': 6.1, \\'wind_degree\\': 150, \\'wind_dir\\': \\'SSE\\', \\'pressure_mb\\': 1019.0, \\'pressure_in\\': 30.08, \\'precip_mm\\': 0.0, \\'precip_in\\': 0.0, \\'humidity\\': 77, \\'cloud\\': 0, \\'feelslike_c\\': 8.2, \\'feelslike_f\\': 46.7, \\'windchill_c\\': 11.9, \\'windchill_f\\': 53.5, \\'heatindex_c\\': 11.7, \\'heatindex_f\\': 53.1, \\'dewpoint_c\\': 8.0, \\'dewpoint_f\\': 46.5, \\'vis_km\\': 16.0, \\'vis_miles\\': 9.0, \\'uv\\': 0.0, \\'gust_mph\\': 6.0, \\'gust_kph\\': 9.6}}\"}, {\\'url\\': \\'https://forecast.weather.gov/MapClick.php?lat=37.77493&lon=-122.419418\\', \\'content\\': \\'Current conditions at SAN FRANCISCO DOWNTOWN (SFOC1) Lat: 37.77056°NLon: 122.42694°WElev: 150.0ft. NA. 57°F. 14°C. ... 5am PST Nov 11, 2024-6pm PST Nov 17, 2024 . Forecast Discussion . Additional Resources. ... National Weather Service; San Francisco Bay Area, CA; 21 Grace Hopper Ave, Stop 5; Monterey, CA 93943-5505; Comments? Questions?\\'}]', name='tavily_search_results_json', id='60f04933-e7a4-4015-87a9-56f15ae49801', tool_call_id='call_NEAkYwfQZN9OzPavi4IEsOsr'), AIMessage(content='The current weather in San Francisco is as follows:\\n- Temperature: 48.0°F (8.9°C)\\n- Condition: Clear\\n- Wind: 3.8 mph (6.1 kph) from SSE\\n- Humidity: 77%\\n- Visibility: 9.0 miles (16.0 km)\\n- Pressure: 30.08 in\\n\\nIf you need more detailed information, I can look it up for you.', response_metadata={'finish_reason': 'stop', 'logprobs': None, 'model_name': 'gpt-3.5-turbo', 'system_fingerprint': None, 'token_usage': {'completion_tokens': 93, 'completion_tokens_details': {'accepted_prediction_tokens': 0, 'audio_tokens': 0, 'reasoning_tokens': 0, 'rejected_prediction_tokens': 0}, 'prompt_tokens': 749, 'prompt_tokens_details': {'audio_tokens': 0, 'cached_tokens': 0}, 'total_tokens': 842}}, id='run-71314b73-a415-4c73-b0ae-372f92ec2e54-0')]}, next=(), config={'configurable': {'thread_id': '1', 'thread_ts': '1efa4d93-758e-60ab-8003-5918a843706e'}}, metadata={'source': 'loop', 'step': 3, 'writes': {'llm': {'messages': [AIMessage(content='The current weather in San Francisco is as follows:\\n- Temperature: 48.0°F (8.9°C)\\n- Condition: Clear\\n- Wind: 3.8 mph (6.1 kph) from SSE\\n- Humidity: 77%\\n- Visibility: 9.0 miles (16.0 km)\\n- Pressure: 30.08 in\\n\\nIf you need more detailed information, I can look it up for you.', response_metadata={'finish_reason': 'stop', 'logprobs': None, 'model_name': 'gpt-3.5-turbo', 'system_fingerprint': None, 'token_usage': {'completion_tokens': 93, 'completion_tokens_details': {'accepted_prediction_tokens': 0, 'audio_tokens': 0, 'reasoning_tokens': 0, 'rejected_prediction_tokens': 0}, 'prompt_tokens': 749, 'prompt_tokens_details': {'audio_tokens': 0, 'cached_tokens': 0}, 'total_tokens': 842}}, id='run-71314b73-a415-4c73-b0ae-372f92ec2e54-0')]}}}, created_at='2024-11-17T11:43:51.520447+00:00', parent_config={'configurable': {'thread_id': '1', 'thread_ts': '1efa4d93-6840-6fca-8002-f890b0f04fa8'}})"
      ]
     },
     "execution_count": 12,
     "metadata": {},
     "output_type": "execute_result"
    }
   ],
   "source": [
    "abot.graph.get_state(thread)"
   ]
  },
  {
   "cell_type": "code",
   "execution_count": 13,
   "id": "6b2f82fe-3ec4-4917-be51-9fb10d1317fa",
   "metadata": {
    "height": 30
   },
   "outputs": [
    {
     "data": {
      "text/plain": [
       "()"
      ]
     },
     "execution_count": 13,
     "metadata": {},
     "output_type": "execute_result"
    }
   ],
   "source": [
    "abot.graph.get_state(thread).next"
   ]
  },
  {
   "cell_type": "code",
   "execution_count": 16,
   "id": "ee0fe1c7-77e2-499c-a2f9-1f739bb6ddf0",
   "metadata": {
    "height": 251
   },
   "outputs": [
    {
     "name": "stdout",
     "output_type": "stream",
     "text": [
      "{'messages': [HumanMessage(content='Whats the weather in LA?', id='6b72ab38-e2ca-4b89-99df-533d0e8df116'), AIMessage(content='', additional_kwargs={'tool_calls': [{'function': {'arguments': '{\"query\":\"weather in Los Angeles\"}', 'name': 'tavily_search_results_json'}, 'id': 'call_bIvwNh0esoy5L0I0ibfX6yyn', 'type': 'function'}]}, response_metadata={'finish_reason': 'tool_calls', 'logprobs': None, 'model_name': 'gpt-3.5-turbo', 'system_fingerprint': None, 'token_usage': {'completion_tokens': 21, 'completion_tokens_details': {'accepted_prediction_tokens': 0, 'audio_tokens': 0, 'reasoning_tokens': 0, 'rejected_prediction_tokens': 0}, 'prompt_tokens': 152, 'prompt_tokens_details': {'audio_tokens': 0, 'cached_tokens': 0}, 'total_tokens': 173}}, id='run-4a0ad7e1-98b4-43dc-b18c-16e525872ea9-0', tool_calls=[{'name': 'tavily_search_results_json', 'args': {'query': 'weather in Los Angeles'}, 'id': 'call_bIvwNh0esoy5L0I0ibfX6yyn'}]), ToolMessage(content='[{\\'url\\': \\'https://www.weatherapi.com/\\', \\'content\\': \"{\\'location\\': {\\'name\\': \\'Los Angeles\\', \\'region\\': \\'California\\', \\'country\\': \\'United States of America\\', \\'lat\\': 34.0522, \\'lon\\': -118.2428, \\'tz_id\\': \\'America/Los_Angeles\\', \\'localtime_epoch\\': 1731843870, \\'localtime\\': \\'2024-11-17 03:44\\'}, \\'current\\': {\\'last_updated_epoch\\': 1731843000, \\'last_updated\\': \\'2024-11-17 03:30\\', \\'temp_c\\': 8.3, \\'temp_f\\': 46.9, \\'is_day\\': 0, \\'condition\\': {\\'text\\': \\'Clear\\', \\'icon\\': \\'//cdn.weatherapi.com/weather/64x64/night/113.png\\', \\'code\\': 1000}, \\'wind_mph\\': 2.7, \\'wind_kph\\': 4.3, \\'wind_degree\\': 8, \\'wind_dir\\': \\'N\\', \\'pressure_mb\\': 1015.0, \\'pressure_in\\': 29.97, \\'precip_mm\\': 0.0, \\'precip_in\\': 0.0, \\'humidity\\': 56, \\'cloud\\': 0, \\'feelslike_c\\': 8.1, \\'feelslike_f\\': 46.5, \\'windchill_c\\': 9.3, \\'windchill_f\\': 48.7, \\'heatindex_c\\': 10.8, \\'heatindex_f\\': 51.5, \\'dewpoint_c\\': -4.9, \\'dewpoint_f\\': 23.2, \\'vis_km\\': 16.0, \\'vis_miles\\': 9.0, \\'uv\\': 0.0, \\'gust_mph\\': 4.5, \\'gust_kph\\': 7.3}}\"}, {\\'url\\': \\'https://www.weather.gov/lox/\\', \\'content\\': \\'Last Map Update: Fri, Nov 15, 2024 at 1:02:11 am PST Watches, Warnings & Advisories. Zoom Out. Gale Warning ... Wind Advisory. Frost Advisory . Text Product Selector (Selected product opens in current window) Hazards. Observations. Marine Weather. Fire Weather ... National Weather Service Los Angeles, CA 520 North Elevar Street Oxnard, CA 93030\\'}]', name='tavily_search_results_json', id='04375eda-aff5-4665-b779-99408b1592ca', tool_call_id='call_bIvwNh0esoy5L0I0ibfX6yyn'), AIMessage(content='The current weather in Los Angeles is clear with a temperature of 46.9°F (8.3°C). The wind speed is 4.3 km/h coming from the north. The humidity is at 56% with no precipitation.', response_metadata={'finish_reason': 'stop', 'logprobs': None, 'model_name': 'gpt-3.5-turbo', 'system_fingerprint': None, 'token_usage': {'completion_tokens': 50, 'completion_tokens_details': {'accepted_prediction_tokens': 0, 'audio_tokens': 0, 'reasoning_tokens': 0, 'rejected_prediction_tokens': 0}, 'prompt_tokens': 698, 'prompt_tokens_details': {'audio_tokens': 0, 'cached_tokens': 0}, 'total_tokens': 748}}, id='run-3486493a-b36d-4f07-9cbe-bbda62be9aa7-0'), HumanMessage(content='Whats the weather in Paris?', id='f1a5663f-da39-4a81-950b-aaffa68825b2'), AIMessage(content='', additional_kwargs={'tool_calls': [{'function': {'arguments': '{\"query\":\"weather in Paris\"}', 'name': 'tavily_search_results_json'}, 'id': 'call_ddNXkrFLFbLggrs0B15QSe50', 'type': 'function'}]}, response_metadata={'finish_reason': 'tool_calls', 'logprobs': None, 'model_name': 'gpt-3.5-turbo', 'system_fingerprint': None, 'token_usage': {'completion_tokens': 20, 'completion_tokens_details': {'accepted_prediction_tokens': 0, 'audio_tokens': 0, 'reasoning_tokens': 0, 'rejected_prediction_tokens': 0}, 'prompt_tokens': 761, 'prompt_tokens_details': {'audio_tokens': 0, 'cached_tokens': 0}, 'total_tokens': 781}}, id='run-d216bfa5-8052-4f4a-bfa1-384fd0b84e34-0', tool_calls=[{'name': 'tavily_search_results_json', 'args': {'query': 'weather in Paris'}, 'id': 'call_ddNXkrFLFbLggrs0B15QSe50'}]), ToolMessage(content='[{\\'url\\': \\'https://www.weatherapi.com/\\', \\'content\\': \"{\\'location\\': {\\'name\\': \\'Paris\\', \\'region\\': \\'Ile-de-France\\', \\'country\\': \\'France\\', \\'lat\\': 48.8667, \\'lon\\': 2.3333, \\'tz_id\\': \\'Europe/Paris\\', \\'localtime_epoch\\': 1731843660, \\'localtime\\': \\'2024-11-17 12:41\\'}, \\'current\\': {\\'last_updated_epoch\\': 1731843000, \\'last_updated\\': \\'2024-11-17 12:30\\', \\'temp_c\\': 8.1, \\'temp_f\\': 46.6, \\'is_day\\': 1, \\'condition\\': {\\'text\\': \\'Overcast\\', \\'icon\\': \\'//cdn.weatherapi.com/weather/64x64/day/122.png\\', \\'code\\': 1009}, \\'wind_mph\\': 6.0, \\'wind_kph\\': 9.7, \\'wind_degree\\': 276, \\'wind_dir\\': \\'W\\', \\'pressure_mb\\': 1018.0, \\'pressure_in\\': 30.06, \\'precip_mm\\': 0.0, \\'precip_in\\': 0.0, \\'humidity\\': 100, \\'cloud\\': 75, \\'feelslike_c\\': 6.4, \\'feelslike_f\\': 43.6, \\'windchill_c\\': 7.5, \\'windchill_f\\': 45.4, \\'heatindex_c\\': 9.0, \\'heatindex_f\\': 48.2, \\'dewpoint_c\\': 7.0, \\'dewpoint_f\\': 44.5, \\'vis_km\\': 8.0, \\'vis_miles\\': 4.0, \\'uv\\': 0.7, \\'gust_mph\\': 8.3, \\'gust_kph\\': 13.4}}\"}, {\\'url\\': \\'https://www.weather25.com/europe/france/ile-de-france/paris?page=month&month=November\\', \\'content\\': \\'Full weather forecast for Paris in November 2024. Check the temperatures, chance of rain and more in Paris during November. ... Nov 17. 1.5 mm. 10 ... The temperatures in Paris in November are quite cold with temperatures between 6 ° C and 11\\'}]', name='tavily_search_results_json', id='fc2dcb62-cc62-46b7-971f-113363441125', tool_call_id='call_ddNXkrFLFbLggrs0B15QSe50'), AIMessage(content='The current weather in Paris is overcast with a temperature of 46.6°F (8.1°C). The wind speed is 9.7 km/h coming from the west. The humidity is at 100% with 75% cloud cover.', response_metadata={'finish_reason': 'stop', 'logprobs': None, 'model_name': 'gpt-3.5-turbo', 'system_fingerprint': None, 'token_usage': {'completion_tokens': 53, 'completion_tokens_details': {'accepted_prediction_tokens': 0, 'audio_tokens': 0, 'reasoning_tokens': 0, 'rejected_prediction_tokens': 0}, 'prompt_tokens': 1293, 'prompt_tokens_details': {'audio_tokens': 0, 'cached_tokens': 0}, 'total_tokens': 1346}}, id='run-0ade5573-2e90-4c19-8353-830d3c02517f-0'), HumanMessage(content='And London?', id='50b26e26-0ba7-4ea9-a18d-38e58ab3c725'), AIMessage(content='', additional_kwargs={'tool_calls': [{'id': 'call_hUGqb5de7geuNzLEilXw50Lw', 'function': {'arguments': '{\"query\":\"weather in London\"}', 'name': 'tavily_search_results_json'}, 'type': 'function'}]}, response_metadata={'token_usage': {'completion_tokens': 20, 'prompt_tokens': 1356, 'total_tokens': 1376, 'prompt_tokens_details': {'cached_tokens': 0, 'audio_tokens': 0}, 'completion_tokens_details': {'reasoning_tokens': 0, 'audio_tokens': 0, 'accepted_prediction_tokens': 0, 'rejected_prediction_tokens': 0}}, 'model_name': 'gpt-3.5-turbo', 'system_fingerprint': None, 'finish_reason': 'tool_calls', 'logprobs': None}, id='run-80806431-91ca-415d-aeb9-c5e3f256798f-0', tool_calls=[{'name': 'tavily_search_results_json', 'args': {'query': 'weather in London'}, 'id': 'call_hUGqb5de7geuNzLEilXw50Lw'}])]}\n",
      "{'messages': [AIMessage(content='', additional_kwargs={'tool_calls': [{'id': 'call_hUGqb5de7geuNzLEilXw50Lw', 'function': {'arguments': '{\"query\":\"weather in London\"}', 'name': 'tavily_search_results_json'}, 'type': 'function'}]}, response_metadata={'token_usage': {'completion_tokens': 20, 'prompt_tokens': 1356, 'total_tokens': 1376, 'prompt_tokens_details': {'cached_tokens': 0, 'audio_tokens': 0}, 'completion_tokens_details': {'reasoning_tokens': 0, 'audio_tokens': 0, 'accepted_prediction_tokens': 0, 'rejected_prediction_tokens': 0}}, 'model_name': 'gpt-3.5-turbo', 'system_fingerprint': None, 'finish_reason': 'tool_calls', 'logprobs': None}, id='run-80806431-91ca-415d-aeb9-c5e3f256798f-0', tool_calls=[{'name': 'tavily_search_results_json', 'args': {'query': 'weather in London'}, 'id': 'call_hUGqb5de7geuNzLEilXw50Lw'}])]}\n",
      "\n",
      " StateSnapshot(values={'messages': [HumanMessage(content='Whats the weather in LA?', id='6b72ab38-e2ca-4b89-99df-533d0e8df116'), AIMessage(content='', additional_kwargs={'tool_calls': [{'function': {'arguments': '{\"query\":\"weather in Los Angeles\"}', 'name': 'tavily_search_results_json'}, 'id': 'call_bIvwNh0esoy5L0I0ibfX6yyn', 'type': 'function'}]}, response_metadata={'finish_reason': 'tool_calls', 'logprobs': None, 'model_name': 'gpt-3.5-turbo', 'system_fingerprint': None, 'token_usage': {'completion_tokens': 21, 'completion_tokens_details': {'accepted_prediction_tokens': 0, 'audio_tokens': 0, 'reasoning_tokens': 0, 'rejected_prediction_tokens': 0}, 'prompt_tokens': 152, 'prompt_tokens_details': {'audio_tokens': 0, 'cached_tokens': 0}, 'total_tokens': 173}}, id='run-4a0ad7e1-98b4-43dc-b18c-16e525872ea9-0', tool_calls=[{'name': 'tavily_search_results_json', 'args': {'query': 'weather in Los Angeles'}, 'id': 'call_bIvwNh0esoy5L0I0ibfX6yyn'}]), ToolMessage(content='[{\\'url\\': \\'https://www.weatherapi.com/\\', \\'content\\': \"{\\'location\\': {\\'name\\': \\'Los Angeles\\', \\'region\\': \\'California\\', \\'country\\': \\'United States of America\\', \\'lat\\': 34.0522, \\'lon\\': -118.2428, \\'tz_id\\': \\'America/Los_Angeles\\', \\'localtime_epoch\\': 1731843870, \\'localtime\\': \\'2024-11-17 03:44\\'}, \\'current\\': {\\'last_updated_epoch\\': 1731843000, \\'last_updated\\': \\'2024-11-17 03:30\\', \\'temp_c\\': 8.3, \\'temp_f\\': 46.9, \\'is_day\\': 0, \\'condition\\': {\\'text\\': \\'Clear\\', \\'icon\\': \\'//cdn.weatherapi.com/weather/64x64/night/113.png\\', \\'code\\': 1000}, \\'wind_mph\\': 2.7, \\'wind_kph\\': 4.3, \\'wind_degree\\': 8, \\'wind_dir\\': \\'N\\', \\'pressure_mb\\': 1015.0, \\'pressure_in\\': 29.97, \\'precip_mm\\': 0.0, \\'precip_in\\': 0.0, \\'humidity\\': 56, \\'cloud\\': 0, \\'feelslike_c\\': 8.1, \\'feelslike_f\\': 46.5, \\'windchill_c\\': 9.3, \\'windchill_f\\': 48.7, \\'heatindex_c\\': 10.8, \\'heatindex_f\\': 51.5, \\'dewpoint_c\\': -4.9, \\'dewpoint_f\\': 23.2, \\'vis_km\\': 16.0, \\'vis_miles\\': 9.0, \\'uv\\': 0.0, \\'gust_mph\\': 4.5, \\'gust_kph\\': 7.3}}\"}, {\\'url\\': \\'https://www.weather.gov/lox/\\', \\'content\\': \\'Last Map Update: Fri, Nov 15, 2024 at 1:02:11 am PST Watches, Warnings & Advisories. Zoom Out. Gale Warning ... Wind Advisory. Frost Advisory . Text Product Selector (Selected product opens in current window) Hazards. Observations. Marine Weather. Fire Weather ... National Weather Service Los Angeles, CA 520 North Elevar Street Oxnard, CA 93030\\'}]', name='tavily_search_results_json', id='04375eda-aff5-4665-b779-99408b1592ca', tool_call_id='call_bIvwNh0esoy5L0I0ibfX6yyn'), AIMessage(content='The current weather in Los Angeles is clear with a temperature of 46.9°F (8.3°C). The wind speed is 4.3 km/h coming from the north. The humidity is at 56% with no precipitation.', response_metadata={'finish_reason': 'stop', 'logprobs': None, 'model_name': 'gpt-3.5-turbo', 'system_fingerprint': None, 'token_usage': {'completion_tokens': 50, 'completion_tokens_details': {'accepted_prediction_tokens': 0, 'audio_tokens': 0, 'reasoning_tokens': 0, 'rejected_prediction_tokens': 0}, 'prompt_tokens': 698, 'prompt_tokens_details': {'audio_tokens': 0, 'cached_tokens': 0}, 'total_tokens': 748}}, id='run-3486493a-b36d-4f07-9cbe-bbda62be9aa7-0'), HumanMessage(content='Whats the weather in Paris?', id='f1a5663f-da39-4a81-950b-aaffa68825b2'), AIMessage(content='', additional_kwargs={'tool_calls': [{'function': {'arguments': '{\"query\":\"weather in Paris\"}', 'name': 'tavily_search_results_json'}, 'id': 'call_ddNXkrFLFbLggrs0B15QSe50', 'type': 'function'}]}, response_metadata={'finish_reason': 'tool_calls', 'logprobs': None, 'model_name': 'gpt-3.5-turbo', 'system_fingerprint': None, 'token_usage': {'completion_tokens': 20, 'completion_tokens_details': {'accepted_prediction_tokens': 0, 'audio_tokens': 0, 'reasoning_tokens': 0, 'rejected_prediction_tokens': 0}, 'prompt_tokens': 761, 'prompt_tokens_details': {'audio_tokens': 0, 'cached_tokens': 0}, 'total_tokens': 781}}, id='run-d216bfa5-8052-4f4a-bfa1-384fd0b84e34-0', tool_calls=[{'name': 'tavily_search_results_json', 'args': {'query': 'weather in Paris'}, 'id': 'call_ddNXkrFLFbLggrs0B15QSe50'}]), ToolMessage(content='[{\\'url\\': \\'https://www.weatherapi.com/\\', \\'content\\': \"{\\'location\\': {\\'name\\': \\'Paris\\', \\'region\\': \\'Ile-de-France\\', \\'country\\': \\'France\\', \\'lat\\': 48.8667, \\'lon\\': 2.3333, \\'tz_id\\': \\'Europe/Paris\\', \\'localtime_epoch\\': 1731843660, \\'localtime\\': \\'2024-11-17 12:41\\'}, \\'current\\': {\\'last_updated_epoch\\': 1731843000, \\'last_updated\\': \\'2024-11-17 12:30\\', \\'temp_c\\': 8.1, \\'temp_f\\': 46.6, \\'is_day\\': 1, \\'condition\\': {\\'text\\': \\'Overcast\\', \\'icon\\': \\'//cdn.weatherapi.com/weather/64x64/day/122.png\\', \\'code\\': 1009}, \\'wind_mph\\': 6.0, \\'wind_kph\\': 9.7, \\'wind_degree\\': 276, \\'wind_dir\\': \\'W\\', \\'pressure_mb\\': 1018.0, \\'pressure_in\\': 30.06, \\'precip_mm\\': 0.0, \\'precip_in\\': 0.0, \\'humidity\\': 100, \\'cloud\\': 75, \\'feelslike_c\\': 6.4, \\'feelslike_f\\': 43.6, \\'windchill_c\\': 7.5, \\'windchill_f\\': 45.4, \\'heatindex_c\\': 9.0, \\'heatindex_f\\': 48.2, \\'dewpoint_c\\': 7.0, \\'dewpoint_f\\': 44.5, \\'vis_km\\': 8.0, \\'vis_miles\\': 4.0, \\'uv\\': 0.7, \\'gust_mph\\': 8.3, \\'gust_kph\\': 13.4}}\"}, {\\'url\\': \\'https://www.weather25.com/europe/france/ile-de-france/paris?page=month&month=November\\', \\'content\\': \\'Full weather forecast for Paris in November 2024. Check the temperatures, chance of rain and more in Paris during November. ... Nov 17. 1.5 mm. 10 ... The temperatures in Paris in November are quite cold with temperatures between 6 ° C and 11\\'}]', name='tavily_search_results_json', id='fc2dcb62-cc62-46b7-971f-113363441125', tool_call_id='call_ddNXkrFLFbLggrs0B15QSe50'), AIMessage(content='The current weather in Paris is overcast with a temperature of 46.6°F (8.1°C). The wind speed is 9.7 km/h coming from the west. The humidity is at 100% with 75% cloud cover.', response_metadata={'finish_reason': 'stop', 'logprobs': None, 'model_name': 'gpt-3.5-turbo', 'system_fingerprint': None, 'token_usage': {'completion_tokens': 53, 'completion_tokens_details': {'accepted_prediction_tokens': 0, 'audio_tokens': 0, 'reasoning_tokens': 0, 'rejected_prediction_tokens': 0}, 'prompt_tokens': 1293, 'prompt_tokens_details': {'audio_tokens': 0, 'cached_tokens': 0}, 'total_tokens': 1346}}, id='run-0ade5573-2e90-4c19-8353-830d3c02517f-0'), HumanMessage(content='And London?', id='50b26e26-0ba7-4ea9-a18d-38e58ab3c725'), AIMessage(content='', additional_kwargs={'tool_calls': [{'function': {'arguments': '{\"query\":\"weather in London\"}', 'name': 'tavily_search_results_json'}, 'id': 'call_hUGqb5de7geuNzLEilXw50Lw', 'type': 'function'}]}, response_metadata={'finish_reason': 'tool_calls', 'logprobs': None, 'model_name': 'gpt-3.5-turbo', 'system_fingerprint': None, 'token_usage': {'completion_tokens': 20, 'completion_tokens_details': {'accepted_prediction_tokens': 0, 'audio_tokens': 0, 'reasoning_tokens': 0, 'rejected_prediction_tokens': 0}, 'prompt_tokens': 1356, 'prompt_tokens_details': {'audio_tokens': 0, 'cached_tokens': 0}, 'total_tokens': 1376}}, id='run-80806431-91ca-415d-aeb9-c5e3f256798f-0', tool_calls=[{'name': 'tavily_search_results_json', 'args': {'query': 'weather in London'}, 'id': 'call_hUGqb5de7geuNzLEilXw50Lw'}])]}, next=('action',), config={'configurable': {'thread_id': '2', 'thread_ts': '1efa4d97-f625-6bcb-800b-35467b289e51'}}, metadata={'source': 'loop', 'step': 11, 'writes': {'llm': {'messages': [AIMessage(content='', additional_kwargs={'tool_calls': [{'function': {'arguments': '{\"query\":\"weather in London\"}', 'name': 'tavily_search_results_json'}, 'id': 'call_hUGqb5de7geuNzLEilXw50Lw', 'type': 'function'}]}, response_metadata={'finish_reason': 'tool_calls', 'logprobs': None, 'model_name': 'gpt-3.5-turbo', 'system_fingerprint': None, 'token_usage': {'completion_tokens': 20, 'completion_tokens_details': {'accepted_prediction_tokens': 0, 'audio_tokens': 0, 'reasoning_tokens': 0, 'rejected_prediction_tokens': 0}, 'prompt_tokens': 1356, 'prompt_tokens_details': {'audio_tokens': 0, 'cached_tokens': 0}, 'total_tokens': 1376}}, id='run-80806431-91ca-415d-aeb9-c5e3f256798f-0', tool_calls=[{'name': 'tavily_search_results_json', 'args': {'query': 'weather in London'}, 'id': 'call_hUGqb5de7geuNzLEilXw50Lw'}])]}}}, created_at='2024-11-17T11:45:52.378537+00:00', parent_config={'configurable': {'thread_id': '2', 'thread_ts': '1efa4d97-eca9-667a-800a-d1879b25ee7d'}}) \n",
      "\n"
     ]
    },
    {
     "name": "stdout",
     "output_type": "stream",
     "text": [
      "proceed?y\n",
      "Calling: {'name': 'tavily_search_results_json', 'args': {'query': 'weather in London'}, 'id': 'call_hUGqb5de7geuNzLEilXw50Lw'}\n",
      "Back to the model!\n",
      "{'messages': [ToolMessage(content='[{\\'url\\': \\'https://www.weatherapi.com/\\', \\'content\\': \"{\\'location\\': {\\'name\\': \\'London\\', \\'region\\': \\'City of London, Greater London\\', \\'country\\': \\'United Kingdom\\', \\'lat\\': 51.5171, \\'lon\\': -0.1062, \\'tz_id\\': \\'Europe/London\\', \\'localtime_epoch\\': 1731843960, \\'localtime\\': \\'2024-11-17 11:46\\'}, \\'current\\': {\\'last_updated_epoch\\': 1731843900, \\'last_updated\\': \\'2024-11-17 11:45\\', \\'temp_c\\': 10.2, \\'temp_f\\': 50.4, \\'is_day\\': 1, \\'condition\\': {\\'text\\': \\'Partly cloudy\\', \\'icon\\': \\'//cdn.weatherapi.com/weather/64x64/day/116.png\\', \\'code\\': 1003}, \\'wind_mph\\': 10.3, \\'wind_kph\\': 16.6, \\'wind_degree\\': 290, \\'wind_dir\\': \\'WNW\\', \\'pressure_mb\\': 1016.0, \\'pressure_in\\': 30.0, \\'precip_mm\\': 0.03, \\'precip_in\\': 0.0, \\'humidity\\': 76, \\'cloud\\': 50, \\'feelslike_c\\': 8.0, \\'feelslike_f\\': 46.4, \\'windchill_c\\': 5.6, \\'windchill_f\\': 42.1, \\'heatindex_c\\': 8.3, \\'heatindex_f\\': 46.9, \\'dewpoint_c\\': 3.0, \\'dewpoint_f\\': 37.3, \\'vis_km\\': 10.0, \\'vis_miles\\': 6.0, \\'uv\\': 0.4, \\'gust_mph\\': 13.1, \\'gust_kph\\': 21.0}}\"}, {\\'url\\': \\'https://www.weather25.com/europe/united-kingdom/london?page=month&month=November\\', \\'content\\': \\'Full weather forecast for London in November 2024. Check the temperatures, chance of rain and more in London during November. ... The temperatures in London in November are quite cold with temperatures between 6 ° C and 11 ... 17. 10 ° / 5 ° 18. 6 ° / 3 ° 19. 11\\'}]', name='tavily_search_results_json', id='ef233056-1d64-428a-b1d7-ef6f6f927114', tool_call_id='call_hUGqb5de7geuNzLEilXw50Lw')]}\n",
      "{'messages': [HumanMessage(content='Whats the weather in LA?', id='6b72ab38-e2ca-4b89-99df-533d0e8df116'), AIMessage(content='', additional_kwargs={'tool_calls': [{'function': {'arguments': '{\"query\":\"weather in Los Angeles\"}', 'name': 'tavily_search_results_json'}, 'id': 'call_bIvwNh0esoy5L0I0ibfX6yyn', 'type': 'function'}]}, response_metadata={'finish_reason': 'tool_calls', 'logprobs': None, 'model_name': 'gpt-3.5-turbo', 'system_fingerprint': None, 'token_usage': {'completion_tokens': 21, 'completion_tokens_details': {'accepted_prediction_tokens': 0, 'audio_tokens': 0, 'reasoning_tokens': 0, 'rejected_prediction_tokens': 0}, 'prompt_tokens': 152, 'prompt_tokens_details': {'audio_tokens': 0, 'cached_tokens': 0}, 'total_tokens': 173}}, id='run-4a0ad7e1-98b4-43dc-b18c-16e525872ea9-0', tool_calls=[{'name': 'tavily_search_results_json', 'args': {'query': 'weather in Los Angeles'}, 'id': 'call_bIvwNh0esoy5L0I0ibfX6yyn'}]), ToolMessage(content='[{\\'url\\': \\'https://www.weatherapi.com/\\', \\'content\\': \"{\\'location\\': {\\'name\\': \\'Los Angeles\\', \\'region\\': \\'California\\', \\'country\\': \\'United States of America\\', \\'lat\\': 34.0522, \\'lon\\': -118.2428, \\'tz_id\\': \\'America/Los_Angeles\\', \\'localtime_epoch\\': 1731843870, \\'localtime\\': \\'2024-11-17 03:44\\'}, \\'current\\': {\\'last_updated_epoch\\': 1731843000, \\'last_updated\\': \\'2024-11-17 03:30\\', \\'temp_c\\': 8.3, \\'temp_f\\': 46.9, \\'is_day\\': 0, \\'condition\\': {\\'text\\': \\'Clear\\', \\'icon\\': \\'//cdn.weatherapi.com/weather/64x64/night/113.png\\', \\'code\\': 1000}, \\'wind_mph\\': 2.7, \\'wind_kph\\': 4.3, \\'wind_degree\\': 8, \\'wind_dir\\': \\'N\\', \\'pressure_mb\\': 1015.0, \\'pressure_in\\': 29.97, \\'precip_mm\\': 0.0, \\'precip_in\\': 0.0, \\'humidity\\': 56, \\'cloud\\': 0, \\'feelslike_c\\': 8.1, \\'feelslike_f\\': 46.5, \\'windchill_c\\': 9.3, \\'windchill_f\\': 48.7, \\'heatindex_c\\': 10.8, \\'heatindex_f\\': 51.5, \\'dewpoint_c\\': -4.9, \\'dewpoint_f\\': 23.2, \\'vis_km\\': 16.0, \\'vis_miles\\': 9.0, \\'uv\\': 0.0, \\'gust_mph\\': 4.5, \\'gust_kph\\': 7.3}}\"}, {\\'url\\': \\'https://www.weather.gov/lox/\\', \\'content\\': \\'Last Map Update: Fri, Nov 15, 2024 at 1:02:11 am PST Watches, Warnings & Advisories. Zoom Out. Gale Warning ... Wind Advisory. Frost Advisory . Text Product Selector (Selected product opens in current window) Hazards. Observations. Marine Weather. Fire Weather ... National Weather Service Los Angeles, CA 520 North Elevar Street Oxnard, CA 93030\\'}]', name='tavily_search_results_json', id='04375eda-aff5-4665-b779-99408b1592ca', tool_call_id='call_bIvwNh0esoy5L0I0ibfX6yyn'), AIMessage(content='The current weather in Los Angeles is clear with a temperature of 46.9°F (8.3°C). The wind speed is 4.3 km/h coming from the north. The humidity is at 56% with no precipitation.', response_metadata={'finish_reason': 'stop', 'logprobs': None, 'model_name': 'gpt-3.5-turbo', 'system_fingerprint': None, 'token_usage': {'completion_tokens': 50, 'completion_tokens_details': {'accepted_prediction_tokens': 0, 'audio_tokens': 0, 'reasoning_tokens': 0, 'rejected_prediction_tokens': 0}, 'prompt_tokens': 698, 'prompt_tokens_details': {'audio_tokens': 0, 'cached_tokens': 0}, 'total_tokens': 748}}, id='run-3486493a-b36d-4f07-9cbe-bbda62be9aa7-0'), HumanMessage(content='Whats the weather in Paris?', id='f1a5663f-da39-4a81-950b-aaffa68825b2'), AIMessage(content='', additional_kwargs={'tool_calls': [{'function': {'arguments': '{\"query\":\"weather in Paris\"}', 'name': 'tavily_search_results_json'}, 'id': 'call_ddNXkrFLFbLggrs0B15QSe50', 'type': 'function'}]}, response_metadata={'finish_reason': 'tool_calls', 'logprobs': None, 'model_name': 'gpt-3.5-turbo', 'system_fingerprint': None, 'token_usage': {'completion_tokens': 20, 'completion_tokens_details': {'accepted_prediction_tokens': 0, 'audio_tokens': 0, 'reasoning_tokens': 0, 'rejected_prediction_tokens': 0}, 'prompt_tokens': 761, 'prompt_tokens_details': {'audio_tokens': 0, 'cached_tokens': 0}, 'total_tokens': 781}}, id='run-d216bfa5-8052-4f4a-bfa1-384fd0b84e34-0', tool_calls=[{'name': 'tavily_search_results_json', 'args': {'query': 'weather in Paris'}, 'id': 'call_ddNXkrFLFbLggrs0B15QSe50'}]), ToolMessage(content='[{\\'url\\': \\'https://www.weatherapi.com/\\', \\'content\\': \"{\\'location\\': {\\'name\\': \\'Paris\\', \\'region\\': \\'Ile-de-France\\', \\'country\\': \\'France\\', \\'lat\\': 48.8667, \\'lon\\': 2.3333, \\'tz_id\\': \\'Europe/Paris\\', \\'localtime_epoch\\': 1731843660, \\'localtime\\': \\'2024-11-17 12:41\\'}, \\'current\\': {\\'last_updated_epoch\\': 1731843000, \\'last_updated\\': \\'2024-11-17 12:30\\', \\'temp_c\\': 8.1, \\'temp_f\\': 46.6, \\'is_day\\': 1, \\'condition\\': {\\'text\\': \\'Overcast\\', \\'icon\\': \\'//cdn.weatherapi.com/weather/64x64/day/122.png\\', \\'code\\': 1009}, \\'wind_mph\\': 6.0, \\'wind_kph\\': 9.7, \\'wind_degree\\': 276, \\'wind_dir\\': \\'W\\', \\'pressure_mb\\': 1018.0, \\'pressure_in\\': 30.06, \\'precip_mm\\': 0.0, \\'precip_in\\': 0.0, \\'humidity\\': 100, \\'cloud\\': 75, \\'feelslike_c\\': 6.4, \\'feelslike_f\\': 43.6, \\'windchill_c\\': 7.5, \\'windchill_f\\': 45.4, \\'heatindex_c\\': 9.0, \\'heatindex_f\\': 48.2, \\'dewpoint_c\\': 7.0, \\'dewpoint_f\\': 44.5, \\'vis_km\\': 8.0, \\'vis_miles\\': 4.0, \\'uv\\': 0.7, \\'gust_mph\\': 8.3, \\'gust_kph\\': 13.4}}\"}, {\\'url\\': \\'https://www.weather25.com/europe/france/ile-de-france/paris?page=month&month=November\\', \\'content\\': \\'Full weather forecast for Paris in November 2024. Check the temperatures, chance of rain and more in Paris during November. ... Nov 17. 1.5 mm. 10 ... The temperatures in Paris in November are quite cold with temperatures between 6 ° C and 11\\'}]', name='tavily_search_results_json', id='fc2dcb62-cc62-46b7-971f-113363441125', tool_call_id='call_ddNXkrFLFbLggrs0B15QSe50'), AIMessage(content='The current weather in Paris is overcast with a temperature of 46.6°F (8.1°C). The wind speed is 9.7 km/h coming from the west. The humidity is at 100% with 75% cloud cover.', response_metadata={'finish_reason': 'stop', 'logprobs': None, 'model_name': 'gpt-3.5-turbo', 'system_fingerprint': None, 'token_usage': {'completion_tokens': 53, 'completion_tokens_details': {'accepted_prediction_tokens': 0, 'audio_tokens': 0, 'reasoning_tokens': 0, 'rejected_prediction_tokens': 0}, 'prompt_tokens': 1293, 'prompt_tokens_details': {'audio_tokens': 0, 'cached_tokens': 0}, 'total_tokens': 1346}}, id='run-0ade5573-2e90-4c19-8353-830d3c02517f-0'), HumanMessage(content='And London?', id='50b26e26-0ba7-4ea9-a18d-38e58ab3c725'), AIMessage(content='', additional_kwargs={'tool_calls': [{'function': {'arguments': '{\"query\":\"weather in London\"}', 'name': 'tavily_search_results_json'}, 'id': 'call_hUGqb5de7geuNzLEilXw50Lw', 'type': 'function'}]}, response_metadata={'finish_reason': 'tool_calls', 'logprobs': None, 'model_name': 'gpt-3.5-turbo', 'system_fingerprint': None, 'token_usage': {'completion_tokens': 20, 'completion_tokens_details': {'accepted_prediction_tokens': 0, 'audio_tokens': 0, 'reasoning_tokens': 0, 'rejected_prediction_tokens': 0}, 'prompt_tokens': 1356, 'prompt_tokens_details': {'audio_tokens': 0, 'cached_tokens': 0}, 'total_tokens': 1376}}, id='run-80806431-91ca-415d-aeb9-c5e3f256798f-0', tool_calls=[{'name': 'tavily_search_results_json', 'args': {'query': 'weather in London'}, 'id': 'call_hUGqb5de7geuNzLEilXw50Lw'}]), ToolMessage(content='[{\\'url\\': \\'https://www.weatherapi.com/\\', \\'content\\': \"{\\'location\\': {\\'name\\': \\'London\\', \\'region\\': \\'City of London, Greater London\\', \\'country\\': \\'United Kingdom\\', \\'lat\\': 51.5171, \\'lon\\': -0.1062, \\'tz_id\\': \\'Europe/London\\', \\'localtime_epoch\\': 1731843960, \\'localtime\\': \\'2024-11-17 11:46\\'}, \\'current\\': {\\'last_updated_epoch\\': 1731843900, \\'last_updated\\': \\'2024-11-17 11:45\\', \\'temp_c\\': 10.2, \\'temp_f\\': 50.4, \\'is_day\\': 1, \\'condition\\': {\\'text\\': \\'Partly cloudy\\', \\'icon\\': \\'//cdn.weatherapi.com/weather/64x64/day/116.png\\', \\'code\\': 1003}, \\'wind_mph\\': 10.3, \\'wind_kph\\': 16.6, \\'wind_degree\\': 290, \\'wind_dir\\': \\'WNW\\', \\'pressure_mb\\': 1016.0, \\'pressure_in\\': 30.0, \\'precip_mm\\': 0.03, \\'precip_in\\': 0.0, \\'humidity\\': 76, \\'cloud\\': 50, \\'feelslike_c\\': 8.0, \\'feelslike_f\\': 46.4, \\'windchill_c\\': 5.6, \\'windchill_f\\': 42.1, \\'heatindex_c\\': 8.3, \\'heatindex_f\\': 46.9, \\'dewpoint_c\\': 3.0, \\'dewpoint_f\\': 37.3, \\'vis_km\\': 10.0, \\'vis_miles\\': 6.0, \\'uv\\': 0.4, \\'gust_mph\\': 13.1, \\'gust_kph\\': 21.0}}\"}, {\\'url\\': \\'https://www.weather25.com/europe/united-kingdom/london?page=month&month=November\\', \\'content\\': \\'Full weather forecast for London in November 2024. Check the temperatures, chance of rain and more in London during November. ... The temperatures in London in November are quite cold with temperatures between 6 ° C and 11 ... 17. 10 ° / 5 ° 18. 6 ° / 3 ° 19. 11\\'}]', name='tavily_search_results_json', id='ef233056-1d64-428a-b1d7-ef6f6f927114', tool_call_id='call_hUGqb5de7geuNzLEilXw50Lw'), AIMessage(content='The current weather in London is partly cloudy with a temperature of 50.4°F (10.2°C). The wind speed is 16.6 km/h coming from the west-northwest. The humidity is at 76% with 50% cloud cover.', response_metadata={'token_usage': {'completion_tokens': 56, 'prompt_tokens': 1902, 'total_tokens': 1958, 'prompt_tokens_details': {'cached_tokens': 0, 'audio_tokens': 0}, 'completion_tokens_details': {'reasoning_tokens': 0, 'audio_tokens': 0, 'accepted_prediction_tokens': 0, 'rejected_prediction_tokens': 0}}, 'model_name': 'gpt-3.5-turbo', 'system_fingerprint': None, 'finish_reason': 'stop', 'logprobs': None}, id='run-a36db3ed-530e-48c1-aac8-23d6158b050f-0')]}\n",
      "{'messages': [AIMessage(content='The current weather in London is partly cloudy with a temperature of 50.4°F (10.2°C). The wind speed is 16.6 km/h coming from the west-northwest. The humidity is at 76% with 50% cloud cover.', response_metadata={'token_usage': {'completion_tokens': 56, 'prompt_tokens': 1902, 'total_tokens': 1958, 'prompt_tokens_details': {'cached_tokens': 0, 'audio_tokens': 0}, 'completion_tokens_details': {'reasoning_tokens': 0, 'audio_tokens': 0, 'accepted_prediction_tokens': 0, 'rejected_prediction_tokens': 0}}, 'model_name': 'gpt-3.5-turbo', 'system_fingerprint': None, 'finish_reason': 'stop', 'logprobs': None}, id='run-a36db3ed-530e-48c1-aac8-23d6158b050f-0')]}\n"
     ]
    }
   ],
   "source": [
    "messages = [HumanMessage(\"And London?\")]\n",
    "thread = {\"configurable\": {\"thread_id\": \"2\"}}\n",
    "for event in abot.graph.stream({\"messages\": messages}, thread):\n",
    "    for v in event.values():\n",
    "        print(v)\n",
    "while abot.graph.get_state(thread).next:\n",
    "    print(\"\\n\", abot.graph.get_state(thread),\"\\n\")\n",
    "    _input = input(\"proceed?\")\n",
    "    if _input != \"y\":\n",
    "        print(\"aborting\")\n",
    "        break\n",
    "    for event in abot.graph.stream(None, thread):\n",
    "        for v in event.values():\n",
    "            print(v)"
   ]
  },
  {
   "attachments": {
    "image.png": {
     "image/png": "[encoded data removed]"
    }
   },
   "cell_type": "markdown",
   "id": "7bbe5689-54ab-49ca-9055-6e5216abd523",
   "metadata": {},
   "source": [
    "## Modify State\n",
    "Run until the interrupt and then modify the state.\n",
    "\n",
    "![image.png](attachment:image.png)"
   ]
  },
  {
   "cell_type": "code",
   "execution_count": 17,
   "id": "98f303b1-a4d0-408c-8cc0-515ff980717f",
   "metadata": {
    "height": 98
   },
   "outputs": [
    {
     "name": "stdout",
     "output_type": "stream",
     "text": [
      "{'messages': [HumanMessage(content='Whats the weather in LA?', id='90281e8b-5009-4055-8f85-3c7e3779034d'), AIMessage(content='', additional_kwargs={'tool_calls': [{'id': 'call_bIvwNh0esoy5L0I0ibfX6yyn', 'function': {'arguments': '{\"query\":\"weather in Los Angeles\"}', 'name': 'tavily_search_results_json'}, 'type': 'function'}]}, response_metadata={'token_usage': {'completion_tokens': 21, 'prompt_tokens': 152, 'total_tokens': 173, 'prompt_tokens_details': {'cached_tokens': 0, 'audio_tokens': 0}, 'completion_tokens_details': {'reasoning_tokens': 0, 'audio_tokens': 0, 'accepted_prediction_tokens': 0, 'rejected_prediction_tokens': 0}}, 'model_name': 'gpt-3.5-turbo', 'system_fingerprint': None, 'finish_reason': 'tool_calls', 'logprobs': None}, id='run-5eeffcb8-fab2-4362-80a8-67d41f69467e-0', tool_calls=[{'name': 'tavily_search_results_json', 'args': {'query': 'weather in Los Angeles'}, 'id': 'call_bIvwNh0esoy5L0I0ibfX6yyn'}])]}\n",
      "{'messages': [AIMessage(content='', additional_kwargs={'tool_calls': [{'id': 'call_bIvwNh0esoy5L0I0ibfX6yyn', 'function': {'arguments': '{\"query\":\"weather in Los Angeles\"}', 'name': 'tavily_search_results_json'}, 'type': 'function'}]}, response_metadata={'token_usage': {'completion_tokens': 21, 'prompt_tokens': 152, 'total_tokens': 173, 'prompt_tokens_details': {'cached_tokens': 0, 'audio_tokens': 0}, 'completion_tokens_details': {'reasoning_tokens': 0, 'audio_tokens': 0, 'accepted_prediction_tokens': 0, 'rejected_prediction_tokens': 0}}, 'model_name': 'gpt-3.5-turbo', 'system_fingerprint': None, 'finish_reason': 'tool_calls', 'logprobs': None}, id='run-5eeffcb8-fab2-4362-80a8-67d41f69467e-0', tool_calls=[{'name': 'tavily_search_results_json', 'args': {'query': 'weather in Los Angeles'}, 'id': 'call_bIvwNh0esoy5L0I0ibfX6yyn'}])]}\n"
     ]
    }
   ],
   "source": [
    "messages = [HumanMessage(\"Whats the weather in LA?\")]\n",
    "thread = {\"configurable\": {\"thread_id\": \"3\"}}\n",
    "for event in abot.graph.stream({\"messages\": messages}, thread):\n",
    "    for v in event.values():\n",
    "        print(v)"
   ]
  },
  {
   "cell_type": "code",
   "execution_count": 18,
   "id": "bf4dcb93-6298-4cfd-b3ce-61dfac7fb35f",
   "metadata": {
    "height": 30
   },
   "outputs": [
    {
     "data": {
      "text/plain": [
       "StateSnapshot(values={'messages': [HumanMessage(content='Whats the weather in LA?', id='90281e8b-5009-4055-8f85-3c7e3779034d'), AIMessage(content='', additional_kwargs={'tool_calls': [{'function': {'arguments': '{\"query\":\"weather in Los Angeles\"}', 'name': 'tavily_search_results_json'}, 'id': 'call_bIvwNh0esoy5L0I0ibfX6yyn', 'type': 'function'}]}, response_metadata={'finish_reason': 'tool_calls', 'logprobs': None, 'model_name': 'gpt-3.5-turbo', 'system_fingerprint': None, 'token_usage': {'completion_tokens': 21, 'completion_tokens_details': {'accepted_prediction_tokens': 0, 'audio_tokens': 0, 'reasoning_tokens': 0, 'rejected_prediction_tokens': 0}, 'prompt_tokens': 152, 'prompt_tokens_details': {'audio_tokens': 0, 'cached_tokens': 0}, 'total_tokens': 173}}, id='run-5eeffcb8-fab2-4362-80a8-67d41f69467e-0', tool_calls=[{'name': 'tavily_search_results_json', 'args': {'query': 'weather in Los Angeles'}, 'id': 'call_bIvwNh0esoy5L0I0ibfX6yyn'}])]}, next=('action',), config={'configurable': {'thread_id': '3', 'thread_ts': '1efa4d9f-0d6e-60d1-8001-f16f81d34843'}}, metadata={'source': 'loop', 'step': 1, 'writes': {'llm': {'messages': [AIMessage(content='', additional_kwargs={'tool_calls': [{'function': {'arguments': '{\"query\":\"weather in Los Angeles\"}', 'name': 'tavily_search_results_json'}, 'id': 'call_bIvwNh0esoy5L0I0ibfX6yyn', 'type': 'function'}]}, response_metadata={'finish_reason': 'tool_calls', 'logprobs': None, 'model_name': 'gpt-3.5-turbo', 'system_fingerprint': None, 'token_usage': {'completion_tokens': 21, 'completion_tokens_details': {'accepted_prediction_tokens': 0, 'audio_tokens': 0, 'reasoning_tokens': 0, 'rejected_prediction_tokens': 0}, 'prompt_tokens': 152, 'prompt_tokens_details': {'audio_tokens': 0, 'cached_tokens': 0}, 'total_tokens': 173}}, id='run-5eeffcb8-fab2-4362-80a8-67d41f69467e-0', tool_calls=[{'name': 'tavily_search_results_json', 'args': {'query': 'weather in Los Angeles'}, 'id': 'call_bIvwNh0esoy5L0I0ibfX6yyn'}])]}}}, created_at='2024-11-17T11:49:02.724707+00:00', parent_config={'configurable': {'thread_id': '3', 'thread_ts': '1efa4d9f-0ce7-6350-8000-8696904814c6'}})"
      ]
     },
     "execution_count": 18,
     "metadata": {},
     "output_type": "execute_result"
    }
   ],
   "source": [
    "abot.graph.get_state(thread)"
   ]
  },
  {
   "cell_type": "code",
   "execution_count": 19,
   "id": "932883a4-c722-42bb-aec0-b4f41c5c81a4",
   "metadata": {
    "height": 30
   },
   "outputs": [],
   "source": [
    "current_values = abot.graph.get_state(thread)"
   ]
  },
  {
   "cell_type": "code",
   "execution_count": 20,
   "id": "ff362f49-dcf1-4ea1-a86c-e516e9ab897d",
   "metadata": {
    "height": 30
   },
   "outputs": [
    {
     "data": {
      "text/plain": [
       "AIMessage(content='', additional_kwargs={'tool_calls': [{'function': {'arguments': '{\"query\":\"weather in Los Angeles\"}', 'name': 'tavily_search_results_json'}, 'id': 'call_bIvwNh0esoy5L0I0ibfX6yyn', 'type': 'function'}]}, response_metadata={'finish_reason': 'tool_calls', 'logprobs': None, 'model_name': 'gpt-3.5-turbo', 'system_fingerprint': None, 'token_usage': {'completion_tokens': 21, 'completion_tokens_details': {'accepted_prediction_tokens': 0, 'audio_tokens': 0, 'reasoning_tokens': 0, 'rejected_prediction_tokens': 0}, 'prompt_tokens': 152, 'prompt_tokens_details': {'audio_tokens': 0, 'cached_tokens': 0}, 'total_tokens': 173}}, id='run-5eeffcb8-fab2-4362-80a8-67d41f69467e-0', tool_calls=[{'name': 'tavily_search_results_json', 'args': {'query': 'weather in Los Angeles'}, 'id': 'call_bIvwNh0esoy5L0I0ibfX6yyn'}])"
      ]
     },
     "execution_count": 20,
     "metadata": {},
     "output_type": "execute_result"
    }
   ],
   "source": [
    "current_values.values['messages'][-1]"
   ]
  },
  {
   "cell_type": "code",
   "execution_count": 21,
   "id": "a7e15a20-83d7-434c-8551-bce8dcc32be0",
   "metadata": {
    "height": 30
   },
   "outputs": [
    {
     "data": {
      "text/plain": [
       "[{'name': 'tavily_search_results_json',\n",
       "  'args': {'query': 'weather in Los Angeles'},\n",
       "  'id': 'call_bIvwNh0esoy5L0I0ibfX6yyn'}]"
      ]
     },
     "execution_count": 21,
     "metadata": {},
     "output_type": "execute_result"
    }
   ],
   "source": [
    "current_values.values['messages'][-1].tool_calls"
   ]
  },
  {
   "cell_type": "code",
   "execution_count": 22,
   "id": "54ab2c74-f32e-490c-a85d-932d11444210",
   "metadata": {
    "height": 115
   },
   "outputs": [],
   "source": [
    "_id = current_values.values['messages'][-1].tool_calls[0]['id']\n",
    "current_values.values['messages'][-1].tool_calls = [\n",
    "    {'name': 'tavily_search_results_json',\n",
    "  'args': {'query': 'current weather in Louisiana'},\n",
    "  'id': _id}\n",
    "]"
   ]
  },
  {
   "cell_type": "code",
   "execution_count": 23,
   "id": "a833d3ce-bd31-4319-811d-decff226b970",
   "metadata": {
    "height": 30
   },
   "outputs": [
    {
     "name": "stdout",
     "output_type": "stream",
     "text": [
      "{'messages': [HumanMessage(content='Whats the weather in LA?', id='90281e8b-5009-4055-8f85-3c7e3779034d'), AIMessage(content='', additional_kwargs={'tool_calls': [{'function': {'arguments': '{\"query\":\"weather in Los Angeles\"}', 'name': 'tavily_search_results_json'}, 'id': 'call_bIvwNh0esoy5L0I0ibfX6yyn', 'type': 'function'}]}, response_metadata={'finish_reason': 'tool_calls', 'logprobs': None, 'model_name': 'gpt-3.5-turbo', 'system_fingerprint': None, 'token_usage': {'completion_tokens': 21, 'completion_tokens_details': {'accepted_prediction_tokens': 0, 'audio_tokens': 0, 'reasoning_tokens': 0, 'rejected_prediction_tokens': 0}, 'prompt_tokens': 152, 'prompt_tokens_details': {'audio_tokens': 0, 'cached_tokens': 0}, 'total_tokens': 173}}, id='run-5eeffcb8-fab2-4362-80a8-67d41f69467e-0', tool_calls=[{'name': 'tavily_search_results_json', 'args': {'query': 'current weather in Louisiana'}, 'id': 'call_bIvwNh0esoy5L0I0ibfX6yyn'}])]}\n"
     ]
    },
    {
     "data": {
      "text/plain": [
       "{'configurable': {'thread_id': '3',\n",
       "  'thread_ts': '1efa4dab-419c-612a-8002-a263de308e3d'}}"
      ]
     },
     "execution_count": 23,
     "metadata": {},
     "output_type": "execute_result"
    }
   ],
   "source": [
    "abot.graph.update_state(thread, current_values.values)"
   ]
  },
  {
   "cell_type": "code",
   "execution_count": 24,
   "id": "76e93cce-6eab-4c7c-ac64-e9993fdb30d6",
   "metadata": {
    "height": 30
   },
   "outputs": [
    {
     "data": {
      "text/plain": [
       "StateSnapshot(values={'messages': [HumanMessage(content='Whats the weather in LA?', id='90281e8b-5009-4055-8f85-3c7e3779034d'), AIMessage(content='', additional_kwargs={'tool_calls': [{'function': {'arguments': '{\"query\":\"weather in Los Angeles\"}', 'name': 'tavily_search_results_json'}, 'id': 'call_bIvwNh0esoy5L0I0ibfX6yyn', 'type': 'function'}]}, response_metadata={'finish_reason': 'tool_calls', 'logprobs': None, 'model_name': 'gpt-3.5-turbo', 'system_fingerprint': None, 'token_usage': {'completion_tokens': 21, 'completion_tokens_details': {'accepted_prediction_tokens': 0, 'audio_tokens': 0, 'reasoning_tokens': 0, 'rejected_prediction_tokens': 0}, 'prompt_tokens': 152, 'prompt_tokens_details': {'audio_tokens': 0, 'cached_tokens': 0}, 'total_tokens': 173}}, id='run-5eeffcb8-fab2-4362-80a8-67d41f69467e-0', tool_calls=[{'name': 'tavily_search_results_json', 'args': {'query': 'current weather in Louisiana'}, 'id': 'call_bIvwNh0esoy5L0I0ibfX6yyn'}])]}, next=('action',), config={'configurable': {'thread_id': '3', 'thread_ts': '1efa4dab-419c-612a-8002-a263de308e3d'}}, metadata={'source': 'update', 'step': 2, 'writes': {'llm': {'messages': [HumanMessage(content='Whats the weather in LA?', id='90281e8b-5009-4055-8f85-3c7e3779034d'), AIMessage(content='', additional_kwargs={'tool_calls': [{'function': {'arguments': '{\"query\":\"weather in Los Angeles\"}', 'name': 'tavily_search_results_json'}, 'id': 'call_bIvwNh0esoy5L0I0ibfX6yyn', 'type': 'function'}]}, response_metadata={'finish_reason': 'tool_calls', 'logprobs': None, 'model_name': 'gpt-3.5-turbo', 'system_fingerprint': None, 'token_usage': {'completion_tokens': 21, 'completion_tokens_details': {'accepted_prediction_tokens': 0, 'audio_tokens': 0, 'reasoning_tokens': 0, 'rejected_prediction_tokens': 0}, 'prompt_tokens': 152, 'prompt_tokens_details': {'audio_tokens': 0, 'cached_tokens': 0}, 'total_tokens': 173}}, id='run-5eeffcb8-fab2-4362-80a8-67d41f69467e-0', tool_calls=[{'name': 'tavily_search_results_json', 'args': {'query': 'current weather in Louisiana'}, 'id': 'call_bIvwNh0esoy5L0I0ibfX6yyn'}])]}}}, created_at='2024-11-17T11:54:30.318716+00:00', parent_config={'configurable': {'thread_id': '3', 'thread_ts': '1efa4d9f-0d6e-60d1-8001-f16f81d34843'}})"
      ]
     },
     "execution_count": 24,
     "metadata": {},
     "output_type": "execute_result"
    }
   ],
   "source": [
    "abot.graph.get_state(thread)"
   ]
  },
  {
   "cell_type": "code",
   "execution_count": 25,
   "id": "fd2d0990-a932-423f-9ff3-5cada58c5f32",
   "metadata": {
    "height": 64
   },
   "outputs": [
    {
     "name": "stdout",
     "output_type": "stream",
     "text": [
      "Calling: {'name': 'tavily_search_results_json', 'args': {'query': 'current weather in Louisiana'}, 'id': 'call_bIvwNh0esoy5L0I0ibfX6yyn'}\n",
      "Back to the model!\n",
      "{'messages': [ToolMessage(content='[{\\'url\\': \\'https://www.weatherapi.com/\\', \\'content\\': \"{\\'location\\': {\\'name\\': \\'Louisiana\\', \\'region\\': \\'Missouri\\', \\'country\\': \\'USA United States of America\\', \\'lat\\': 39.4411, \\'lon\\': -91.0551, \\'tz_id\\': \\'America/Chicago\\', \\'localtime_epoch\\': 1731844252, \\'localtime\\': \\'2024-11-17 05:50\\'}, \\'current\\': {\\'last_updated_epoch\\': 1731843900, \\'last_updated\\': \\'2024-11-17 05:45\\', \\'temp_c\\': 9.9, \\'temp_f\\': 49.8, \\'is_day\\': 0, \\'condition\\': {\\'text\\': \\'Clear\\', \\'icon\\': \\'//cdn.weatherapi.com/weather/64x64/night/113.png\\', \\'code\\': 1000}, \\'wind_mph\\': 8.9, \\'wind_kph\\': 14.4, \\'wind_degree\\': 184, \\'wind_dir\\': \\'S\\', \\'pressure_mb\\': 1014.0, \\'pressure_in\\': 29.93, \\'precip_mm\\': 0.0, \\'precip_in\\': 0.0, \\'humidity\\': 94, \\'cloud\\': 0, \\'feelslike_c\\': 7.9, \\'feelslike_f\\': 46.2, \\'windchill_c\\': 5.0, \\'windchill_f\\': 41.0, \\'heatindex_c\\': 7.9, \\'heatindex_f\\': 46.2, \\'dewpoint_c\\': 6.8, \\'dewpoint_f\\': 44.2, \\'vis_km\\': 16.0, \\'vis_miles\\': 9.0, \\'uv\\': 0.0, \\'gust_mph\\': 17.4, \\'gust_kph\\': 28.0}}\"}, {\\'url\\': \\'https://www.accuweather.com/en/us/louisiana/weather-radar\\', \\'content\\': \\'See the latest Louisiana Doppler radar weather map including areas of rain, snow and ice. Our interactive map allows you to see the local & national weather\\'}]', name='tavily_search_results_json', id='751132d7-5c27-4801-a521-05c252394961', tool_call_id='call_bIvwNh0esoy5L0I0ibfX6yyn')]}\n",
      "{'messages': [HumanMessage(content='Whats the weather in LA?', id='90281e8b-5009-4055-8f85-3c7e3779034d'), AIMessage(content='', additional_kwargs={'tool_calls': [{'function': {'arguments': '{\"query\":\"weather in Los Angeles\"}', 'name': 'tavily_search_results_json'}, 'id': 'call_bIvwNh0esoy5L0I0ibfX6yyn', 'type': 'function'}]}, response_metadata={'finish_reason': 'tool_calls', 'logprobs': None, 'model_name': 'gpt-3.5-turbo', 'system_fingerprint': None, 'token_usage': {'completion_tokens': 21, 'completion_tokens_details': {'accepted_prediction_tokens': 0, 'audio_tokens': 0, 'reasoning_tokens': 0, 'rejected_prediction_tokens': 0}, 'prompt_tokens': 152, 'prompt_tokens_details': {'audio_tokens': 0, 'cached_tokens': 0}, 'total_tokens': 173}}, id='run-5eeffcb8-fab2-4362-80a8-67d41f69467e-0', tool_calls=[{'name': 'tavily_search_results_json', 'args': {'query': 'current weather in Louisiana'}, 'id': 'call_bIvwNh0esoy5L0I0ibfX6yyn'}]), ToolMessage(content='[{\\'url\\': \\'https://www.weatherapi.com/\\', \\'content\\': \"{\\'location\\': {\\'name\\': \\'Louisiana\\', \\'region\\': \\'Missouri\\', \\'country\\': \\'USA United States of America\\', \\'lat\\': 39.4411, \\'lon\\': -91.0551, \\'tz_id\\': \\'America/Chicago\\', \\'localtime_epoch\\': 1731844252, \\'localtime\\': \\'2024-11-17 05:50\\'}, \\'current\\': {\\'last_updated_epoch\\': 1731843900, \\'last_updated\\': \\'2024-11-17 05:45\\', \\'temp_c\\': 9.9, \\'temp_f\\': 49.8, \\'is_day\\': 0, \\'condition\\': {\\'text\\': \\'Clear\\', \\'icon\\': \\'//cdn.weatherapi.com/weather/64x64/night/113.png\\', \\'code\\': 1000}, \\'wind_mph\\': 8.9, \\'wind_kph\\': 14.4, \\'wind_degree\\': 184, \\'wind_dir\\': \\'S\\', \\'pressure_mb\\': 1014.0, \\'pressure_in\\': 29.93, \\'precip_mm\\': 0.0, \\'precip_in\\': 0.0, \\'humidity\\': 94, \\'cloud\\': 0, \\'feelslike_c\\': 7.9, \\'feelslike_f\\': 46.2, \\'windchill_c\\': 5.0, \\'windchill_f\\': 41.0, \\'heatindex_c\\': 7.9, \\'heatindex_f\\': 46.2, \\'dewpoint_c\\': 6.8, \\'dewpoint_f\\': 44.2, \\'vis_km\\': 16.0, \\'vis_miles\\': 9.0, \\'uv\\': 0.0, \\'gust_mph\\': 17.4, \\'gust_kph\\': 28.0}}\"}, {\\'url\\': \\'https://www.accuweather.com/en/us/louisiana/weather-radar\\', \\'content\\': \\'See the latest Louisiana Doppler radar weather map including areas of rain, snow and ice. Our interactive map allows you to see the local & national weather\\'}]', name='tavily_search_results_json', id='751132d7-5c27-4801-a521-05c252394961', tool_call_id='call_bIvwNh0esoy5L0I0ibfX6yyn'), AIMessage(content='I found information about the current weather in Louisiana, not Los Angeles. Would you like me to look up the weather in Los Angeles specifically?', response_metadata={'token_usage': {'completion_tokens': 29, 'prompt_tokens': 649, 'total_tokens': 678, 'prompt_tokens_details': {'cached_tokens': 0, 'audio_tokens': 0}, 'completion_tokens_details': {'reasoning_tokens': 0, 'audio_tokens': 0, 'accepted_prediction_tokens': 0, 'rejected_prediction_tokens': 0}}, 'model_name': 'gpt-3.5-turbo', 'system_fingerprint': None, 'finish_reason': 'stop', 'logprobs': None}, id='run-589f08d2-7f1b-42c8-a633-645f03f41847-0')]}\n",
      "{'messages': [AIMessage(content='I found information about the current weather in Louisiana, not Los Angeles. Would you like me to look up the weather in Los Angeles specifically?', response_metadata={'token_usage': {'completion_tokens': 29, 'prompt_tokens': 649, 'total_tokens': 678, 'prompt_tokens_details': {'cached_tokens': 0, 'audio_tokens': 0}, 'completion_tokens_details': {'reasoning_tokens': 0, 'audio_tokens': 0, 'accepted_prediction_tokens': 0, 'rejected_prediction_tokens': 0}}, 'model_name': 'gpt-3.5-turbo', 'system_fingerprint': None, 'finish_reason': 'stop', 'logprobs': None}, id='run-589f08d2-7f1b-42c8-a633-645f03f41847-0')]}\n"
     ]
    }
   ],
   "source": [
    "for event in abot.graph.stream(None, thread):\n",
    "    for v in event.values():\n",
    "        print(v)"
   ]
  },
  {
   "cell_type": "markdown",
   "id": "e75b870b-e0df-46f1-b29b-fb151ebcbcc3",
   "metadata": {},
   "source": [
    "## Time Travel\n",
    "\n",
    "We keep a list of all states. Even if we overwrite a state, we keep the previous state"
   ]
  },
  {
   "cell_type": "code",
   "execution_count": 26,
   "id": "27cde654-64e2-48bc-80a9-0ed668ccb7dc",
   "metadata": {
    "height": 98
   },
   "outputs": [
    {
     "name": "stdout",
     "output_type": "stream",
     "text": [
      "StateSnapshot(values={'messages': [HumanMessage(content='Whats the weather in LA?', id='90281e8b-5009-4055-8f85-3c7e3779034d'), AIMessage(content='', additional_kwargs={'tool_calls': [{'function': {'arguments': '{\"query\":\"weather in Los Angeles\"}', 'name': 'tavily_search_results_json'}, 'id': 'call_bIvwNh0esoy5L0I0ibfX6yyn', 'type': 'function'}]}, response_metadata={'finish_reason': 'tool_calls', 'logprobs': None, 'model_name': 'gpt-3.5-turbo', 'system_fingerprint': None, 'token_usage': {'completion_tokens': 21, 'completion_tokens_details': {'accepted_prediction_tokens': 0, 'audio_tokens': 0, 'reasoning_tokens': 0, 'rejected_prediction_tokens': 0}, 'prompt_tokens': 152, 'prompt_tokens_details': {'audio_tokens': 0, 'cached_tokens': 0}, 'total_tokens': 173}}, id='run-5eeffcb8-fab2-4362-80a8-67d41f69467e-0', tool_calls=[{'name': 'tavily_search_results_json', 'args': {'query': 'current weather in Louisiana'}, 'id': 'call_bIvwNh0esoy5L0I0ibfX6yyn'}]), ToolMessage(content='[{\\'url\\': \\'https://www.weatherapi.com/\\', \\'content\\': \"{\\'location\\': {\\'name\\': \\'Louisiana\\', \\'region\\': \\'Missouri\\', \\'country\\': \\'USA United States of America\\', \\'lat\\': 39.4411, \\'lon\\': -91.0551, \\'tz_id\\': \\'America/Chicago\\', \\'localtime_epoch\\': 1731844252, \\'localtime\\': \\'2024-11-17 05:50\\'}, \\'current\\': {\\'last_updated_epoch\\': 1731843900, \\'last_updated\\': \\'2024-11-17 05:45\\', \\'temp_c\\': 9.9, \\'temp_f\\': 49.8, \\'is_day\\': 0, \\'condition\\': {\\'text\\': \\'Clear\\', \\'icon\\': \\'//cdn.weatherapi.com/weather/64x64/night/113.png\\', \\'code\\': 1000}, \\'wind_mph\\': 8.9, \\'wind_kph\\': 14.4, \\'wind_degree\\': 184, \\'wind_dir\\': \\'S\\', \\'pressure_mb\\': 1014.0, \\'pressure_in\\': 29.93, \\'precip_mm\\': 0.0, \\'precip_in\\': 0.0, \\'humidity\\': 94, \\'cloud\\': 0, \\'feelslike_c\\': 7.9, \\'feelslike_f\\': 46.2, \\'windchill_c\\': 5.0, \\'windchill_f\\': 41.0, \\'heatindex_c\\': 7.9, \\'heatindex_f\\': 46.2, \\'dewpoint_c\\': 6.8, \\'dewpoint_f\\': 44.2, \\'vis_km\\': 16.0, \\'vis_miles\\': 9.0, \\'uv\\': 0.0, \\'gust_mph\\': 17.4, \\'gust_kph\\': 28.0}}\"}, {\\'url\\': \\'https://www.accuweather.com/en/us/louisiana/weather-radar\\', \\'content\\': \\'See the latest Louisiana Doppler radar weather map including areas of rain, snow and ice. Our interactive map allows you to see the local & national weather\\'}]', name='tavily_search_results_json', id='751132d7-5c27-4801-a521-05c252394961', tool_call_id='call_bIvwNh0esoy5L0I0ibfX6yyn'), AIMessage(content='I found information about the current weather in Louisiana, not Los Angeles. Would you like me to look up the weather in Los Angeles specifically?', response_metadata={'finish_reason': 'stop', 'logprobs': None, 'model_name': 'gpt-3.5-turbo', 'system_fingerprint': None, 'token_usage': {'completion_tokens': 29, 'completion_tokens_details': {'accepted_prediction_tokens': 0, 'audio_tokens': 0, 'reasoning_tokens': 0, 'rejected_prediction_tokens': 0}, 'prompt_tokens': 649, 'prompt_tokens_details': {'audio_tokens': 0, 'cached_tokens': 0}, 'total_tokens': 678}}, id='run-589f08d2-7f1b-42c8-a633-645f03f41847-0')]}, next=(), config={'configurable': {'thread_id': '3', 'thread_ts': '1efa4dac-65b8-68e3-8004-821dda231ffc'}}, metadata={'source': 'loop', 'step': 4, 'writes': {'llm': {'messages': [AIMessage(content='I found information about the current weather in Louisiana, not Los Angeles. Would you like me to look up the weather in Los Angeles specifically?', response_metadata={'finish_reason': 'stop', 'logprobs': None, 'model_name': 'gpt-3.5-turbo', 'system_fingerprint': None, 'token_usage': {'completion_tokens': 29, 'completion_tokens_details': {'accepted_prediction_tokens': 0, 'audio_tokens': 0, 'reasoning_tokens': 0, 'rejected_prediction_tokens': 0}, 'prompt_tokens': 649, 'prompt_tokens_details': {'audio_tokens': 0, 'cached_tokens': 0}, 'total_tokens': 678}}, id='run-589f08d2-7f1b-42c8-a633-645f03f41847-0')]}}}, created_at='2024-11-17T11:55:00.948789+00:00', parent_config={'configurable': {'thread_id': '3', 'thread_ts': '1efa4dac-5dfe-6692-8003-b7580e6c09ec'}})\n",
      "--\n",
      "StateSnapshot(values={'messages': [HumanMessage(content='Whats the weather in LA?', id='90281e8b-5009-4055-8f85-3c7e3779034d'), AIMessage(content='', additional_kwargs={'tool_calls': [{'function': {'arguments': '{\"query\":\"weather in Los Angeles\"}', 'name': 'tavily_search_results_json'}, 'id': 'call_bIvwNh0esoy5L0I0ibfX6yyn', 'type': 'function'}]}, response_metadata={'finish_reason': 'tool_calls', 'logprobs': None, 'model_name': 'gpt-3.5-turbo', 'system_fingerprint': None, 'token_usage': {'completion_tokens': 21, 'completion_tokens_details': {'accepted_prediction_tokens': 0, 'audio_tokens': 0, 'reasoning_tokens': 0, 'rejected_prediction_tokens': 0}, 'prompt_tokens': 152, 'prompt_tokens_details': {'audio_tokens': 0, 'cached_tokens': 0}, 'total_tokens': 173}}, id='run-5eeffcb8-fab2-4362-80a8-67d41f69467e-0', tool_calls=[{'name': 'tavily_search_results_json', 'args': {'query': 'current weather in Louisiana'}, 'id': 'call_bIvwNh0esoy5L0I0ibfX6yyn'}]), ToolMessage(content='[{\\'url\\': \\'https://www.weatherapi.com/\\', \\'content\\': \"{\\'location\\': {\\'name\\': \\'Louisiana\\', \\'region\\': \\'Missouri\\', \\'country\\': \\'USA United States of America\\', \\'lat\\': 39.4411, \\'lon\\': -91.0551, \\'tz_id\\': \\'America/Chicago\\', \\'localtime_epoch\\': 1731844252, \\'localtime\\': \\'2024-11-17 05:50\\'}, \\'current\\': {\\'last_updated_epoch\\': 1731843900, \\'last_updated\\': \\'2024-11-17 05:45\\', \\'temp_c\\': 9.9, \\'temp_f\\': 49.8, \\'is_day\\': 0, \\'condition\\': {\\'text\\': \\'Clear\\', \\'icon\\': \\'//cdn.weatherapi.com/weather/64x64/night/113.png\\', \\'code\\': 1000}, \\'wind_mph\\': 8.9, \\'wind_kph\\': 14.4, \\'wind_degree\\': 184, \\'wind_dir\\': \\'S\\', \\'pressure_mb\\': 1014.0, \\'pressure_in\\': 29.93, \\'precip_mm\\': 0.0, \\'precip_in\\': 0.0, \\'humidity\\': 94, \\'cloud\\': 0, \\'feelslike_c\\': 7.9, \\'feelslike_f\\': 46.2, \\'windchill_c\\': 5.0, \\'windchill_f\\': 41.0, \\'heatindex_c\\': 7.9, \\'heatindex_f\\': 46.2, \\'dewpoint_c\\': 6.8, \\'dewpoint_f\\': 44.2, \\'vis_km\\': 16.0, \\'vis_miles\\': 9.0, \\'uv\\': 0.0, \\'gust_mph\\': 17.4, \\'gust_kph\\': 28.0}}\"}, {\\'url\\': \\'https://www.accuweather.com/en/us/louisiana/weather-radar\\', \\'content\\': \\'See the latest Louisiana Doppler radar weather map including areas of rain, snow and ice. Our interactive map allows you to see the local & national weather\\'}]', name='tavily_search_results_json', id='751132d7-5c27-4801-a521-05c252394961', tool_call_id='call_bIvwNh0esoy5L0I0ibfX6yyn')]}, next=('llm',), config={'configurable': {'thread_id': '3', 'thread_ts': '1efa4dac-5dfe-6692-8003-b7580e6c09ec'}}, metadata={'source': 'loop', 'step': 3, 'writes': {'action': {'messages': [ToolMessage(content='[{\\'url\\': \\'https://www.weatherapi.com/\\', \\'content\\': \"{\\'location\\': {\\'name\\': \\'Louisiana\\', \\'region\\': \\'Missouri\\', \\'country\\': \\'USA United States of America\\', \\'lat\\': 39.4411, \\'lon\\': -91.0551, \\'tz_id\\': \\'America/Chicago\\', \\'localtime_epoch\\': 1731844252, \\'localtime\\': \\'2024-11-17 05:50\\'}, \\'current\\': {\\'last_updated_epoch\\': 1731843900, \\'last_updated\\': \\'2024-11-17 05:45\\', \\'temp_c\\': 9.9, \\'temp_f\\': 49.8, \\'is_day\\': 0, \\'condition\\': {\\'text\\': \\'Clear\\', \\'icon\\': \\'//cdn.weatherapi.com/weather/64x64/night/113.png\\', \\'code\\': 1000}, \\'wind_mph\\': 8.9, \\'wind_kph\\': 14.4, \\'wind_degree\\': 184, \\'wind_dir\\': \\'S\\', \\'pressure_mb\\': 1014.0, \\'pressure_in\\': 29.93, \\'precip_mm\\': 0.0, \\'precip_in\\': 0.0, \\'humidity\\': 94, \\'cloud\\': 0, \\'feelslike_c\\': 7.9, \\'feelslike_f\\': 46.2, \\'windchill_c\\': 5.0, \\'windchill_f\\': 41.0, \\'heatindex_c\\': 7.9, \\'heatindex_f\\': 46.2, \\'dewpoint_c\\': 6.8, \\'dewpoint_f\\': 44.2, \\'vis_km\\': 16.0, \\'vis_miles\\': 9.0, \\'uv\\': 0.0, \\'gust_mph\\': 17.4, \\'gust_kph\\': 28.0}}\"}, {\\'url\\': \\'https://www.accuweather.com/en/us/louisiana/weather-radar\\', \\'content\\': \\'See the latest Louisiana Doppler radar weather map including areas of rain, snow and ice. Our interactive map allows you to see the local & national weather\\'}]', name='tavily_search_results_json', id='751132d7-5c27-4801-a521-05c252394961', tool_call_id='call_bIvwNh0esoy5L0I0ibfX6yyn')]}}}, created_at='2024-11-17T11:55:00.138528+00:00', parent_config={'configurable': {'thread_id': '3', 'thread_ts': '1efa4dab-419c-612a-8002-a263de308e3d'}})\n",
      "--\n",
      "StateSnapshot(values={'messages': [HumanMessage(content='Whats the weather in LA?', id='90281e8b-5009-4055-8f85-3c7e3779034d'), AIMessage(content='', additional_kwargs={'tool_calls': [{'function': {'arguments': '{\"query\":\"weather in Los Angeles\"}', 'name': 'tavily_search_results_json'}, 'id': 'call_bIvwNh0esoy5L0I0ibfX6yyn', 'type': 'function'}]}, response_metadata={'finish_reason': 'tool_calls', 'logprobs': None, 'model_name': 'gpt-3.5-turbo', 'system_fingerprint': None, 'token_usage': {'completion_tokens': 21, 'completion_tokens_details': {'accepted_prediction_tokens': 0, 'audio_tokens': 0, 'reasoning_tokens': 0, 'rejected_prediction_tokens': 0}, 'prompt_tokens': 152, 'prompt_tokens_details': {'audio_tokens': 0, 'cached_tokens': 0}, 'total_tokens': 173}}, id='run-5eeffcb8-fab2-4362-80a8-67d41f69467e-0', tool_calls=[{'name': 'tavily_search_results_json', 'args': {'query': 'current weather in Louisiana'}, 'id': 'call_bIvwNh0esoy5L0I0ibfX6yyn'}])]}, next=('action',), config={'configurable': {'thread_id': '3', 'thread_ts': '1efa4dab-419c-612a-8002-a263de308e3d'}}, metadata={'source': 'update', 'step': 2, 'writes': {'llm': {'messages': [HumanMessage(content='Whats the weather in LA?', id='90281e8b-5009-4055-8f85-3c7e3779034d'), AIMessage(content='', additional_kwargs={'tool_calls': [{'function': {'arguments': '{\"query\":\"weather in Los Angeles\"}', 'name': 'tavily_search_results_json'}, 'id': 'call_bIvwNh0esoy5L0I0ibfX6yyn', 'type': 'function'}]}, response_metadata={'finish_reason': 'tool_calls', 'logprobs': None, 'model_name': 'gpt-3.5-turbo', 'system_fingerprint': None, 'token_usage': {'completion_tokens': 21, 'completion_tokens_details': {'accepted_prediction_tokens': 0, 'audio_tokens': 0, 'reasoning_tokens': 0, 'rejected_prediction_tokens': 0}, 'prompt_tokens': 152, 'prompt_tokens_details': {'audio_tokens': 0, 'cached_tokens': 0}, 'total_tokens': 173}}, id='run-5eeffcb8-fab2-4362-80a8-67d41f69467e-0', tool_calls=[{'name': 'tavily_search_results_json', 'args': {'query': 'current weather in Louisiana'}, 'id': 'call_bIvwNh0esoy5L0I0ibfX6yyn'}])]}}}, created_at='2024-11-17T11:54:30.318716+00:00', parent_config={'configurable': {'thread_id': '3', 'thread_ts': '1efa4d9f-0d6e-60d1-8001-f16f81d34843'}})\n",
      "--\n",
      "StateSnapshot(values={'messages': [HumanMessage(content='Whats the weather in LA?', id='90281e8b-5009-4055-8f85-3c7e3779034d'), AIMessage(content='', additional_kwargs={'tool_calls': [{'function': {'arguments': '{\"query\":\"weather in Los Angeles\"}', 'name': 'tavily_search_results_json'}, 'id': 'call_bIvwNh0esoy5L0I0ibfX6yyn', 'type': 'function'}]}, response_metadata={'finish_reason': 'tool_calls', 'logprobs': None, 'model_name': 'gpt-3.5-turbo', 'system_fingerprint': None, 'token_usage': {'completion_tokens': 21, 'completion_tokens_details': {'accepted_prediction_tokens': 0, 'audio_tokens': 0, 'reasoning_tokens': 0, 'rejected_prediction_tokens': 0}, 'prompt_tokens': 152, 'prompt_tokens_details': {'audio_tokens': 0, 'cached_tokens': 0}, 'total_tokens': 173}}, id='run-5eeffcb8-fab2-4362-80a8-67d41f69467e-0', tool_calls=[{'name': 'tavily_search_results_json', 'args': {'query': 'weather in Los Angeles'}, 'id': 'call_bIvwNh0esoy5L0I0ibfX6yyn'}])]}, next=('action',), config={'configurable': {'thread_id': '3', 'thread_ts': '1efa4d9f-0d6e-60d1-8001-f16f81d34843'}}, metadata={'source': 'loop', 'step': 1, 'writes': {'llm': {'messages': [AIMessage(content='', additional_kwargs={'tool_calls': [{'function': {'arguments': '{\"query\":\"weather in Los Angeles\"}', 'name': 'tavily_search_results_json'}, 'id': 'call_bIvwNh0esoy5L0I0ibfX6yyn', 'type': 'function'}]}, response_metadata={'finish_reason': 'tool_calls', 'logprobs': None, 'model_name': 'gpt-3.5-turbo', 'system_fingerprint': None, 'token_usage': {'completion_tokens': 21, 'completion_tokens_details': {'accepted_prediction_tokens': 0, 'audio_tokens': 0, 'reasoning_tokens': 0, 'rejected_prediction_tokens': 0}, 'prompt_tokens': 152, 'prompt_tokens_details': {'audio_tokens': 0, 'cached_tokens': 0}, 'total_tokens': 173}}, id='run-5eeffcb8-fab2-4362-80a8-67d41f69467e-0', tool_calls=[{'name': 'tavily_search_results_json', 'args': {'query': 'weather in Los Angeles'}, 'id': 'call_bIvwNh0esoy5L0I0ibfX6yyn'}])]}}}, created_at='2024-11-17T11:49:02.724707+00:00', parent_config={'configurable': {'thread_id': '3', 'thread_ts': '1efa4d9f-0ce7-6350-8000-8696904814c6'}})\n",
      "--\n",
      "StateSnapshot(values={'messages': [HumanMessage(content='Whats the weather in LA?', id='90281e8b-5009-4055-8f85-3c7e3779034d')]}, next=('llm',), config={'configurable': {'thread_id': '3', 'thread_ts': '1efa4d9f-0ce7-6350-8000-8696904814c6'}}, metadata={'source': 'loop', 'step': 0, 'writes': None}, created_at='2024-11-17T11:49:02.669465+00:00', parent_config={'configurable': {'thread_id': '3', 'thread_ts': '1efa4d9f-0ce4-6146-bfff-745e4b30c1ea'}})\n",
      "--\n",
      "StateSnapshot(values={'messages': []}, next=('__start__',), config={'configurable': {'thread_id': '3', 'thread_ts': '1efa4d9f-0ce4-6146-bfff-745e4b30c1ea'}}, metadata={'source': 'input', 'step': -1, 'writes': {'messages': [HumanMessage(content='Whats the weather in LA?')]}}, created_at='2024-11-17T11:49:02.668205+00:00', parent_config=None)\n",
      "--\n"
     ]
    }
   ],
   "source": [
    "states = []\n",
    "for state in abot.graph.get_state_history(thread):\n",
    "    print(state)\n",
    "    print('--')\n",
    "    states.append(state)"
   ]
  },
  {
   "cell_type": "markdown",
   "id": "449896c8-6ec6-4166-b640-9cd1530336a0",
   "metadata": {},
   "source": [
    "To fetch the same state as was filmed, the offset below is changed to `-3` from `-1`. This accounts for the initial state `__start__` and the first state that are now stored to state memory with the latest version of software."
   ]
  },
  {
   "cell_type": "code",
   "execution_count": 27,
   "id": "4871f644-b131-4065-b7ce-b82c20a41f11",
   "metadata": {
    "height": 30
   },
   "outputs": [],
   "source": [
    "to_replay = states[-3]"
   ]
  },
  {
   "cell_type": "code",
   "execution_count": 28,
   "id": "8c3d8070-3f36-4cf0-a677-508e54359c8f",
   "metadata": {
    "height": 30
   },
   "outputs": [
    {
     "data": {
      "text/plain": [
       "StateSnapshot(values={'messages': [HumanMessage(content='Whats the weather in LA?', id='90281e8b-5009-4055-8f85-3c7e3779034d'), AIMessage(content='', additional_kwargs={'tool_calls': [{'function': {'arguments': '{\"query\":\"weather in Los Angeles\"}', 'name': 'tavily_search_results_json'}, 'id': 'call_bIvwNh0esoy5L0I0ibfX6yyn', 'type': 'function'}]}, response_metadata={'finish_reason': 'tool_calls', 'logprobs': None, 'model_name': 'gpt-3.5-turbo', 'system_fingerprint': None, 'token_usage': {'completion_tokens': 21, 'completion_tokens_details': {'accepted_prediction_tokens': 0, 'audio_tokens': 0, 'reasoning_tokens': 0, 'rejected_prediction_tokens': 0}, 'prompt_tokens': 152, 'prompt_tokens_details': {'audio_tokens': 0, 'cached_tokens': 0}, 'total_tokens': 173}}, id='run-5eeffcb8-fab2-4362-80a8-67d41f69467e-0', tool_calls=[{'name': 'tavily_search_results_json', 'args': {'query': 'weather in Los Angeles'}, 'id': 'call_bIvwNh0esoy5L0I0ibfX6yyn'}])]}, next=('action',), config={'configurable': {'thread_id': '3', 'thread_ts': '1efa4d9f-0d6e-60d1-8001-f16f81d34843'}}, metadata={'source': 'loop', 'step': 1, 'writes': {'llm': {'messages': [AIMessage(content='', additional_kwargs={'tool_calls': [{'function': {'arguments': '{\"query\":\"weather in Los Angeles\"}', 'name': 'tavily_search_results_json'}, 'id': 'call_bIvwNh0esoy5L0I0ibfX6yyn', 'type': 'function'}]}, response_metadata={'finish_reason': 'tool_calls', 'logprobs': None, 'model_name': 'gpt-3.5-turbo', 'system_fingerprint': None, 'token_usage': {'completion_tokens': 21, 'completion_tokens_details': {'accepted_prediction_tokens': 0, 'audio_tokens': 0, 'reasoning_tokens': 0, 'rejected_prediction_tokens': 0}, 'prompt_tokens': 152, 'prompt_tokens_details': {'audio_tokens': 0, 'cached_tokens': 0}, 'total_tokens': 173}}, id='run-5eeffcb8-fab2-4362-80a8-67d41f69467e-0', tool_calls=[{'name': 'tavily_search_results_json', 'args': {'query': 'weather in Los Angeles'}, 'id': 'call_bIvwNh0esoy5L0I0ibfX6yyn'}])]}}}, created_at='2024-11-17T11:49:02.724707+00:00', parent_config={'configurable': {'thread_id': '3', 'thread_ts': '1efa4d9f-0ce7-6350-8000-8696904814c6'}})"
      ]
     },
     "execution_count": 28,
     "metadata": {},
     "output_type": "execute_result"
    }
   ],
   "source": [
    "to_replay"
   ]
  },
  {
   "cell_type": "code",
   "execution_count": 29,
   "id": "98f3be1d-cc4c-41fa-9863-3e386e88e305",
   "metadata": {
    "height": 64
   },
   "outputs": [
    {
     "name": "stdout",
     "output_type": "stream",
     "text": [
      "Calling: {'name': 'tavily_search_results_json', 'args': {'query': 'weather in Los Angeles'}, 'id': 'call_bIvwNh0esoy5L0I0ibfX6yyn'}\n",
      "Back to the model!\n",
      "{'messages': [ToolMessage(content='[{\\'url\\': \\'https://www.weatherapi.com/\\', \\'content\\': \"{\\'location\\': {\\'name\\': \\'Los Angeles\\', \\'region\\': \\'California\\', \\'country\\': \\'United States of America\\', \\'lat\\': 34.0522, \\'lon\\': -118.2428, \\'tz_id\\': \\'America/Los_Angeles\\', \\'localtime_epoch\\': 1731844763, \\'localtime\\': \\'2024-11-17 03:59\\'}, \\'current\\': {\\'last_updated_epoch\\': 1731843900, \\'last_updated\\': \\'2024-11-17 03:45\\', \\'temp_c\\': 8.3, \\'temp_f\\': 46.9, \\'is_day\\': 0, \\'condition\\': {\\'text\\': \\'Clear\\', \\'icon\\': \\'//cdn.weatherapi.com/weather/64x64/night/113.png\\', \\'code\\': 1000}, \\'wind_mph\\': 2.7, \\'wind_kph\\': 4.3, \\'wind_degree\\': 8, \\'wind_dir\\': \\'N\\', \\'pressure_mb\\': 1015.0, \\'pressure_in\\': 29.97, \\'precip_mm\\': 0.0, \\'precip_in\\': 0.0, \\'humidity\\': 56, \\'cloud\\': 0, \\'feelslike_c\\': 8.1, \\'feelslike_f\\': 46.5, \\'windchill_c\\': 9.3, \\'windchill_f\\': 48.7, \\'heatindex_c\\': 10.8, \\'heatindex_f\\': 51.5, \\'dewpoint_c\\': -4.9, \\'dewpoint_f\\': 23.2, \\'vis_km\\': 16.0, \\'vis_miles\\': 9.0, \\'uv\\': 0.0, \\'gust_mph\\': 4.5, \\'gust_kph\\': 7.3}}\"}, {\\'url\\': \\'https://www.weathertab.com/en/c/e/11/united-states/california/los-angeles/\\', \\'content\\': \\'Temperature Forecast. Temperature Forecast Normal. Avg High Temps 70 to 80 °F. Avg Low Temps 40 to 55 °F. Explore comprehensive November 2024 weather forecasts for Los Angeles, including daily high and low temperatures, precipitation risks, and monthly temperature trends. Featuring detailed day-by-day forecasts, dynamic graphs of daily rain\\'}]', name='tavily_search_results_json', id='5536e445-6ef3-40a5-af62-68c3afd0059f', tool_call_id='call_bIvwNh0esoy5L0I0ibfX6yyn')]}\n",
      "{'messages': [HumanMessage(content='Whats the weather in LA?', id='90281e8b-5009-4055-8f85-3c7e3779034d'), AIMessage(content='', additional_kwargs={'tool_calls': [{'function': {'arguments': '{\"query\":\"weather in Los Angeles\"}', 'name': 'tavily_search_results_json'}, 'id': 'call_bIvwNh0esoy5L0I0ibfX6yyn', 'type': 'function'}]}, response_metadata={'finish_reason': 'tool_calls', 'logprobs': None, 'model_name': 'gpt-3.5-turbo', 'system_fingerprint': None, 'token_usage': {'completion_tokens': 21, 'completion_tokens_details': {'accepted_prediction_tokens': 0, 'audio_tokens': 0, 'reasoning_tokens': 0, 'rejected_prediction_tokens': 0}, 'prompt_tokens': 152, 'prompt_tokens_details': {'audio_tokens': 0, 'cached_tokens': 0}, 'total_tokens': 173}}, id='run-5eeffcb8-fab2-4362-80a8-67d41f69467e-0', tool_calls=[{'name': 'tavily_search_results_json', 'args': {'query': 'weather in Los Angeles'}, 'id': 'call_bIvwNh0esoy5L0I0ibfX6yyn'}]), ToolMessage(content='[{\\'url\\': \\'https://www.weatherapi.com/\\', \\'content\\': \"{\\'location\\': {\\'name\\': \\'Los Angeles\\', \\'region\\': \\'California\\', \\'country\\': \\'United States of America\\', \\'lat\\': 34.0522, \\'lon\\': -118.2428, \\'tz_id\\': \\'America/Los_Angeles\\', \\'localtime_epoch\\': 1731844763, \\'localtime\\': \\'2024-11-17 03:59\\'}, \\'current\\': {\\'last_updated_epoch\\': 1731843900, \\'last_updated\\': \\'2024-11-17 03:45\\', \\'temp_c\\': 8.3, \\'temp_f\\': 46.9, \\'is_day\\': 0, \\'condition\\': {\\'text\\': \\'Clear\\', \\'icon\\': \\'//cdn.weatherapi.com/weather/64x64/night/113.png\\', \\'code\\': 1000}, \\'wind_mph\\': 2.7, \\'wind_kph\\': 4.3, \\'wind_degree\\': 8, \\'wind_dir\\': \\'N\\', \\'pressure_mb\\': 1015.0, \\'pressure_in\\': 29.97, \\'precip_mm\\': 0.0, \\'precip_in\\': 0.0, \\'humidity\\': 56, \\'cloud\\': 0, \\'feelslike_c\\': 8.1, \\'feelslike_f\\': 46.5, \\'windchill_c\\': 9.3, \\'windchill_f\\': 48.7, \\'heatindex_c\\': 10.8, \\'heatindex_f\\': 51.5, \\'dewpoint_c\\': -4.9, \\'dewpoint_f\\': 23.2, \\'vis_km\\': 16.0, \\'vis_miles\\': 9.0, \\'uv\\': 0.0, \\'gust_mph\\': 4.5, \\'gust_kph\\': 7.3}}\"}, {\\'url\\': \\'https://www.weathertab.com/en/c/e/11/united-states/california/los-angeles/\\', \\'content\\': \\'Temperature Forecast. Temperature Forecast Normal. Avg High Temps 70 to 80 °F. Avg Low Temps 40 to 55 °F. Explore comprehensive November 2024 weather forecasts for Los Angeles, including daily high and low temperatures, precipitation risks, and monthly temperature trends. Featuring detailed day-by-day forecasts, dynamic graphs of daily rain\\'}]', name='tavily_search_results_json', id='5536e445-6ef3-40a5-af62-68c3afd0059f', tool_call_id='call_bIvwNh0esoy5L0I0ibfX6yyn'), AIMessage(content='The current weather in Los Angeles is clear with a temperature of 46.9°F (8.3°C). The wind is coming from the north at 4.3 km/h. The humidity is at 56%, and there is no precipitation expected.', response_metadata={'token_usage': {'completion_tokens': 53, 'prompt_tokens': 698, 'total_tokens': 751, 'prompt_tokens_details': {'cached_tokens': 0, 'audio_tokens': 0}, 'completion_tokens_details': {'reasoning_tokens': 0, 'audio_tokens': 0, 'accepted_prediction_tokens': 0, 'rejected_prediction_tokens': 0}}, 'model_name': 'gpt-3.5-turbo', 'system_fingerprint': None, 'finish_reason': 'stop', 'logprobs': None}, id='run-f1ee034f-1d4b-4121-838a-fb0e44e55e07-0')]}\n",
      "{'messages': [AIMessage(content='The current weather in Los Angeles is clear with a temperature of 46.9°F (8.3°C). The wind is coming from the north at 4.3 km/h. The humidity is at 56%, and there is no precipitation expected.', response_metadata={'token_usage': {'completion_tokens': 53, 'prompt_tokens': 698, 'total_tokens': 751, 'prompt_tokens_details': {'cached_tokens': 0, 'audio_tokens': 0}, 'completion_tokens_details': {'reasoning_tokens': 0, 'audio_tokens': 0, 'accepted_prediction_tokens': 0, 'rejected_prediction_tokens': 0}}, 'model_name': 'gpt-3.5-turbo', 'system_fingerprint': None, 'finish_reason': 'stop', 'logprobs': None}, id='run-f1ee034f-1d4b-4121-838a-fb0e44e55e07-0')]}\n"
     ]
    }
   ],
   "source": [
    "for event in abot.graph.stream(None, to_replay.config):\n",
    "    for k, v in event.items():\n",
    "        print(v)"
   ]
  },
  {
   "cell_type": "markdown",
   "id": "0398e477",
   "metadata": {},
   "source": [
    "The most recent state "
   ]
  },
  {
   "cell_type": "code",
   "execution_count": 43,
   "id": "3b981f31",
   "metadata": {
    "height": 30
   },
   "outputs": [
    {
     "data": {
      "text/plain": [
       "[HumanMessage(content='Whats the weather in LA?', id='90281e8b-5009-4055-8f85-3c7e3779034d'),\n",
       " AIMessage(content='', additional_kwargs={'tool_calls': [{'function': {'arguments': '{\"query\":\"weather in Los Angeles\"}', 'name': 'tavily_search_results_json'}, 'id': 'call_bIvwNh0esoy5L0I0ibfX6yyn', 'type': 'function'}]}, response_metadata={'finish_reason': 'tool_calls', 'logprobs': None, 'model_name': 'gpt-3.5-turbo', 'system_fingerprint': None, 'token_usage': {'completion_tokens': 21, 'completion_tokens_details': {'accepted_prediction_tokens': 0, 'audio_tokens': 0, 'reasoning_tokens': 0, 'rejected_prediction_tokens': 0}, 'prompt_tokens': 152, 'prompt_tokens_details': {'audio_tokens': 0, 'cached_tokens': 0}, 'total_tokens': 173}}, id='run-5eeffcb8-fab2-4362-80a8-67d41f69467e-0', tool_calls=[{'name': 'tavily_search_results_json', 'args': {'query': 'current weather in Louisiana'}, 'id': 'call_bIvwNh0esoy5L0I0ibfX6yyn'}]),\n",
       " ToolMessage(content='[{\\'url\\': \\'https://www.weatherapi.com/\\', \\'content\\': \"{\\'location\\': {\\'name\\': \\'Louisiana\\', \\'region\\': \\'Missouri\\', \\'country\\': \\'USA United States of America\\', \\'lat\\': 39.4411, \\'lon\\': -91.0551, \\'tz_id\\': \\'America/Chicago\\', \\'localtime_epoch\\': 1731844252, \\'localtime\\': \\'2024-11-17 05:50\\'}, \\'current\\': {\\'last_updated_epoch\\': 1731843900, \\'last_updated\\': \\'2024-11-17 05:45\\', \\'temp_c\\': 9.9, \\'temp_f\\': 49.8, \\'is_day\\': 0, \\'condition\\': {\\'text\\': \\'Clear\\', \\'icon\\': \\'//cdn.weatherapi.com/weather/64x64/night/113.png\\', \\'code\\': 1000}, \\'wind_mph\\': 8.9, \\'wind_kph\\': 14.4, \\'wind_degree\\': 184, \\'wind_dir\\': \\'S\\', \\'pressure_mb\\': 1014.0, \\'pressure_in\\': 29.93, \\'precip_mm\\': 0.0, \\'precip_in\\': 0.0, \\'humidity\\': 94, \\'cloud\\': 0, \\'feelslike_c\\': 7.9, \\'feelslike_f\\': 46.2, \\'windchill_c\\': 5.0, \\'windchill_f\\': 41.0, \\'heatindex_c\\': 7.9, \\'heatindex_f\\': 46.2, \\'dewpoint_c\\': 6.8, \\'dewpoint_f\\': 44.2, \\'vis_km\\': 16.0, \\'vis_miles\\': 9.0, \\'uv\\': 0.0, \\'gust_mph\\': 17.4, \\'gust_kph\\': 28.0}}\"}, {\\'url\\': \\'https://www.accuweather.com/en/us/louisiana/weather-radar\\', \\'content\\': \\'See the latest Louisiana Doppler radar weather map including areas of rain, snow and ice. Our interactive map allows you to see the local & national weather\\'}]', name='tavily_search_results_json', id='751132d7-5c27-4801-a521-05c252394961', tool_call_id='call_bIvwNh0esoy5L0I0ibfX6yyn'),\n",
       " AIMessage(content='I found information about the current weather in Louisiana, not Los Angeles. Would you like me to look up the weather in Los Angeles specifically?', response_metadata={'finish_reason': 'stop', 'logprobs': None, 'model_name': 'gpt-3.5-turbo', 'system_fingerprint': None, 'token_usage': {'completion_tokens': 29, 'completion_tokens_details': {'accepted_prediction_tokens': 0, 'audio_tokens': 0, 'reasoning_tokens': 0, 'rejected_prediction_tokens': 0}, 'prompt_tokens': 649, 'prompt_tokens_details': {'audio_tokens': 0, 'cached_tokens': 0}, 'total_tokens': 678}}, id='run-589f08d2-7f1b-42c8-a633-645f03f41847-0')]"
      ]
     },
     "execution_count": 43,
     "metadata": {},
     "output_type": "execute_result"
    }
   ],
   "source": [
    "states[0].values[\"messages\"]"
   ]
  },
  {
   "cell_type": "markdown",
   "id": "005353dc-630b-4b40-ab19-56c57ac06611",
   "metadata": {},
   "source": [
    "## Go back in time and edit"
   ]
  },
  {
   "cell_type": "code",
   "execution_count": 44,
   "id": "0ad8a6cc-65d4-4ce7-87aa-4e67d7c23d7b",
   "metadata": {
    "height": 30
   },
   "outputs": [
    {
     "data": {
      "text/plain": [
       "StateSnapshot(values={'messages': [HumanMessage(content='Whats the weather in LA?', id='90281e8b-5009-4055-8f85-3c7e3779034d'), AIMessage(content='', additional_kwargs={'tool_calls': [{'function': {'arguments': '{\"query\":\"weather in Los Angeles\"}', 'name': 'tavily_search_results_json'}, 'id': 'call_bIvwNh0esoy5L0I0ibfX6yyn', 'type': 'function'}]}, response_metadata={'finish_reason': 'tool_calls', 'logprobs': None, 'model_name': 'gpt-3.5-turbo', 'system_fingerprint': None, 'token_usage': {'completion_tokens': 21, 'completion_tokens_details': {'accepted_prediction_tokens': 0, 'audio_tokens': 0, 'reasoning_tokens': 0, 'rejected_prediction_tokens': 0}, 'prompt_tokens': 152, 'prompt_tokens_details': {'audio_tokens': 0, 'cached_tokens': 0}, 'total_tokens': 173}}, id='run-5eeffcb8-fab2-4362-80a8-67d41f69467e-0', tool_calls=[{'name': 'tavily_search_results_json', 'args': {'query': 'weather in Los Angeles'}, 'id': 'call_bIvwNh0esoy5L0I0ibfX6yyn'}])]}, next=('action',), config={'configurable': {'thread_id': '3', 'thread_ts': '1efa4d9f-0d6e-60d1-8001-f16f81d34843'}}, metadata={'source': 'loop', 'step': 1, 'writes': {'llm': {'messages': [AIMessage(content='', additional_kwargs={'tool_calls': [{'function': {'arguments': '{\"query\":\"weather in Los Angeles\"}', 'name': 'tavily_search_results_json'}, 'id': 'call_bIvwNh0esoy5L0I0ibfX6yyn', 'type': 'function'}]}, response_metadata={'finish_reason': 'tool_calls', 'logprobs': None, 'model_name': 'gpt-3.5-turbo', 'system_fingerprint': None, 'token_usage': {'completion_tokens': 21, 'completion_tokens_details': {'accepted_prediction_tokens': 0, 'audio_tokens': 0, 'reasoning_tokens': 0, 'rejected_prediction_tokens': 0}, 'prompt_tokens': 152, 'prompt_tokens_details': {'audio_tokens': 0, 'cached_tokens': 0}, 'total_tokens': 173}}, id='run-5eeffcb8-fab2-4362-80a8-67d41f69467e-0', tool_calls=[{'name': 'tavily_search_results_json', 'args': {'query': 'weather in Los Angeles'}, 'id': 'call_bIvwNh0esoy5L0I0ibfX6yyn'}])]}}}, created_at='2024-11-17T11:49:02.724707+00:00', parent_config={'configurable': {'thread_id': '3', 'thread_ts': '1efa4d9f-0ce7-6350-8000-8696904814c6'}})"
      ]
     },
     "execution_count": 44,
     "metadata": {},
     "output_type": "execute_result"
    }
   ],
   "source": [
    "to_replay"
   ]
  },
  {
   "cell_type": "code",
   "execution_count": 46,
   "id": "592b5e62-a203-433c-92a0-3783f490cde1",
   "metadata": {
    "height": 96
   },
   "outputs": [],
   "source": [
    "_id = to_replay.values['messages'][-1].tool_calls[0]['id']\n",
    "to_replay.values['messages'][-1].tool_calls = [{'name': 'tavily_search_results_json',\n",
    "  'args': {'query': 'current weather in LA, accuweather'},\n",
    "  'id': _id}]"
   ]
  },
  {
   "cell_type": "code",
   "execution_count": 47,
   "id": "14fa923c-7e4f-42d1-965f-0f8ccd50fbd7",
   "metadata": {
    "height": 45
   },
   "outputs": [
    {
     "name": "stdout",
     "output_type": "stream",
     "text": [
      "{'messages': [HumanMessage(content='Whats the weather in LA?', id='90281e8b-5009-4055-8f85-3c7e3779034d'), AIMessage(content='', additional_kwargs={'tool_calls': [{'function': {'arguments': '{\"query\":\"weather in Los Angeles\"}', 'name': 'tavily_search_results_json'}, 'id': 'call_bIvwNh0esoy5L0I0ibfX6yyn', 'type': 'function'}]}, response_metadata={'finish_reason': 'tool_calls', 'logprobs': None, 'model_name': 'gpt-3.5-turbo', 'system_fingerprint': None, 'token_usage': {'completion_tokens': 21, 'completion_tokens_details': {'accepted_prediction_tokens': 0, 'audio_tokens': 0, 'reasoning_tokens': 0, 'rejected_prediction_tokens': 0}, 'prompt_tokens': 152, 'prompt_tokens_details': {'audio_tokens': 0, 'cached_tokens': 0}, 'total_tokens': 173}}, id='run-5eeffcb8-fab2-4362-80a8-67d41f69467e-0', tool_calls=[{'name': 'tavily_search_results_json', 'args': {'query': 'current weather in LA, accuweather'}, 'id': 'call_bIvwNh0esoy5L0I0ibfX6yyn'}])]}\n"
     ]
    }
   ],
   "source": [
    "branch_state = abot.graph.update_state(to_replay.config, to_replay.values)"
   ]
  },
  {
   "cell_type": "code",
   "execution_count": 48,
   "id": "0bbd99f9",
   "metadata": {
    "height": 30
   },
   "outputs": [
    {
     "data": {
      "text/plain": [
       "{'configurable': {'thread_id': '3',\n",
       "  'thread_ts': '1efa4dd2-c32d-6481-8002-24aead4bd270'}}"
      ]
     },
     "execution_count": 48,
     "metadata": {},
     "output_type": "execute_result"
    }
   ],
   "source": [
    "branch_state"
   ]
  },
  {
   "cell_type": "code",
   "execution_count": 49,
   "id": "570c6245-2837-4ac5-983b-95f61f3ac10d",
   "metadata": {
    "height": 81
   },
   "outputs": [
    {
     "name": "stdout",
     "output_type": "stream",
     "text": [
      "Calling: {'name': 'tavily_search_results_json', 'args': {'query': 'current weather in LA, accuweather'}, 'id': 'call_bIvwNh0esoy5L0I0ibfX6yyn'}\n",
      "Back to the model!\n",
      "{'messages': [ToolMessage(content='[{\\'url\\': \\'https://www.weatherapi.com/\\', \\'content\\': \"{\\'location\\': {\\'name\\': \\'Los Angeles\\', \\'region\\': \\'California\\', \\'country\\': \\'United States of America\\', \\'lat\\': 34.0522, \\'lon\\': -118.2428, \\'tz_id\\': \\'America/Los_Angeles\\', \\'localtime_epoch\\': 1731845870, \\'localtime\\': \\'2024-11-17 04:17\\'}, \\'current\\': {\\'last_updated_epoch\\': 1731845700, \\'last_updated\\': \\'2024-11-17 04:15\\', \\'temp_c\\': 8.3, \\'temp_f\\': 46.9, \\'is_day\\': 0, \\'condition\\': {\\'text\\': \\'Clear\\', \\'icon\\': \\'//cdn.weatherapi.com/weather/64x64/night/113.png\\', \\'code\\': 1000}, \\'wind_mph\\': 2.9, \\'wind_kph\\': 4.7, \\'wind_degree\\': 25, \\'wind_dir\\': \\'NNE\\', \\'pressure_mb\\': 1015.0, \\'pressure_in\\': 29.97, \\'precip_mm\\': 0.0, \\'precip_in\\': 0.0, \\'humidity\\': 56, \\'cloud\\': 0, \\'feelslike_c\\': 7.9, \\'feelslike_f\\': 46.3, \\'windchill_c\\': 9.0, \\'windchill_f\\': 48.2, \\'heatindex_c\\': 10.6, \\'heatindex_f\\': 51.1, \\'dewpoint_c\\': -5.9, \\'dewpoint_f\\': 21.5, \\'vis_km\\': 16.0, \\'vis_miles\\': 9.0, \\'uv\\': 0.0, \\'gust_mph\\': 5.0, \\'gust_kph\\': 8.0}}\"}, {\\'url\\': \\'https://www.accuweather.com/en/us/los-angeles/90012/daily-weather-forecast/347625\\', \\'content\\': \"Know what\\'s coming with AccuWeather\\'s extended daily forecasts for Los Angeles, CA. Up to 90 days of daily highs, lows, and precipitation chances.\"}]', name='tavily_search_results_json', id='0be5766f-f5d0-409f-9fa3-da9a98260d77', tool_call_id='call_bIvwNh0esoy5L0I0ibfX6yyn')]}\n",
      "{'messages': [HumanMessage(content='Whats the weather in LA?', id='90281e8b-5009-4055-8f85-3c7e3779034d'), AIMessage(content='', additional_kwargs={'tool_calls': [{'function': {'arguments': '{\"query\":\"weather in Los Angeles\"}', 'name': 'tavily_search_results_json'}, 'id': 'call_bIvwNh0esoy5L0I0ibfX6yyn', 'type': 'function'}]}, response_metadata={'finish_reason': 'tool_calls', 'logprobs': None, 'model_name': 'gpt-3.5-turbo', 'system_fingerprint': None, 'token_usage': {'completion_tokens': 21, 'completion_tokens_details': {'accepted_prediction_tokens': 0, 'audio_tokens': 0, 'reasoning_tokens': 0, 'rejected_prediction_tokens': 0}, 'prompt_tokens': 152, 'prompt_tokens_details': {'audio_tokens': 0, 'cached_tokens': 0}, 'total_tokens': 173}}, id='run-5eeffcb8-fab2-4362-80a8-67d41f69467e-0', tool_calls=[{'name': 'tavily_search_results_json', 'args': {'query': 'current weather in LA, accuweather'}, 'id': 'call_bIvwNh0esoy5L0I0ibfX6yyn'}]), ToolMessage(content='[{\\'url\\': \\'https://www.weatherapi.com/\\', \\'content\\': \"{\\'location\\': {\\'name\\': \\'Los Angeles\\', \\'region\\': \\'California\\', \\'country\\': \\'United States of America\\', \\'lat\\': 34.0522, \\'lon\\': -118.2428, \\'tz_id\\': \\'America/Los_Angeles\\', \\'localtime_epoch\\': 1731845870, \\'localtime\\': \\'2024-11-17 04:17\\'}, \\'current\\': {\\'last_updated_epoch\\': 1731845700, \\'last_updated\\': \\'2024-11-17 04:15\\', \\'temp_c\\': 8.3, \\'temp_f\\': 46.9, \\'is_day\\': 0, \\'condition\\': {\\'text\\': \\'Clear\\', \\'icon\\': \\'//cdn.weatherapi.com/weather/64x64/night/113.png\\', \\'code\\': 1000}, \\'wind_mph\\': 2.9, \\'wind_kph\\': 4.7, \\'wind_degree\\': 25, \\'wind_dir\\': \\'NNE\\', \\'pressure_mb\\': 1015.0, \\'pressure_in\\': 29.97, \\'precip_mm\\': 0.0, \\'precip_in\\': 0.0, \\'humidity\\': 56, \\'cloud\\': 0, \\'feelslike_c\\': 7.9, \\'feelslike_f\\': 46.3, \\'windchill_c\\': 9.0, \\'windchill_f\\': 48.2, \\'heatindex_c\\': 10.6, \\'heatindex_f\\': 51.1, \\'dewpoint_c\\': -5.9, \\'dewpoint_f\\': 21.5, \\'vis_km\\': 16.0, \\'vis_miles\\': 9.0, \\'uv\\': 0.0, \\'gust_mph\\': 5.0, \\'gust_kph\\': 8.0}}\"}, {\\'url\\': \\'https://www.accuweather.com/en/us/los-angeles/90012/daily-weather-forecast/347625\\', \\'content\\': \"Know what\\'s coming with AccuWeather\\'s extended daily forecasts for Los Angeles, CA. Up to 90 days of daily highs, lows, and precipitation chances.\"}]', name='tavily_search_results_json', id='0be5766f-f5d0-409f-9fa3-da9a98260d77', tool_call_id='call_bIvwNh0esoy5L0I0ibfX6yyn'), AIMessage(content=\"The current weather in Los Angeles is as follows:\\n- Temperature: 46.9°F\\n- Condition: Clear\\n- Wind: 4.7 km/h from NNE\\n- Humidity: 56%\\n- Visibility: 9.0 miles\\n\\nIf you need more detailed information, you can check AccuWeather's extended daily forecasts for Los Angeles [here](https://www.accuweather.com/en/us/los-angeles/90012/daily-weather-forecast/347625).\", response_metadata={'token_usage': {'completion_tokens': 104, 'prompt_tokens': 668, 'total_tokens': 772, 'prompt_tokens_details': {'cached_tokens': 0, 'audio_tokens': 0}, 'completion_tokens_details': {'reasoning_tokens': 0, 'audio_tokens': 0, 'accepted_prediction_tokens': 0, 'rejected_prediction_tokens': 0}}, 'model_name': 'gpt-3.5-turbo', 'system_fingerprint': None, 'finish_reason': 'stop', 'logprobs': None}, id='run-50132489-e6e6-4adb-a2a2-f7beef4d5c02-0')]}\n",
      "{'messages': [AIMessage(content=\"The current weather in Los Angeles is as follows:\\n- Temperature: 46.9°F\\n- Condition: Clear\\n- Wind: 4.7 km/h from NNE\\n- Humidity: 56%\\n- Visibility: 9.0 miles\\n\\nIf you need more detailed information, you can check AccuWeather's extended daily forecasts for Los Angeles [here](https://www.accuweather.com/en/us/los-angeles/90012/daily-weather-forecast/347625).\", response_metadata={'token_usage': {'completion_tokens': 104, 'prompt_tokens': 668, 'total_tokens': 772, 'prompt_tokens_details': {'cached_tokens': 0, 'audio_tokens': 0}, 'completion_tokens_details': {'reasoning_tokens': 0, 'audio_tokens': 0, 'accepted_prediction_tokens': 0, 'rejected_prediction_tokens': 0}}, 'model_name': 'gpt-3.5-turbo', 'system_fingerprint': None, 'finish_reason': 'stop', 'logprobs': None}, id='run-50132489-e6e6-4adb-a2a2-f7beef4d5c02-0')]}\n"
     ]
    }
   ],
   "source": [
    "for event in abot.graph.stream(None, branch_state):\n",
    "    for k, v in event.items():\n",
    "        if k != \"__end__\":\n",
    "            print(v)"
   ]
  },
  {
   "cell_type": "markdown",
   "id": "f1016ce7-368d-4922-9044-fcdfd47c273b",
   "metadata": {},
   "source": [
    "## Add message to a state at a given time"
   ]
  },
  {
   "cell_type": "code",
   "execution_count": 50,
   "id": "6b910915-b087-4d35-afff-0ec30a5852f1",
   "metadata": {
    "height": 30
   },
   "outputs": [
    {
     "data": {
      "text/plain": [
       "StateSnapshot(values={'messages': [HumanMessage(content='Whats the weather in LA?', id='90281e8b-5009-4055-8f85-3c7e3779034d'), AIMessage(content='', additional_kwargs={'tool_calls': [{'function': {'arguments': '{\"query\":\"weather in Los Angeles\"}', 'name': 'tavily_search_results_json'}, 'id': 'call_bIvwNh0esoy5L0I0ibfX6yyn', 'type': 'function'}]}, response_metadata={'finish_reason': 'tool_calls', 'logprobs': None, 'model_name': 'gpt-3.5-turbo', 'system_fingerprint': None, 'token_usage': {'completion_tokens': 21, 'completion_tokens_details': {'accepted_prediction_tokens': 0, 'audio_tokens': 0, 'reasoning_tokens': 0, 'rejected_prediction_tokens': 0}, 'prompt_tokens': 152, 'prompt_tokens_details': {'audio_tokens': 0, 'cached_tokens': 0}, 'total_tokens': 173}}, id='run-5eeffcb8-fab2-4362-80a8-67d41f69467e-0', tool_calls=[{'name': 'tavily_search_results_json', 'args': {'query': 'current weather in LA, accuweather'}, 'id': 'call_bIvwNh0esoy5L0I0ibfX6yyn'}])]}, next=('action',), config={'configurable': {'thread_id': '3', 'thread_ts': '1efa4d9f-0d6e-60d1-8001-f16f81d34843'}}, metadata={'source': 'loop', 'step': 1, 'writes': {'llm': {'messages': [AIMessage(content='', additional_kwargs={'tool_calls': [{'function': {'arguments': '{\"query\":\"weather in Los Angeles\"}', 'name': 'tavily_search_results_json'}, 'id': 'call_bIvwNh0esoy5L0I0ibfX6yyn', 'type': 'function'}]}, response_metadata={'finish_reason': 'tool_calls', 'logprobs': None, 'model_name': 'gpt-3.5-turbo', 'system_fingerprint': None, 'token_usage': {'completion_tokens': 21, 'completion_tokens_details': {'accepted_prediction_tokens': 0, 'audio_tokens': 0, 'reasoning_tokens': 0, 'rejected_prediction_tokens': 0}, 'prompt_tokens': 152, 'prompt_tokens_details': {'audio_tokens': 0, 'cached_tokens': 0}, 'total_tokens': 173}}, id='run-5eeffcb8-fab2-4362-80a8-67d41f69467e-0', tool_calls=[{'name': 'tavily_search_results_json', 'args': {'query': 'weather in Los Angeles'}, 'id': 'call_bIvwNh0esoy5L0I0ibfX6yyn'}])]}}}, created_at='2024-11-17T11:49:02.724707+00:00', parent_config={'configurable': {'thread_id': '3', 'thread_ts': '1efa4d9f-0ce7-6350-8000-8696904814c6'}})"
      ]
     },
     "execution_count": 50,
     "metadata": {},
     "output_type": "execute_result"
    }
   ],
   "source": [
    "to_replay"
   ]
  },
  {
   "cell_type": "code",
   "execution_count": 51,
   "id": "c4feb6cc-5129-4a99-bb45-851bc07b5709",
   "metadata": {
    "height": 30
   },
   "outputs": [],
   "source": [
    "_id = to_replay.values['messages'][-1].tool_calls[0]['id']"
   ]
  },
  {
   "cell_type": "code",
   "execution_count": 52,
   "id": "e85a02b4-96cc-4b01-8792-397a774eb499",
   "metadata": {
    "height": 98
   },
   "outputs": [],
   "source": [
    "state_update = {\"messages\": [ToolMessage(\n",
    "    tool_call_id=_id,\n",
    "    name=\"tavily_search_results_json\",\n",
    "    content=\"54 degree celcius\",\n",
    ")]}"
   ]
  },
  {
   "cell_type": "code",
   "execution_count": 54,
   "id": "ae8b86a6-5e20-4252-b1d8-009b8318345a",
   "metadata": {
    "height": 96
   },
   "outputs": [],
   "source": [
    "branch_and_add = abot.graph.update_state(\n",
    "    to_replay.config, \n",
    "    state_update, \n",
    "    as_node=\"action\")  # this makes sure that the next action is 'action' and we don't call 'action' again"
   ]
  },
  {
   "cell_type": "code",
   "execution_count": 55,
   "id": "af925917-b746-48c9-ac74-62fefbe5246c",
   "metadata": {
    "height": 64
   },
   "outputs": [
    {
     "name": "stdout",
     "output_type": "stream",
     "text": [
      "{'messages': [HumanMessage(content='Whats the weather in LA?', id='90281e8b-5009-4055-8f85-3c7e3779034d'), AIMessage(content='', additional_kwargs={'tool_calls': [{'function': {'arguments': '{\"query\":\"weather in Los Angeles\"}', 'name': 'tavily_search_results_json'}, 'id': 'call_bIvwNh0esoy5L0I0ibfX6yyn', 'type': 'function'}]}, response_metadata={'finish_reason': 'tool_calls', 'logprobs': None, 'model_name': 'gpt-3.5-turbo', 'system_fingerprint': None, 'token_usage': {'completion_tokens': 21, 'completion_tokens_details': {'accepted_prediction_tokens': 0, 'audio_tokens': 0, 'reasoning_tokens': 0, 'rejected_prediction_tokens': 0}, 'prompt_tokens': 152, 'prompt_tokens_details': {'audio_tokens': 0, 'cached_tokens': 0}, 'total_tokens': 173}}, id='run-5eeffcb8-fab2-4362-80a8-67d41f69467e-0', tool_calls=[{'name': 'tavily_search_results_json', 'args': {'query': 'weather in Los Angeles'}, 'id': 'call_bIvwNh0esoy5L0I0ibfX6yyn'}]), ToolMessage(content='54 degree celcius', name='tavily_search_results_json', id='357d222d-77ad-4720-a80a-f72f534a5a0d', tool_call_id='call_bIvwNh0esoy5L0I0ibfX6yyn'), AIMessage(content='The current weather in Los Angeles is 54 degrees Celsius.', response_metadata={'token_usage': {'completion_tokens': 13, 'prompt_tokens': 190, 'total_tokens': 203, 'prompt_tokens_details': {'cached_tokens': 0, 'audio_tokens': 0}, 'completion_tokens_details': {'reasoning_tokens': 0, 'audio_tokens': 0, 'accepted_prediction_tokens': 0, 'rejected_prediction_tokens': 0}}, 'model_name': 'gpt-3.5-turbo', 'system_fingerprint': None, 'finish_reason': 'stop', 'logprobs': None}, id='run-3f632e78-ebbb-4853-8450-20e9f20d6cbd-0')]}\n",
      "{'messages': [AIMessage(content='The current weather in Los Angeles is 54 degrees Celsius.', response_metadata={'token_usage': {'completion_tokens': 13, 'prompt_tokens': 190, 'total_tokens': 203, 'prompt_tokens_details': {'cached_tokens': 0, 'audio_tokens': 0}, 'completion_tokens_details': {'reasoning_tokens': 0, 'audio_tokens': 0, 'accepted_prediction_tokens': 0, 'rejected_prediction_tokens': 0}}, 'model_name': 'gpt-3.5-turbo', 'system_fingerprint': None, 'finish_reason': 'stop', 'logprobs': None}, id='run-3f632e78-ebbb-4853-8450-20e9f20d6cbd-0')]}\n"
     ]
    }
   ],
   "source": [
    "for event in abot.graph.stream(None, branch_and_add):\n",
    "    for k, v in event.items():\n",
    "        print(v)"
   ]
  },
  {
   "cell_type": "markdown",
   "id": "a6b1de51-f1dd-4719-89e6-01c21d2b304e",
   "metadata": {},
   "source": [
    "# Extra Practice"
   ]
  },
  {
   "cell_type": "markdown",
   "id": "31e06033-59fd-4d6b-8891-fb8bc2d7a037",
   "metadata": {},
   "source": [
    "## Build a small graph\n",
    "This is a small simple graph you can tinker with if you want more insight into controlling state memory."
   ]
  },
  {
   "cell_type": "code",
   "execution_count": 129,
   "id": "7614683e-1c13-4518-b464-263fb91be761",
   "metadata": {
    "height": 64
   },
   "outputs": [],
   "source": [
    "from dotenv import load_dotenv\n",
    "\n",
    "_ = load_dotenv()"
   ]
  },
  {
   "cell_type": "code",
   "execution_count": 130,
   "id": "efbef86a-75fe-416f-99ab-70b181d934dc",
   "metadata": {
    "height": 81
   },
   "outputs": [],
   "source": [
    "from langgraph.graph import StateGraph, END\n",
    "from typing import TypedDict, Annotated\n",
    "import operator\n",
    "from langgraph.checkpoint.sqlite import SqliteSaver"
   ]
  },
  {
   "cell_type": "markdown",
   "id": "67c972f7-5a14-49da-9d82-37105a6637ed",
   "metadata": {},
   "source": [
    "Define a simple 2 node graph with the following state:\n",
    "-`lnode`: last node\n",
    "-`scratch`: a scratchpad location\n",
    "-`count` : a counter that is incremented each step"
   ]
  },
  {
   "cell_type": "code",
   "execution_count": 131,
   "id": "b846f637-5e98-4a7d-9ca0-5144302b7cef",
   "metadata": {
    "height": 81
   },
   "outputs": [],
   "source": [
    "class AgentState(TypedDict):\n",
    "    lnode: str\n",
    "    scratch: str\n",
    "    count: Annotated[int, operator.add]"
   ]
  },
  {
   "cell_type": "code",
   "execution_count": 132,
   "id": "b8bb1c6d-41b7-4f5b-807b-ecbdec82d8d6",
   "metadata": {
    "height": 183
   },
   "outputs": [],
   "source": [
    "def node1(state: AgentState):\n",
    "    print(f\"node1, count:{state['count']}\")\n",
    "    return {\"lnode\": \"node_1\",\n",
    "            \"count\": 1,\n",
    "           }\n",
    "def node2(state: AgentState):\n",
    "    print(f\"node2, count:{state['count']}\")\n",
    "    return {\"lnode\": \"node_2\",\n",
    "            \"count\": 1,\n",
    "           }"
   ]
  },
  {
   "cell_type": "markdown",
   "id": "6adc403b-10d2-4a6c-bd21-c84bb8e0c8fc",
   "metadata": {},
   "source": [
    "The graph goes N1->N2->N1... but breaks after count reaches 3."
   ]
  },
  {
   "cell_type": "code",
   "execution_count": 133,
   "id": "b2c6d249-4793-41c5-8e80-40f1eedc4baf",
   "metadata": {
    "height": 47
   },
   "outputs": [],
   "source": [
    "def should_continue(state):\n",
    "    return state[\"count\"] < 3"
   ]
  },
  {
   "cell_type": "code",
   "execution_count": 134,
   "id": "4e3721d9-4508-48fa-9be0-93af20144072",
   "metadata": {
    "height": 166
   },
   "outputs": [],
   "source": [
    "builder = StateGraph(AgentState)\n",
    "builder.add_node(\"Node1\", node1)\n",
    "builder.add_node(\"Node2\", node2)\n",
    "\n",
    "builder.add_edge(\"Node1\", \"Node2\")\n",
    "builder.add_conditional_edges(\"Node2\", \n",
    "                              should_continue, \n",
    "                              {True: \"Node1\", False: END})\n",
    "builder.set_entry_point(\"Node1\")"
   ]
  },
  {
   "cell_type": "code",
   "execution_count": 135,
   "id": "8d35d70c-daeb-49c1-9b7c-90cc2a7ca142",
   "metadata": {
    "height": 47
   },
   "outputs": [],
   "source": [
    "memory = SqliteSaver.from_conn_string(\":memory:\")\n",
    "graph = builder.compile(checkpointer=memory)"
   ]
  },
  {
   "cell_type": "markdown",
   "id": "c57051f5-f7fb-4be5-a2f5-21cb1aa4fecb",
   "metadata": {},
   "source": [
    "### Run it!\n",
    "Now, set the thread and run!"
   ]
  },
  {
   "cell_type": "code",
   "execution_count": 136,
   "id": "edba3a1a-84a7-45eb-a6ee-74a612b68d54",
   "metadata": {
    "height": 47
   },
   "outputs": [
    {
     "name": "stdout",
     "output_type": "stream",
     "text": [
      "node1, count:0\n",
      "node2, count:1\n",
      "node1, count:2\n",
      "node2, count:3\n"
     ]
    },
    {
     "data": {
      "text/plain": [
       "{'lnode': 'node_2', 'scratch': 'hi', 'count': 4}"
      ]
     },
     "execution_count": 136,
     "metadata": {},
     "output_type": "execute_result"
    }
   ],
   "source": [
    "thread = {\"configurable\": {\"thread_id\": str(1)}}\n",
    "graph.invoke({\"count\":0, \"scratch\":\"hi\"},thread)"
   ]
  },
  {
   "cell_type": "markdown",
   "id": "2ce7b035-bfdb-4642-8750-47d188277423",
   "metadata": {},
   "source": [
    "### Look at current state"
   ]
  },
  {
   "cell_type": "markdown",
   "id": "43324904-a6f4-4299-86de-e0218e4cb225",
   "metadata": {},
   "source": [
    "Get the current state. Note the `values` which are the AgentState. Note the `config` and the `thread_ts`. You will be using those to refer to snapshots below."
   ]
  },
  {
   "cell_type": "code",
   "execution_count": 137,
   "id": "f2513b41-31b2-46e6-84f6-0c519f697973",
   "metadata": {
    "height": 132
   },
   "outputs": [
    {
     "name": "stdout",
     "output_type": "stream",
     "text": [
      "\n",
      "Current state:\n",
      "StateSnapshot(values={'lnode': 'node_2', 'scratch': 'hi', 'count': 4}, next=(), config={'configurable': {'thread_id': '1', 'thread_ts': '1efa4e48-5fc4-666f-8004-96fae4e94139'}}, metadata={'source': 'loop', 'step': 4, 'writes': {'Node2': {'count': 1, 'lnode': 'node_2'}}}, created_at='2024-11-17T13:04:47.917617+00:00', parent_config={'configurable': {'thread_id': '1', 'thread_ts': '1efa4e48-5fc1-6703-8003-cc557b1708fe'}})\n",
      "\n",
      "Current state - values:\n",
      "{'lnode': 'node_2', 'scratch': 'hi', 'count': 4}\n",
      "\n",
      "Current state - config:\n",
      "{'configurable': {'thread_id': '1', 'thread_ts': '1efa4e48-5fc4-666f-8004-96fae4e94139'}}\n"
     ]
    }
   ],
   "source": [
    "current_state = graph.get_state(thread)\n",
    "print(\"\\nCurrent state:\")\n",
    "print(current_state)\n",
    "print(\"\\nCurrent state - values:\")\n",
    "print(current_state.values)\n",
    "print(\"\\nCurrent state - config:\")\n",
    "print(current_state.config)"
   ]
  },
  {
   "cell_type": "markdown",
   "id": "18647be0-c7c6-4ec5-9454-54a034fcd053",
   "metadata": {},
   "source": [
    "### Look at state history\n",
    "\n",
    "View all the statesnapshots in memory. You can use the displayed `count` agentstate variable to help track what you see. Notice the most recent snapshots are returned by the iterator first. Also note that there is a handy `step` variable in the metadata that counts the number of steps in the graph execution. This is a bit detailed - but you can also notice that the *parent_config* is the *config* of the previous node. At initial startup, additional states are inserted into memory to create a parent. This is something to check when you branch or *time travel* below."
   ]
  },
  {
   "cell_type": "code",
   "execution_count": 138,
   "id": "686fa197-c97f-4ae6-82d2-938bbe5542c1",
   "metadata": {
    "height": 47
   },
   "outputs": [
    {
     "name": "stdout",
     "output_type": "stream",
     "text": [
      "StateSnapshot(values={'lnode': 'node_2', 'scratch': 'hi', 'count': 4}, next=(), config={'configurable': {'thread_id': '1', 'thread_ts': '1efa4e48-5fc4-666f-8004-96fae4e94139'}}, metadata={'source': 'loop', 'step': 4, 'writes': {'Node2': {'count': 1, 'lnode': 'node_2'}}}, created_at='2024-11-17T13:04:47.917617+00:00', parent_config={'configurable': {'thread_id': '1', 'thread_ts': '1efa4e48-5fc1-6703-8003-cc557b1708fe'}}) \n",
      "\n",
      "StateSnapshot(values={'lnode': 'node_1', 'scratch': 'hi', 'count': 3}, next=('Node2',), config={'configurable': {'thread_id': '1', 'thread_ts': '1efa4e48-5fc1-6703-8003-cc557b1708fe'}}, metadata={'source': 'loop', 'step': 3, 'writes': {'Node1': {'count': 1, 'lnode': 'node_1'}}}, created_at='2024-11-17T13:04:47.916400+00:00', parent_config={'configurable': {'thread_id': '1', 'thread_ts': '1efa4e48-5fbe-65d2-8002-14aa99aa5548'}}) \n",
      "\n",
      "StateSnapshot(values={'lnode': 'node_2', 'scratch': 'hi', 'count': 2}, next=('Node1',), config={'configurable': {'thread_id': '1', 'thread_ts': '1efa4e48-5fbe-65d2-8002-14aa99aa5548'}}, metadata={'source': 'loop', 'step': 2, 'writes': {'Node2': {'count': 1, 'lnode': 'node_2'}}}, created_at='2024-11-17T13:04:47.915139+00:00', parent_config={'configurable': {'thread_id': '1', 'thread_ts': '1efa4e48-5fb9-60f9-8001-13f010615126'}}) \n",
      "\n",
      "StateSnapshot(values={'lnode': 'node_1', 'scratch': 'hi', 'count': 1}, next=('Node2',), config={'configurable': {'thread_id': '1', 'thread_ts': '1efa4e48-5fb9-60f9-8001-13f010615126'}}, metadata={'source': 'loop', 'step': 1, 'writes': {'Node1': {'count': 1, 'lnode': 'node_1'}}}, created_at='2024-11-17T13:04:47.912976+00:00', parent_config={'configurable': {'thread_id': '1', 'thread_ts': '1efa4e48-5fb6-623c-8000-e39fff12c815'}}) \n",
      "\n",
      "StateSnapshot(values={'scratch': 'hi', 'count': 0}, next=('Node1',), config={'configurable': {'thread_id': '1', 'thread_ts': '1efa4e48-5fb6-623c-8000-e39fff12c815'}}, metadata={'source': 'loop', 'step': 0, 'writes': None}, created_at='2024-11-17T13:04:47.911779+00:00', parent_config={'configurable': {'thread_id': '1', 'thread_ts': '1efa4e48-5fb4-6040-bfff-effe79f65d5c'}}) \n",
      "\n",
      "StateSnapshot(values={'count': 0}, next=('__start__',), config={'configurable': {'thread_id': '1', 'thread_ts': '1efa4e48-5fb4-6040-bfff-effe79f65d5c'}}, metadata={'source': 'input', 'step': -1, 'writes': {'count': 0, 'scratch': 'hi'}}, created_at='2024-11-17T13:04:47.910906+00:00', parent_config=None) \n",
      "\n"
     ]
    }
   ],
   "source": [
    "for state in graph.get_state_history(thread):\n",
    "    print(state, \"\\n\")"
   ]
  },
  {
   "cell_type": "markdown",
   "id": "dd7850ff-0748-43d7-8956-074fa9fd819f",
   "metadata": {},
   "source": [
    "Store just the `config` into an list. Note the sequence of counts on the right. `get_state_history` returns the most recent snapshots first."
   ]
  },
  {
   "cell_type": "code",
   "execution_count": 139,
   "id": "9f68e604-4f53-46c0-8f06-e7726ec9dcf6",
   "metadata": {
    "height": 81
   },
   "outputs": [
    {
     "name": "stdout",
     "output_type": "stream",
     "text": [
      "{'configurable': {'thread_id': '1', 'thread_ts': '1efa4e48-5fc4-666f-8004-96fae4e94139'}} 4\n",
      "{'configurable': {'thread_id': '1', 'thread_ts': '1efa4e48-5fc1-6703-8003-cc557b1708fe'}} 3\n",
      "{'configurable': {'thread_id': '1', 'thread_ts': '1efa4e48-5fbe-65d2-8002-14aa99aa5548'}} 2\n",
      "{'configurable': {'thread_id': '1', 'thread_ts': '1efa4e48-5fb9-60f9-8001-13f010615126'}} 1\n",
      "{'configurable': {'thread_id': '1', 'thread_ts': '1efa4e48-5fb6-623c-8000-e39fff12c815'}} 0\n",
      "{'configurable': {'thread_id': '1', 'thread_ts': '1efa4e48-5fb4-6040-bfff-effe79f65d5c'}} 0\n"
     ]
    }
   ],
   "source": [
    "states = []\n",
    "for state in graph.get_state_history(thread):\n",
    "    states.append(state.config)\n",
    "    print(state.config, state.values['count'])"
   ]
  },
  {
   "cell_type": "markdown",
   "id": "90790095-4080-4e76-b538-47caac7d9699",
   "metadata": {},
   "source": [
    "Grab an early state."
   ]
  },
  {
   "cell_type": "code",
   "execution_count": 140,
   "id": "e1db574e-f158-44cf-b921-f1f4466c314d",
   "metadata": {
    "height": 30
   },
   "outputs": [
    {
     "data": {
      "text/plain": [
       "{'configurable': {'thread_id': '1',\n",
       "  'thread_ts': '1efa4e48-5fb9-60f9-8001-13f010615126'}}"
      ]
     },
     "execution_count": 140,
     "metadata": {},
     "output_type": "execute_result"
    }
   ],
   "source": [
    "states[-3]"
   ]
  },
  {
   "cell_type": "markdown",
   "id": "2cc233eb-f388-4ecd-bfb5-dac3568d37ce",
   "metadata": {},
   "source": [
    "This is the state after Node1 completed for the first time. Note `next` is `Node2`and `count` is 1."
   ]
  },
  {
   "cell_type": "code",
   "execution_count": 141,
   "id": "240f5039-7916-4c2a-88d5-d363b2898e70",
   "metadata": {
    "height": 30
   },
   "outputs": [
    {
     "data": {
      "text/plain": [
       "StateSnapshot(values={'lnode': 'node_1', 'scratch': 'hi', 'count': 1}, next=('Node2',), config={'configurable': {'thread_id': '1', 'thread_ts': '1efa4e48-5fb9-60f9-8001-13f010615126'}}, metadata={'source': 'loop', 'step': 1, 'writes': {'Node1': {'count': 1, 'lnode': 'node_1'}}}, created_at='2024-11-17T13:04:47.912976+00:00', parent_config={'configurable': {'thread_id': '1', 'thread_ts': '1efa4e48-5fb6-623c-8000-e39fff12c815'}})"
      ]
     },
     "execution_count": 141,
     "metadata": {},
     "output_type": "execute_result"
    }
   ],
   "source": [
    "graph.get_state(states[-3])"
   ]
  },
  {
   "cell_type": "markdown",
   "id": "4872468e-4d23-4840-ae14-c06c1ab4f161",
   "metadata": {},
   "source": [
    "### Go Back in Time\n",
    "Use that state in `invoke` to go back in time. Notice it uses states[-3] as *current_state* and continues to node2,"
   ]
  },
  {
   "cell_type": "code",
   "execution_count": 142,
   "id": "e3049179-b901-4557-a9c4-78afb3d53d27",
   "metadata": {
    "height": 30
   },
   "outputs": [
    {
     "name": "stdout",
     "output_type": "stream",
     "text": [
      "node2, count:1\n",
      "node1, count:2\n",
      "node2, count:3\n"
     ]
    },
    {
     "data": {
      "text/plain": [
       "{'lnode': 'node_2', 'scratch': 'hi', 'count': 4}"
      ]
     },
     "execution_count": 142,
     "metadata": {},
     "output_type": "execute_result"
    }
   ],
   "source": [
    "graph.invoke(None, states[-3])"
   ]
  },
  {
   "cell_type": "markdown",
   "id": "5bf7789a-df3d-4c7e-8899-d96a99d45717",
   "metadata": {},
   "source": [
    "Notice the new states are now in state history. Notice the counts on the far right."
   ]
  },
  {
   "cell_type": "code",
   "execution_count": 143,
   "id": "37fa44ec-9bd1-484b-a415-cc5f50b6e799",
   "metadata": {
    "height": 64
   },
   "outputs": [
    {
     "name": "stdout",
     "output_type": "stream",
     "text": [
      "{'configurable': {'thread_id': '1', 'thread_ts': '1efa4e48-ee9a-67e5-8004-a90288ae6fc6'}} 4\n",
      "{'configurable': {'thread_id': '1', 'thread_ts': '1efa4e48-ee97-6ab6-8003-648c8f6fc6e2'}} 3\n",
      "{'configurable': {'thread_id': '1', 'thread_ts': '1efa4e48-ee92-6a9f-8002-e78c019f3b3e'}} 2\n",
      "{'configurable': {'thread_id': '1', 'thread_ts': '1efa4e48-5fc4-666f-8004-96fae4e94139'}} 4\n",
      "{'configurable': {'thread_id': '1', 'thread_ts': '1efa4e48-5fc1-6703-8003-cc557b1708fe'}} 3\n",
      "{'configurable': {'thread_id': '1', 'thread_ts': '1efa4e48-5fbe-65d2-8002-14aa99aa5548'}} 2\n",
      "{'configurable': {'thread_id': '1', 'thread_ts': '1efa4e48-5fb9-60f9-8001-13f010615126'}} 1\n",
      "{'configurable': {'thread_id': '1', 'thread_ts': '1efa4e48-5fb6-623c-8000-e39fff12c815'}} 0\n",
      "{'configurable': {'thread_id': '1', 'thread_ts': '1efa4e48-5fb4-6040-bfff-effe79f65d5c'}} 0\n"
     ]
    }
   ],
   "source": [
    "thread = {\"configurable\": {\"thread_id\": str(1)}}\n",
    "for state in graph.get_state_history(thread):\n",
    "    print(state.config, state.values['count'])"
   ]
  },
  {
   "cell_type": "markdown",
   "id": "d3c8d305-6752-4cf6-a8cb-7babf3bbd643",
   "metadata": {},
   "source": [
    "You can see the details below. Lots of text, but try to find the node that start the new branch. Notice the parent *config* is not the previous entry in the stack, but is the entry from state[-3]."
   ]
  },
  {
   "cell_type": "code",
   "execution_count": 144,
   "id": "07d25697-fcf0-4a26-9485-3e195b0af225",
   "metadata": {
    "height": 64
   },
   "outputs": [
    {
     "name": "stdout",
     "output_type": "stream",
     "text": [
      "StateSnapshot(values={'lnode': 'node_2', 'scratch': 'hi', 'count': 4}, next=(), config={'configurable': {'thread_id': '1', 'thread_ts': '1efa4e48-ee9a-67e5-8004-a90288ae6fc6'}}, metadata={'source': 'loop', 'step': 4, 'writes': {'Node2': {'count': 1, 'lnode': 'node_2'}}}, created_at='2024-11-17T13:05:02.895089+00:00', parent_config={'configurable': {'thread_id': '1', 'thread_ts': '1efa4e48-ee97-6ab6-8003-648c8f6fc6e2'}}) \n",
      "\n",
      "StateSnapshot(values={'lnode': 'node_1', 'scratch': 'hi', 'count': 3}, next=('Node2',), config={'configurable': {'thread_id': '1', 'thread_ts': '1efa4e48-ee97-6ab6-8003-648c8f6fc6e2'}}, metadata={'source': 'loop', 'step': 3, 'writes': {'Node1': {'count': 1, 'lnode': 'node_1'}}}, created_at='2024-11-17T13:05:02.893929+00:00', parent_config={'configurable': {'thread_id': '1', 'thread_ts': '1efa4e48-ee92-6a9f-8002-e78c019f3b3e'}}) \n",
      "\n",
      "StateSnapshot(values={'lnode': 'node_2', 'scratch': 'hi', 'count': 2}, next=('Node1',), config={'configurable': {'thread_id': '1', 'thread_ts': '1efa4e48-ee92-6a9f-8002-e78c019f3b3e'}}, metadata={'source': 'loop', 'step': 2, 'writes': {'Node2': {'count': 1, 'lnode': 'node_2'}}}, created_at='2024-11-17T13:05:02.891866+00:00', parent_config={'configurable': {'thread_id': '1', 'thread_ts': '1efa4e48-5fb9-60f9-8001-13f010615126'}}) \n",
      "\n",
      "StateSnapshot(values={'lnode': 'node_2', 'scratch': 'hi', 'count': 4}, next=(), config={'configurable': {'thread_id': '1', 'thread_ts': '1efa4e48-5fc4-666f-8004-96fae4e94139'}}, metadata={'source': 'loop', 'step': 4, 'writes': {'Node2': {'count': 1, 'lnode': 'node_2'}}}, created_at='2024-11-17T13:04:47.917617+00:00', parent_config={'configurable': {'thread_id': '1', 'thread_ts': '1efa4e48-5fc1-6703-8003-cc557b1708fe'}}) \n",
      "\n",
      "StateSnapshot(values={'lnode': 'node_1', 'scratch': 'hi', 'count': 3}, next=('Node2',), config={'configurable': {'thread_id': '1', 'thread_ts': '1efa4e48-5fc1-6703-8003-cc557b1708fe'}}, metadata={'source': 'loop', 'step': 3, 'writes': {'Node1': {'count': 1, 'lnode': 'node_1'}}}, created_at='2024-11-17T13:04:47.916400+00:00', parent_config={'configurable': {'thread_id': '1', 'thread_ts': '1efa4e48-5fbe-65d2-8002-14aa99aa5548'}}) \n",
      "\n",
      "StateSnapshot(values={'lnode': 'node_2', 'scratch': 'hi', 'count': 2}, next=('Node1',), config={'configurable': {'thread_id': '1', 'thread_ts': '1efa4e48-5fbe-65d2-8002-14aa99aa5548'}}, metadata={'source': 'loop', 'step': 2, 'writes': {'Node2': {'count': 1, 'lnode': 'node_2'}}}, created_at='2024-11-17T13:04:47.915139+00:00', parent_config={'configurable': {'thread_id': '1', 'thread_ts': '1efa4e48-5fb9-60f9-8001-13f010615126'}}) \n",
      "\n",
      "StateSnapshot(values={'lnode': 'node_1', 'scratch': 'hi', 'count': 1}, next=('Node2',), config={'configurable': {'thread_id': '1', 'thread_ts': '1efa4e48-5fb9-60f9-8001-13f010615126'}}, metadata={'source': 'loop', 'step': 1, 'writes': {'Node1': {'count': 1, 'lnode': 'node_1'}}}, created_at='2024-11-17T13:04:47.912976+00:00', parent_config={'configurable': {'thread_id': '1', 'thread_ts': '1efa4e48-5fb6-623c-8000-e39fff12c815'}}) \n",
      "\n",
      "StateSnapshot(values={'scratch': 'hi', 'count': 0}, next=('Node1',), config={'configurable': {'thread_id': '1', 'thread_ts': '1efa4e48-5fb6-623c-8000-e39fff12c815'}}, metadata={'source': 'loop', 'step': 0, 'writes': None}, created_at='2024-11-17T13:04:47.911779+00:00', parent_config={'configurable': {'thread_id': '1', 'thread_ts': '1efa4e48-5fb4-6040-bfff-effe79f65d5c'}}) \n",
      "\n",
      "StateSnapshot(values={'count': 0}, next=('__start__',), config={'configurable': {'thread_id': '1', 'thread_ts': '1efa4e48-5fb4-6040-bfff-effe79f65d5c'}}, metadata={'source': 'input', 'step': -1, 'writes': {'count': 0, 'scratch': 'hi'}}, created_at='2024-11-17T13:04:47.910906+00:00', parent_config=None) \n",
      "\n"
     ]
    }
   ],
   "source": [
    "thread = {\"configurable\": {\"thread_id\": str(1)}}\n",
    "for state in graph.get_state_history(thread):\n",
    "    print(state,\"\\n\")"
   ]
  },
  {
   "cell_type": "markdown",
   "id": "d4653f91-761c-4185-8ca2-83de758308c7",
   "metadata": {},
   "source": [
    "### Modify State\n",
    "Let's start by starting a fresh thread and running to clean out history."
   ]
  },
  {
   "cell_type": "code",
   "execution_count": 145,
   "id": "0eaf346c-ce22-4b6a-b18f-d200dfd991de",
   "metadata": {
    "height": 47
   },
   "outputs": [
    {
     "name": "stdout",
     "output_type": "stream",
     "text": [
      "node1, count:0\n",
      "node2, count:1\n",
      "node1, count:2\n",
      "node2, count:3\n"
     ]
    },
    {
     "data": {
      "text/plain": [
       "{'lnode': 'node_2', 'scratch': 'hi', 'count': 4}"
      ]
     },
     "execution_count": 145,
     "metadata": {},
     "output_type": "execute_result"
    }
   ],
   "source": [
    "thread2 = {\"configurable\": {\"thread_id\": str(2)}}\n",
    "graph.invoke({\"count\":0, \"scratch\":\"hi\"},thread2)"
   ]
  },
  {
   "cell_type": "code",
   "execution_count": 146,
   "id": "90fc1797-25e6-4931-b173-2e520b71c372",
   "metadata": {
    "height": 64
   },
   "outputs": [
    {
     "data": {
      "image/png": "[encoded data removed]",
      "text/plain": [
       "<IPython.core.display.Image object>"
      ]
     },
     "execution_count": 146,
     "metadata": {},
     "output_type": "execute_result"
    }
   ],
   "source": [
    "from IPython.display import Image\n",
    "\n",
    "Image(graph.get_graph().draw_png())"
   ]
  },
  {
   "cell_type": "code",
   "execution_count": 147,
   "id": "4ede9215-3133-4ad9-8dd5-6a8288ebe055",
   "metadata": {
    "height": 81
   },
   "outputs": [
    {
     "name": "stdout",
     "output_type": "stream",
     "text": [
      "{'configurable': {'thread_id': '2', 'thread_ts': '1efa4e4d-5dc9-6395-8004-885f6602685c'}} 4\n",
      "{'configurable': {'thread_id': '2', 'thread_ts': '1efa4e4d-5dc6-6a6c-8003-5736d553c8fb'}} 3\n",
      "{'configurable': {'thread_id': '2', 'thread_ts': '1efa4e4d-5dc4-69d0-8002-5cb774c3dc7b'}} 2\n",
      "{'configurable': {'thread_id': '2', 'thread_ts': '1efa4e4d-5dc0-6ae7-8001-7a576080fc16'}} 1\n",
      "{'configurable': {'thread_id': '2', 'thread_ts': '1efa4e4d-5dbb-6dcc-8000-0afd029158f3'}} 0\n",
      "{'configurable': {'thread_id': '2', 'thread_ts': '1efa4e4d-5db9-67c2-bfff-ad1c1daf5272'}} 0\n"
     ]
    }
   ],
   "source": [
    "states2 = []\n",
    "for state in graph.get_state_history(thread2):\n",
    "    states2.append(state.config)\n",
    "    print(state.config, state.values['count'])   "
   ]
  },
  {
   "cell_type": "markdown",
   "id": "23ab2c5f-cb1d-4851-8925-ce0af1f12a40",
   "metadata": {},
   "source": [
    "Start by grabbing a state."
   ]
  },
  {
   "cell_type": "code",
   "execution_count": 148,
   "id": "65313f6a-c7a9-49e3-aab2-0eb905e74a91",
   "metadata": {
    "height": 47
   },
   "outputs": [
    {
     "data": {
      "text/plain": [
       "StateSnapshot(values={'lnode': 'node_1', 'scratch': 'hi', 'count': 1}, next=('Node2',), config={'configurable': {'thread_id': '2', 'thread_ts': '1efa4e4d-5dc0-6ae7-8001-7a576080fc16'}}, metadata={'source': 'loop', 'step': 1, 'writes': {'Node1': {'count': 1, 'lnode': 'node_1'}}}, created_at='2024-11-17T13:07:01.924109+00:00', parent_config={'configurable': {'thread_id': '2', 'thread_ts': '1efa4e4d-5dbb-6dcc-8000-0afd029158f3'}})"
      ]
     },
     "execution_count": 148,
     "metadata": {},
     "output_type": "execute_result"
    }
   ],
   "source": [
    "save_state = graph.get_state(states2[-3])\n",
    "save_state"
   ]
  },
  {
   "cell_type": "markdown",
   "id": "c81b354b-8c2d-4150-9150-ac9d8486af02",
   "metadata": {},
   "source": [
    "Now modify the values. One subtle item to note: Recall when agent state was defined, `count` used `operator.add` to indicate that values are *added* to the current value. Here, `-3` will be added to the current count value rather than replace it."
   ]
  },
  {
   "cell_type": "code",
   "execution_count": 149,
   "id": "dae6527b-912f-4f86-a07b-1fae684aaa77",
   "metadata": {
    "height": 64
   },
   "outputs": [
    {
     "data": {
      "text/plain": [
       "StateSnapshot(values={'lnode': 'node_1', 'scratch': 'hello', 'count': -3}, next=('Node2',), config={'configurable': {'thread_id': '2', 'thread_ts': '1efa4e4d-5dc0-6ae7-8001-7a576080fc16'}}, metadata={'source': 'loop', 'step': 1, 'writes': {'Node1': {'count': 1, 'lnode': 'node_1'}}}, created_at='2024-11-17T13:07:01.924109+00:00', parent_config={'configurable': {'thread_id': '2', 'thread_ts': '1efa4e4d-5dbb-6dcc-8000-0afd029158f3'}})"
      ]
     },
     "execution_count": 149,
     "metadata": {},
     "output_type": "execute_result"
    }
   ],
   "source": [
    "save_state.values[\"count\"] = -3\n",
    "save_state.values[\"scratch\"] = \"hello\"\n",
    "save_state"
   ]
  },
  {
   "cell_type": "markdown",
   "id": "904bb1eb-2e39-472f-ae56-d8e95e2f1ab6",
   "metadata": {},
   "source": [
    "Now update the state. This creates a new entry at the *top*, or *latest* entry in memory. This will become the current state."
   ]
  },
  {
   "cell_type": "code",
   "execution_count": 150,
   "id": "bcd78670-b119-45fa-934b-2ce2d477b4c2",
   "metadata": {
    "height": 30
   },
   "outputs": [
    {
     "data": {
      "text/plain": [
       "{'configurable': {'thread_id': '2',\n",
       "  'thread_ts': '1efa4e4e-b198-610c-8005-5b742f1d465c'}}"
      ]
     },
     "execution_count": 150,
     "metadata": {},
     "output_type": "execute_result"
    }
   ],
   "source": [
    "graph.update_state(thread2,save_state.values)"
   ]
  },
  {
   "cell_type": "markdown",
   "id": "1bb3beed-1c44-4364-bde9-b29ea5e8ca30",
   "metadata": {},
   "source": [
    "Current state is at the top. You can match the `thread_ts`.\n",
    "Notice the `parent_config`, `thread_ts` of the new node - it is the previous node."
   ]
  },
  {
   "cell_type": "code",
   "execution_count": 151,
   "id": "231c7011-afe4-44bf-9e19-16220004912f",
   "metadata": {
    "height": 81
   },
   "outputs": [
    {
     "name": "stdout",
     "output_type": "stream",
     "text": [
      "StateSnapshot(values={'lnode': 'node_1', 'scratch': 'hello', 'count': 1}, next=('Node1',), config={'configurable': {'thread_id': '2', 'thread_ts': '1efa4e4e-b198-610c-8005-5b742f1d465c'}}, metadata={'source': 'update', 'step': 5, 'writes': {'Node2': {'count': -3, 'lnode': 'node_1', 'scratch': 'hello'}}}, created_at='2024-11-17T13:07:37.559057+00:00', parent_config={'configurable': {'thread_id': '2', 'thread_ts': '1efa4e4d-5dc9-6395-8004-885f6602685c'}}) \n",
      "\n",
      "StateSnapshot(values={'lnode': 'node_2', 'scratch': 'hi', 'count': 4}, next=(), config={'configurable': {'thread_id': '2', 'thread_ts': '1efa4e4d-5dc9-6395-8004-885f6602685c'}}, metadata={'source': 'loop', 'step': 4, 'writes': {'Node2': {'count': 1, 'lnode': 'node_2'}}}, created_at='2024-11-17T13:07:01.927608+00:00', parent_config={'configurable': {'thread_id': '2', 'thread_ts': '1efa4e4d-5dc6-6a6c-8003-5736d553c8fb'}}) \n",
      "\n",
      "StateSnapshot(values={'lnode': 'node_1', 'scratch': 'hi', 'count': 3}, next=('Node2',), config={'configurable': {'thread_id': '2', 'thread_ts': '1efa4e4d-5dc6-6a6c-8003-5736d553c8fb'}}, metadata={'source': 'loop', 'step': 3, 'writes': {'Node1': {'count': 1, 'lnode': 'node_1'}}}, created_at='2024-11-17T13:07:01.926556+00:00', parent_config={'configurable': {'thread_id': '2', 'thread_ts': '1efa4e4d-5dc4-69d0-8002-5cb774c3dc7b'}}) \n",
      "\n"
     ]
    }
   ],
   "source": [
    "for i, state in enumerate(graph.get_state_history(thread2)):\n",
    "    if i >= 3:  #print latest 3\n",
    "        break\n",
    "    print(state, '\\n')"
   ]
  },
  {
   "cell_type": "markdown",
   "id": "62d34cd8-99b6-4224-b345-fe8475f2a602",
   "metadata": {},
   "source": [
    "### Try again with `as_node`\n",
    "When writing using `update_state()`, you want to define to the graph logic which node should be assumed as the writer. What this does is allow the graph logic to find the node on the graph. After writing the values, the `next()` value is computed by travesing the graph using the new state. In this case, the state we have was written by `Node1`. The graph can then compute the next state as being `Node2`. Note that in some graphs, this may involve going through conditional edges!  Let's try this out.\n",
    "\n",
    "Ii the previous example, we wrote the state to start from scratch (next was Node1)"
   ]
  },
  {
   "cell_type": "code",
   "execution_count": 152,
   "id": "7bfda2f6-5887-40fa-a733-a4357ad857d8",
   "metadata": {
    "height": 30
   },
   "outputs": [
    {
     "data": {
      "text/plain": [
       "{'configurable': {'thread_id': '2',\n",
       "  'thread_ts': '1efa4e4f-f4f2-6e00-8006-889215d6eeeb'}}"
      ]
     },
     "execution_count": 152,
     "metadata": {},
     "output_type": "execute_result"
    }
   ],
   "source": [
    "graph.update_state(thread2,save_state.values, as_node=\"Node1\")"
   ]
  },
  {
   "cell_type": "code",
   "execution_count": 153,
   "id": "0788ac0f-5f64-49b2-b335-3094bbb19143",
   "metadata": {
    "height": 81
   },
   "outputs": [
    {
     "name": "stdout",
     "output_type": "stream",
     "text": [
      "StateSnapshot(values={'lnode': 'node_1', 'scratch': 'hello', 'count': -2}, next=('Node2',), config={'configurable': {'thread_id': '2', 'thread_ts': '1efa4e4f-f4f2-6e00-8006-889215d6eeeb'}}, metadata={'source': 'update', 'step': 6, 'writes': {'Node1': {'count': -3, 'lnode': 'node_1', 'scratch': 'hello'}}}, created_at='2024-11-17T13:08:11.465251+00:00', parent_config={'configurable': {'thread_id': '2', 'thread_ts': '1efa4e4e-b198-610c-8005-5b742f1d465c'}}) \n",
      "\n",
      "StateSnapshot(values={'lnode': 'node_1', 'scratch': 'hello', 'count': 1}, next=('Node1',), config={'configurable': {'thread_id': '2', 'thread_ts': '1efa4e4e-b198-610c-8005-5b742f1d465c'}}, metadata={'source': 'update', 'step': 5, 'writes': {'Node2': {'count': -3, 'lnode': 'node_1', 'scratch': 'hello'}}}, created_at='2024-11-17T13:07:37.559057+00:00', parent_config={'configurable': {'thread_id': '2', 'thread_ts': '1efa4e4d-5dc9-6395-8004-885f6602685c'}}) \n",
      "\n",
      "StateSnapshot(values={'lnode': 'node_2', 'scratch': 'hi', 'count': 4}, next=(), config={'configurable': {'thread_id': '2', 'thread_ts': '1efa4e4d-5dc9-6395-8004-885f6602685c'}}, metadata={'source': 'loop', 'step': 4, 'writes': {'Node2': {'count': 1, 'lnode': 'node_2'}}}, created_at='2024-11-17T13:07:01.927608+00:00', parent_config={'configurable': {'thread_id': '2', 'thread_ts': '1efa4e4d-5dc6-6a6c-8003-5736d553c8fb'}}) \n",
      "\n"
     ]
    }
   ],
   "source": [
    "for i, state in enumerate(graph.get_state_history(thread2)):\n",
    "    if i >= 3:  #print latest 3\n",
    "        break\n",
    "    print(state, '\\n')"
   ]
  },
  {
   "cell_type": "markdown",
   "id": "18a8f52e-d1a6-46a0-a519-6fda0cb91624",
   "metadata": {},
   "source": [
    "`invoke` will run from the current state if not given a particular `thread_ts`. This is now the entry that was just added.\n",
    "\n",
    "This is where we started 'node1, count:-2'"
   ]
  },
  {
   "cell_type": "code",
   "execution_count": 154,
   "id": "9650d355-07c1-4a7d-a21d-4231673a7ee9",
   "metadata": {
    "height": 30
   },
   "outputs": [
    {
     "name": "stdout",
     "output_type": "stream",
     "text": [
      "node2, count:-2\n",
      "node1, count:-1\n",
      "node2, count:0\n",
      "node1, count:1\n",
      "node2, count:2\n"
     ]
    },
    {
     "data": {
      "text/plain": [
       "{'lnode': 'node_2', 'scratch': 'hello', 'count': 3}"
      ]
     },
     "execution_count": 154,
     "metadata": {},
     "output_type": "execute_result"
    }
   ],
   "source": [
    "graph.invoke(None,thread2)"
   ]
  },
  {
   "cell_type": "markdown",
   "id": "c59d3069-8fe7-4a05-9bfd-8e3a2e4590ad",
   "metadata": {},
   "source": [
    "Print out the state history, notice the `scratch` value change on the latest entries."
   ]
  },
  {
   "cell_type": "code",
   "execution_count": 155,
   "id": "35088704-2b18-4d44-ba0e-dccbfde6ed9e",
   "metadata": {
    "height": 47
   },
   "outputs": [
    {
     "name": "stdout",
     "output_type": "stream",
     "text": [
      "StateSnapshot(values={'lnode': 'node_2', 'scratch': 'hello', 'count': 3}, next=(), config={'configurable': {'thread_id': '2', 'thread_ts': '1efa4e50-cbfd-603c-800b-f18256486a8b'}}, metadata={'source': 'loop', 'step': 11, 'writes': {'Node2': {'count': 1, 'lnode': 'node_2'}}}, created_at='2024-11-17T13:08:34.013788+00:00', parent_config={'configurable': {'thread_id': '2', 'thread_ts': '1efa4e50-cbf9-63f3-800a-bf524326bb05'}}) \n",
      "\n",
      "StateSnapshot(values={'lnode': 'node_1', 'scratch': 'hello', 'count': 2}, next=('Node2',), config={'configurable': {'thread_id': '2', 'thread_ts': '1efa4e50-cbf9-63f3-800a-bf524326bb05'}}, metadata={'source': 'loop', 'step': 10, 'writes': {'Node1': {'count': 1, 'lnode': 'node_1'}}}, created_at='2024-11-17T13:08:34.012242+00:00', parent_config={'configurable': {'thread_id': '2', 'thread_ts': '1efa4e50-cbf6-687a-8009-1abde8523a3c'}}) \n",
      "\n",
      "StateSnapshot(values={'lnode': 'node_2', 'scratch': 'hello', 'count': 1}, next=('Node1',), config={'configurable': {'thread_id': '2', 'thread_ts': '1efa4e50-cbf6-687a-8009-1abde8523a3c'}}, metadata={'source': 'loop', 'step': 9, 'writes': {'Node2': {'count': 1, 'lnode': 'node_2'}}}, created_at='2024-11-17T13:08:34.011132+00:00', parent_config={'configurable': {'thread_id': '2', 'thread_ts': '1efa4e50-cbf2-68ce-8008-bb5d446d4a37'}}) \n",
      "\n",
      "StateSnapshot(values={'lnode': 'node_1', 'scratch': 'hello', 'count': 0}, next=('Node2',), config={'configurable': {'thread_id': '2', 'thread_ts': '1efa4e50-cbf2-68ce-8008-bb5d446d4a37'}}, metadata={'source': 'loop', 'step': 8, 'writes': {'Node1': {'count': 1, 'lnode': 'node_1'}}}, created_at='2024-11-17T13:08:34.009498+00:00', parent_config={'configurable': {'thread_id': '2', 'thread_ts': '1efa4e50-cbef-641a-8007-9800ffe044d3'}}) \n",
      "\n",
      "StateSnapshot(values={'lnode': 'node_2', 'scratch': 'hello', 'count': -1}, next=('Node1',), config={'configurable': {'thread_id': '2', 'thread_ts': '1efa4e50-cbef-641a-8007-9800ffe044d3'}}, metadata={'source': 'loop', 'step': 7, 'writes': {'Node2': {'count': 1, 'lnode': 'node_2'}}}, created_at='2024-11-17T13:08:34.008147+00:00', parent_config={'configurable': {'thread_id': '2', 'thread_ts': '1efa4e4f-f4f2-6e00-8006-889215d6eeeb'}}) \n",
      "\n",
      "StateSnapshot(values={'lnode': 'node_1', 'scratch': 'hello', 'count': -2}, next=('Node2',), config={'configurable': {'thread_id': '2', 'thread_ts': '1efa4e4f-f4f2-6e00-8006-889215d6eeeb'}}, metadata={'source': 'update', 'step': 6, 'writes': {'Node1': {'count': -3, 'lnode': 'node_1', 'scratch': 'hello'}}}, created_at='2024-11-17T13:08:11.465251+00:00', parent_config={'configurable': {'thread_id': '2', 'thread_ts': '1efa4e4e-b198-610c-8005-5b742f1d465c'}}) \n",
      "\n",
      "StateSnapshot(values={'lnode': 'node_1', 'scratch': 'hello', 'count': 1}, next=('Node1',), config={'configurable': {'thread_id': '2', 'thread_ts': '1efa4e4e-b198-610c-8005-5b742f1d465c'}}, metadata={'source': 'update', 'step': 5, 'writes': {'Node2': {'count': -3, 'lnode': 'node_1', 'scratch': 'hello'}}}, created_at='2024-11-17T13:07:37.559057+00:00', parent_config={'configurable': {'thread_id': '2', 'thread_ts': '1efa4e4d-5dc9-6395-8004-885f6602685c'}}) \n",
      "\n",
      "StateSnapshot(values={'lnode': 'node_2', 'scratch': 'hi', 'count': 4}, next=(), config={'configurable': {'thread_id': '2', 'thread_ts': '1efa4e4d-5dc9-6395-8004-885f6602685c'}}, metadata={'source': 'loop', 'step': 4, 'writes': {'Node2': {'count': 1, 'lnode': 'node_2'}}}, created_at='2024-11-17T13:07:01.927608+00:00', parent_config={'configurable': {'thread_id': '2', 'thread_ts': '1efa4e4d-5dc6-6a6c-8003-5736d553c8fb'}}) \n",
      "\n",
      "StateSnapshot(values={'lnode': 'node_1', 'scratch': 'hi', 'count': 3}, next=('Node2',), config={'configurable': {'thread_id': '2', 'thread_ts': '1efa4e4d-5dc6-6a6c-8003-5736d553c8fb'}}, metadata={'source': 'loop', 'step': 3, 'writes': {'Node1': {'count': 1, 'lnode': 'node_1'}}}, created_at='2024-11-17T13:07:01.926556+00:00', parent_config={'configurable': {'thread_id': '2', 'thread_ts': '1efa4e4d-5dc4-69d0-8002-5cb774c3dc7b'}}) \n",
      "\n",
      "StateSnapshot(values={'lnode': 'node_2', 'scratch': 'hi', 'count': 2}, next=('Node1',), config={'configurable': {'thread_id': '2', 'thread_ts': '1efa4e4d-5dc4-69d0-8002-5cb774c3dc7b'}}, metadata={'source': 'loop', 'step': 2, 'writes': {'Node2': {'count': 1, 'lnode': 'node_2'}}}, created_at='2024-11-17T13:07:01.925719+00:00', parent_config={'configurable': {'thread_id': '2', 'thread_ts': '1efa4e4d-5dc0-6ae7-8001-7a576080fc16'}}) \n",
      "\n",
      "StateSnapshot(values={'lnode': 'node_1', 'scratch': 'hi', 'count': 1}, next=('Node2',), config={'configurable': {'thread_id': '2', 'thread_ts': '1efa4e4d-5dc0-6ae7-8001-7a576080fc16'}}, metadata={'source': 'loop', 'step': 1, 'writes': {'Node1': {'count': 1, 'lnode': 'node_1'}}}, created_at='2024-11-17T13:07:01.924109+00:00', parent_config={'configurable': {'thread_id': '2', 'thread_ts': '1efa4e4d-5dbb-6dcc-8000-0afd029158f3'}}) \n",
      "\n",
      "StateSnapshot(values={'scratch': 'hi', 'count': 0}, next=('Node1',), config={'configurable': {'thread_id': '2', 'thread_ts': '1efa4e4d-5dbb-6dcc-8000-0afd029158f3'}}, metadata={'source': 'loop', 'step': 0, 'writes': None}, created_at='2024-11-17T13:07:01.922127+00:00', parent_config={'configurable': {'thread_id': '2', 'thread_ts': '1efa4e4d-5db9-67c2-bfff-ad1c1daf5272'}}) \n",
      "\n",
      "StateSnapshot(values={'count': 0}, next=('__start__',), config={'configurable': {'thread_id': '2', 'thread_ts': '1efa4e4d-5db9-67c2-bfff-ad1c1daf5272'}}, metadata={'source': 'input', 'step': -1, 'writes': {'count': 0, 'scratch': 'hi'}}, created_at='2024-11-17T13:07:01.921160+00:00', parent_config=None) \n",
      "\n"
     ]
    }
   ],
   "source": [
    "for state in graph.get_state_history(thread2):\n",
    "    print(state,\"\\n\")"
   ]
  },
  {
   "cell_type": "markdown",
   "id": "a5ea1bba-cf12-4493-948b-08b300054742",
   "metadata": {},
   "source": [
    "Continue to experiment!"
   ]
  },
  {
   "cell_type": "code",
   "execution_count": null,
   "id": "393f7f1f-68b4-4462-bfa5-b6472ef1304a",
   "metadata": {
    "height": 30
   },
   "outputs": [],
   "source": []
  },
  {
   "cell_type": "code",
   "execution_count": null,
   "id": "43ac0aa9-baa7-4b58-889d-2118cc00c6b5",
   "metadata": {
    "height": 30
   },
   "outputs": [],
   "source": []
  },
  {
   "cell_type": "code",
   "execution_count": null,
   "id": "ed6098b9-e2a9-4767-8cb5-346db835c8d2",
   "metadata": {
    "height": 30
   },
   "outputs": [],
   "source": []
  },
  {
   "cell_type": "code",
   "execution_count": null,
   "id": "2d23cf2a-a179-44dc-9ae3-2eddda4b67b4",
   "metadata": {
    "height": 30
   },
   "outputs": [],
   "source": []
  },
  {
   "cell_type": "code",
   "execution_count": null,
   "id": "14a6005b-0221-4f5e-9be0-0580c1d03126",
   "metadata": {
    "height": 30
   },
   "outputs": [],
   "source": []
  },
  {
   "cell_type": "code",
   "execution_count": null,
   "id": "41c1ec12-f1c8-41ae-bb3e-5f28997b9b99",
   "metadata": {
    "height": 30
   },
   "outputs": [],
   "source": []
  },
  {
   "cell_type": "code",
   "execution_count": null,
   "id": "5c8c07d7-be17-4c17-82c5-6fe1db028b8b",
   "metadata": {
    "height": 30
   },
   "outputs": [],
   "source": []
  },
  {
   "cell_type": "code",
   "execution_count": null,
   "id": "04592c8e-1cfe-4b26-93b5-caf1ed1e7d24",
   "metadata": {
    "height": 30
   },
   "outputs": [],
   "source": []
  },
  {
   "cell_type": "code",
   "execution_count": null,
   "id": "6181c4a9-0e71-4f67-b71f-18a225e37202",
   "metadata": {
    "height": 30
   },
   "outputs": [],
   "source": []
  },
  {
   "cell_type": "code",
   "execution_count": null,
   "id": "e1c478a9-7bfe-49e2-8a7d-1536271f45a6",
   "metadata": {
    "height": 30
   },
   "outputs": [],
   "source": []
  },
  {
   "cell_type": "code",
   "execution_count": null,
   "id": "0a6d6771-3fad-4f37-9b32-45b36ad85c59",
   "metadata": {
    "height": 30
   },
   "outputs": [],
   "source": []
  },
  {
   "cell_type": "code",
   "execution_count": null,
   "id": "a3629eb3-655d-467a-b413-63f547c2de08",
   "metadata": {
    "height": 30
   },
   "outputs": [],
   "source": []
  },
  {
   "cell_type": "code",
   "execution_count": null,
   "id": "f772f251-2b61-4d10-97c5-61cef9207a76",
   "metadata": {
    "height": 30
   },
   "outputs": [],
   "source": []
  },
  {
   "cell_type": "code",
   "execution_count": null,
   "id": "0de92979-7ac5-4a7c-91c1-10806b7d529c",
   "metadata": {
    "height": 30
   },
   "outputs": [],
   "source": []
  },
  {
   "cell_type": "code",
   "execution_count": null,
   "id": "479c4325-f625-4bbf-9d74-cc58f10763f2",
   "metadata": {
    "height": 30
   },
   "outputs": [],
   "source": []
  },
  {
   "cell_type": "code",
   "execution_count": null,
   "id": "c4070be7-72da-42f9-a25d-8a6c628788b8",
   "metadata": {
    "height": 30
   },
   "outputs": [],
   "source": []
  },
  {
   "cell_type": "code",
   "execution_count": null,
   "id": "9289efbe-7033-4f32-8482-2039c5f9db90",
   "metadata": {
    "height": 30
   },
   "outputs": [],
   "source": []
  },
  {
   "cell_type": "code",
   "execution_count": null,
   "id": "25e480bb-22ab-4acb-a42c-71da3d04a5b1",
   "metadata": {
    "height": 30
   },
   "outputs": [],
   "source": []
  },
  {
   "cell_type": "code",
   "execution_count": null,
   "id": "90dea35c-7483-4b3d-b5e3-76eb3a0fe536",
   "metadata": {
    "height": 30
   },
   "outputs": [],
   "source": []
  },
  {
   "cell_type": "code",
   "execution_count": null,
   "id": "e9ac5730-a9d5-4ea4-8546-ebcb265cf1da",
   "metadata": {
    "height": 30
   },
   "outputs": [],
   "source": []
  },
  {
   "cell_type": "code",
   "execution_count": null,
   "id": "96e1f28b-46d8-4bcd-b2e4-730376ee7ccf",
   "metadata": {
    "height": 30
   },
   "outputs": [],
   "source": []
  },
  {
   "cell_type": "code",
   "execution_count": null,
   "id": "22ac7020-b4f4-4bd2-a875-ccee93f83d83",
   "metadata": {
    "height": 30
   },
   "outputs": [],
   "source": []
  },
  {
   "cell_type": "code",
   "execution_count": null,
   "id": "61f79eb9-d1c9-44b0-9efd-a8f9b380332a",
   "metadata": {
    "height": 30
   },
   "outputs": [],
   "source": []
  },
  {
   "cell_type": "code",
   "execution_count": null,
   "id": "ce509206-bde1-43e4-a88f-8a565539d357",
   "metadata": {
    "height": 30
   },
   "outputs": [],
   "source": []
  },
  {
   "cell_type": "code",
   "execution_count": null,
   "id": "bdba1590-9e7b-4c0f-9492-81a07d286c55",
   "metadata": {
    "height": 30
   },
   "outputs": [],
   "source": []
  },
  {
   "cell_type": "code",
   "execution_count": null,
   "id": "aa8fe4a8-5372-479d-b248-af7a295c86c1",
   "metadata": {
    "height": 30
   },
   "outputs": [],
   "source": []
  },
  {
   "cell_type": "code",
   "execution_count": null,
   "id": "7514720a-14bc-4552-ade5-fa03f86f4c73",
   "metadata": {
    "height": 30
   },
   "outputs": [],
   "source": []
  }
 ],
 "metadata": {
  "kernelspec": {
   "display_name": "Python 3 (ipykernel)",
   "language": "python",
   "name": "python3"
  },
  "language_info": {
   "codemirror_mode": {
    "name": "ipython",
    "version": 3
   },
   "file_extension": ".py",
   "mimetype": "text/x-python",
   "name": "python",
   "nbconvert_exporter": "python",
   "pygments_lexer": "ipython3",
   "version": "3.11.9"
  }
 },
 "nbformat": 4,
 "nbformat_minor": 5
}
